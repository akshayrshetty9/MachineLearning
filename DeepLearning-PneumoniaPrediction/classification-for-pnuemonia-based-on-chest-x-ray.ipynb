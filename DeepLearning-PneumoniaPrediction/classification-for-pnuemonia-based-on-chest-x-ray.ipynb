{
 "cells": [
  {
   "cell_type": "code",
   "execution_count": 1,
   "id": "2bc0d161",
   "metadata": {
    "execution": {
     "iopub.execute_input": "2023-03-13T17:01:16.988702Z",
     "iopub.status.busy": "2023-03-13T17:01:16.988224Z",
     "iopub.status.idle": "2023-03-13T17:01:16.999253Z",
     "shell.execute_reply": "2023-03-13T17:01:16.998327Z"
    },
    "id": "CmmfESyAoJ2H",
    "papermill": {
     "duration": 0.02826,
     "end_time": "2023-03-13T17:01:17.001542",
     "exception": false,
     "start_time": "2023-03-13T17:01:16.973282",
     "status": "completed"
    },
    "tags": []
   },
   "outputs": [],
   "source": [
    "from IPython.core.interactiveshell import InteractiveShell\n",
    "InteractiveShell.ast_node_interactivity = \"all\""
   ]
  },
  {
   "cell_type": "markdown",
   "id": "bc7edd4d",
   "metadata": {
    "id": "a3RaZykio1_a",
    "papermill": {
     "duration": 0.012259,
     "end_time": "2023-03-13T17:01:17.026363",
     "exception": false,
     "start_time": "2023-03-13T17:01:17.014104",
     "status": "completed"
    },
    "tags": []
   },
   "source": [
    "**Call Libraries**"
   ]
  },
  {
   "cell_type": "code",
   "execution_count": 2,
   "id": "e74fe7fd",
   "metadata": {
    "execution": {
     "iopub.execute_input": "2023-03-13T17:01:17.051999Z",
     "iopub.status.busy": "2023-03-13T17:01:17.051395Z",
     "iopub.status.idle": "2023-03-13T17:01:25.785934Z",
     "shell.execute_reply": "2023-03-13T17:01:25.784848Z"
    },
    "id": "nNnrP1pQo5eg",
    "outputId": "92bfec6d-fb17-46aa-87df-cefcc4046420",
    "papermill": {
     "duration": 8.750427,
     "end_time": "2023-03-13T17:01:25.788681",
     "exception": false,
     "start_time": "2023-03-13T17:01:17.038254",
     "status": "completed"
    },
    "tags": []
   },
   "outputs": [],
   "source": [
    "\n",
    "import pandas as pd\n",
    "\n",
    "# 1.1 Call libraries for image processing\n",
    "#     Another preprocessing option is text and sequence\n",
    "from tensorflow.keras.preprocessing.image import ImageDataGenerator\n",
    "\n",
    "import tensorflow as tf\n",
    "\n",
    "# 1.2, Libraries for building sequential CNN model\n",
    "#      A model is composed of sequence of layered objects\n",
    "from tensorflow.keras.models import Sequential\n",
    "from tensorflow.keras.layers import Conv2D, MaxPool2D\n",
    "from tensorflow.keras.layers import Activation, Dropout, Flatten, Dense, Input, BatchNormalization\n",
    "\n",
    "\n",
    "from tensorflow.keras import backend as K\n",
    "\n",
    "# 1.4 Save CNN model configuration\n",
    "from tensorflow.keras.models import model_from_json\n",
    "\n",
    "# 1.5 OS related\n",
    "import os\n",
    "\n",
    "# 1.6 For ROC plotting\n",
    "import matplotlib.pyplot as plt\n",
    "\n",
    "# 1.7\n",
    "import numpy as np\n",
    "# conda install scikit-learn\n",
    "from sklearn import metrics\n",
    "import time\n",
    "#from skimage import exposure           # Not used\n",
    "\n"
   ]
  },
  {
   "cell_type": "markdown",
   "id": "88c51660",
   "metadata": {
    "id": "7nDDhEo4rP53",
    "papermill": {
     "duration": 0.012832,
     "end_time": "2023-03-13T17:01:25.813946",
     "exception": false,
     "start_time": "2023-03-13T17:01:25.801114",
     "status": "completed"
    },
    "tags": []
   },
   "source": [
    "**Define Constants**"
   ]
  },
  {
   "cell_type": "code",
   "execution_count": 3,
   "id": "646144ba",
   "metadata": {
    "execution": {
     "iopub.execute_input": "2023-03-13T17:01:25.840877Z",
     "iopub.status.busy": "2023-03-13T17:01:25.839720Z",
     "iopub.status.idle": "2023-03-13T17:01:25.852443Z",
     "shell.execute_reply": "2023-03-13T17:01:25.849763Z"
    },
    "id": "dYR7SYJdrQni",
    "papermill": {
     "duration": 0.032289,
     "end_time": "2023-03-13T17:01:25.858279",
     "exception": false,
     "start_time": "2023-03-13T17:01:25.825990",
     "status": "completed"
    },
    "tags": []
   },
   "outputs": [],
   "source": [
    "img_width, img_height = 224, 224"
   ]
  },
  {
   "cell_type": "markdown",
   "id": "49284bbf",
   "metadata": {
    "papermill": {
     "duration": 0.023574,
     "end_time": "2023-03-13T17:01:25.902665",
     "exception": false,
     "start_time": "2023-03-13T17:01:25.879091",
     "status": "completed"
    },
    "tags": []
   },
   "source": [
    "## 1. Model with padding in the initial convolution layers"
   ]
  },
  {
   "cell_type": "code",
   "execution_count": 4,
   "id": "f11e8c05",
   "metadata": {
    "execution": {
     "iopub.execute_input": "2023-03-13T17:01:25.949163Z",
     "iopub.status.busy": "2023-03-13T17:01:25.948678Z",
     "iopub.status.idle": "2023-03-13T17:01:30.364368Z",
     "shell.execute_reply": "2023-03-13T17:01:30.363383Z"
    },
    "papermill": {
     "duration": 4.442296,
     "end_time": "2023-03-13T17:01:30.366848",
     "exception": false,
     "start_time": "2023-03-13T17:01:25.924552",
     "status": "completed"
    },
    "tags": []
   },
   "outputs": [],
   "source": [
    "model = tf.keras.Sequential() \n",
    "model.add(Input(shape=(224,224,3)),)\n",
    "model.add(tf.keras.layers.Conv2D(filters = 128 , kernel_size=(3,3),strides=1 , activation ='relu',))\n",
    "model.add(tf.keras.layers.MaxPool2D())\n",
    "model.add(tf.keras.layers.Conv2D(filters = 256 , kernel_size=(3,3),strides=1 , activation ='relu',padding ='same'))\n",
    "model.add(tf.keras.layers.Conv2D(filters = 512 , kernel_size=(3,3),strides=1 , activation ='relu',padding ='same'))\n",
    "model.add(tf.keras.layers.MaxPool2D())\n",
    "model.add(tf.keras.layers.Conv2D(filters = 128 , kernel_size=(3,3),strides=1 , activation ='relu'))\n",
    "model.add(tf.keras.layers.Conv2D(filters = 256 , kernel_size=(3,3),strides=1 , activation ='relu'))\n",
    "model.add(tf.keras.layers.MaxPool2D())\n",
    "model.add(tf.keras.layers.Conv2D(filters = 64 , kernel_size=(3,3),strides=1 , activation ='relu'))\n",
    "model.add(tf.keras.layers.Conv2D(filters = 128 , kernel_size=(3,3),strides=1 , activation ='relu'))\n",
    "model.add(tf.keras.layers.Flatten())\n",
    "model.add(tf.keras.layers.Dense(units=512 , activation ='relu'))\n",
    "model.add(tf.keras.layers.Dense(units=128 , activation ='relu'))\n",
    "model.add(tf.keras.layers.Dense(1,activation='sigmoid'))"
   ]
  },
  {
   "cell_type": "code",
   "execution_count": 5,
   "id": "9a33f5f1",
   "metadata": {
    "execution": {
     "iopub.execute_input": "2023-03-13T17:01:30.393025Z",
     "iopub.status.busy": "2023-03-13T17:01:30.392728Z",
     "iopub.status.idle": "2023-03-13T17:01:30.575055Z",
     "shell.execute_reply": "2023-03-13T17:01:30.573967Z"
    },
    "id": "ECqp8qZTroy2",
    "papermill": {
     "duration": 0.19823,
     "end_time": "2023-03-13T17:01:30.577573",
     "exception": false,
     "start_time": "2023-03-13T17:01:30.379343",
     "status": "completed"
    },
    "tags": []
   },
   "outputs": [],
   "source": [
    "model.compile(loss='binary_crossentropy',metrics='accuracy',optimizer='adam')"
   ]
  },
  {
   "cell_type": "code",
   "execution_count": 6,
   "id": "bd2c1581",
   "metadata": {
    "execution": {
     "iopub.execute_input": "2023-03-13T17:01:30.603519Z",
     "iopub.status.busy": "2023-03-13T17:01:30.603216Z",
     "iopub.status.idle": "2023-03-13T17:01:30.642871Z",
     "shell.execute_reply": "2023-03-13T17:01:30.641906Z"
    },
    "id": "vQNTDaEHrqux",
    "outputId": "a06391c5-f060-4ee7-87a2-d9b40db7acb8",
    "papermill": {
     "duration": 0.082451,
     "end_time": "2023-03-13T17:01:30.672464",
     "exception": false,
     "start_time": "2023-03-13T17:01:30.590013",
     "status": "completed"
    },
    "tags": []
   },
   "outputs": [
    {
     "name": "stdout",
     "output_type": "stream",
     "text": [
      "Model: \"sequential\"\n",
      "_________________________________________________________________\n",
      " Layer (type)                Output Shape              Param #   \n",
      "=================================================================\n",
      " conv2d (Conv2D)             (None, 222, 222, 128)     3584      \n",
      "                                                                 \n",
      " max_pooling2d (MaxPooling2D  (None, 111, 111, 128)    0         \n",
      " )                                                               \n",
      "                                                                 \n",
      " conv2d_1 (Conv2D)           (None, 111, 111, 256)     295168    \n",
      "                                                                 \n",
      " conv2d_2 (Conv2D)           (None, 111, 111, 512)     1180160   \n",
      "                                                                 \n",
      " max_pooling2d_1 (MaxPooling  (None, 55, 55, 512)      0         \n",
      " 2D)                                                             \n",
      "                                                                 \n",
      " conv2d_3 (Conv2D)           (None, 53, 53, 128)       589952    \n",
      "                                                                 \n",
      " conv2d_4 (Conv2D)           (None, 51, 51, 256)       295168    \n",
      "                                                                 \n",
      " max_pooling2d_2 (MaxPooling  (None, 25, 25, 256)      0         \n",
      " 2D)                                                             \n",
      "                                                                 \n",
      " conv2d_5 (Conv2D)           (None, 23, 23, 64)        147520    \n",
      "                                                                 \n",
      " conv2d_6 (Conv2D)           (None, 21, 21, 128)       73856     \n",
      "                                                                 \n",
      " flatten (Flatten)           (None, 56448)             0         \n",
      "                                                                 \n",
      " dense (Dense)               (None, 512)               28901888  \n",
      "                                                                 \n",
      " dense_1 (Dense)             (None, 128)               65664     \n",
      "                                                                 \n",
      " dense_2 (Dense)             (None, 1)                 129       \n",
      "                                                                 \n",
      "=================================================================\n",
      "Total params: 31,553,089\n",
      "Trainable params: 31,553,089\n",
      "Non-trainable params: 0\n",
      "_________________________________________________________________\n"
     ]
    }
   ],
   "source": [
    "model.summary()"
   ]
  },
  {
   "cell_type": "markdown",
   "id": "a1e23c8b",
   "metadata": {
    "id": "nrPDzagt12t0",
    "papermill": {
     "duration": 0.014492,
     "end_time": "2023-03-13T17:01:30.701216",
     "exception": false,
     "start_time": "2023-03-13T17:01:30.686724",
     "status": "completed"
    },
    "tags": []
   },
   "source": [
    "image augmentation of training data"
   ]
  },
  {
   "cell_type": "code",
   "execution_count": 7,
   "id": "83271dc3",
   "metadata": {
    "execution": {
     "iopub.execute_input": "2023-03-13T17:01:30.731967Z",
     "iopub.status.busy": "2023-03-13T17:01:30.731637Z",
     "iopub.status.idle": "2023-03-13T17:01:35.377584Z",
     "shell.execute_reply": "2023-03-13T17:01:35.376648Z"
    },
    "id": "MJ0ouCvgrtdW",
    "outputId": "c7f93f2f-abdf-4f02-cc2d-948ac06a87b6",
    "papermill": {
     "duration": 4.664143,
     "end_time": "2023-03-13T17:01:35.380105",
     "exception": false,
     "start_time": "2023-03-13T17:01:30.715962",
     "status": "completed"
    },
    "tags": []
   },
   "outputs": [
    {
     "name": "stdout",
     "output_type": "stream",
     "text": [
      "Found 5216 images belonging to 2 classes.\n",
      "Found 16 images belonging to 2 classes.\n"
     ]
    }
   ],
   "source": [
    "train_gen = ImageDataGenerator(\n",
    "                           brightness_range=[0.3,0.9],\n",
    "                        shear_range=10 ,\n",
    "                        horizontal_flip=True,\n",
    "                         featurewise_center = False,\n",
    "                        zca_whitening=False,\n",
    "                         width_shift_range=0.1 ,\n",
    "                         height_shift_range=0.1\n",
    ")\n",
    "\n",
    "\n",
    "\n",
    "train_iter = train_gen.flow_from_directory( directory = \"/kaggle/input/chest-xray-pneumonia/chest_xray/train\" , \n",
    "                            target_size=(img_height,img_width), \n",
    "                            batch_size=32,\n",
    "                            class_mode='binary')\n",
    "\n",
    "\n",
    "val_gen = ImageDataGenerator(rescale = 1.0/255.0)\n",
    "\n",
    "val_iter = val_gen.flow_from_directory(\"/kaggle/input/chest-xray-pneumonia/chest_xray/val\",\n",
    "                                     target_size=(img_height,img_width),\n",
    "                                     batch_size=8,\n",
    "                                    class_mode='binary')"
   ]
  },
  {
   "cell_type": "code",
   "execution_count": 8,
   "id": "547f5305",
   "metadata": {
    "execution": {
     "iopub.execute_input": "2023-03-13T17:01:35.411193Z",
     "iopub.status.busy": "2023-03-13T17:01:35.410218Z",
     "iopub.status.idle": "2023-03-13T17:33:50.251897Z",
     "shell.execute_reply": "2023-03-13T17:33:50.250365Z"
    },
    "papermill": {
     "duration": 1934.860128,
     "end_time": "2023-03-13T17:33:50.254854",
     "exception": false,
     "start_time": "2023-03-13T17:01:35.394726",
     "status": "completed"
    },
    "tags": []
   },
   "outputs": [
    {
     "name": "stdout",
     "output_type": "stream",
     "text": [
      "Epoch 1/12\n",
      "163/163 [==============================] - 222s 1s/step - loss: 4.0690 - accuracy: 0.7387 - val_loss: 0.8085 - val_accuracy: 0.5000\n",
      "Epoch 2/12\n",
      "163/163 [==============================] - 150s 916ms/step - loss: 0.4099 - accuracy: 0.8090 - val_loss: 0.9528 - val_accuracy: 0.5000\n",
      "Epoch 3/12\n",
      "163/163 [==============================] - 151s 925ms/step - loss: 0.2622 - accuracy: 0.8951 - val_loss: 1.7646 - val_accuracy: 0.5000\n",
      "Epoch 4/12\n",
      "163/163 [==============================] - 150s 920ms/step - loss: 0.2146 - accuracy: 0.9179 - val_loss: 2.9953 - val_accuracy: 0.5000\n",
      "Epoch 5/12\n",
      "163/163 [==============================] - 151s 923ms/step - loss: 0.1978 - accuracy: 0.9281 - val_loss: 2.9509 - val_accuracy: 0.5000\n",
      "Epoch 6/12\n",
      "163/163 [==============================] - 152s 930ms/step - loss: 0.1670 - accuracy: 0.9346 - val_loss: 3.0524 - val_accuracy: 0.5000\n",
      "Epoch 7/12\n",
      "163/163 [==============================] - 156s 958ms/step - loss: 0.1573 - accuracy: 0.9452 - val_loss: 3.1121 - val_accuracy: 0.5000\n",
      "Epoch 8/12\n",
      "163/163 [==============================] - 151s 927ms/step - loss: 0.1496 - accuracy: 0.9404 - val_loss: 2.9436 - val_accuracy: 0.5000\n",
      "Epoch 9/12\n",
      "163/163 [==============================] - 150s 916ms/step - loss: 0.1623 - accuracy: 0.9400 - val_loss: 2.7287 - val_accuracy: 0.5000\n",
      "Epoch 10/12\n",
      "163/163 [==============================] - 148s 908ms/step - loss: 0.1421 - accuracy: 0.9517 - val_loss: 3.7626 - val_accuracy: 0.5000\n",
      "Epoch 11/12\n",
      "163/163 [==============================] - 150s 919ms/step - loss: 0.1350 - accuracy: 0.9511 - val_loss: 3.7877 - val_accuracy: 0.5000\n",
      "Epoch 12/12\n",
      "163/163 [==============================] - 147s 901ms/step - loss: 0.1301 - accuracy: 0.9511 - val_loss: 1.3567 - val_accuracy: 0.5000\n"
     ]
    }
   ],
   "source": [
    "history = model.fit(train_iter,\n",
    "          epochs=12 ,\n",
    "          validation_data=val_iter)"
   ]
  },
  {
   "cell_type": "code",
   "execution_count": 9,
   "id": "08f0da14",
   "metadata": {
    "execution": {
     "iopub.execute_input": "2023-03-13T17:33:50.538522Z",
     "iopub.status.busy": "2023-03-13T17:33:50.538169Z",
     "iopub.status.idle": "2023-03-13T17:33:50.757436Z",
     "shell.execute_reply": "2023-03-13T17:33:50.756479Z"
    },
    "papermill": {
     "duration": 0.385265,
     "end_time": "2023-03-13T17:33:50.759559",
     "exception": false,
     "start_time": "2023-03-13T17:33:50.374294",
     "status": "completed"
    },
    "tags": []
   },
   "outputs": [
    {
     "data": {
      "image/png": "[encoded data removed]",
      "text/plain": [
       "<Figure size 640x480 with 1 Axes>"
      ]
     },
     "metadata": {},
     "output_type": "display_data"
    }
   ],
   "source": [
    "\n",
    "def plot_history():\n",
    "    val_acc = history.history['val_accuracy']\n",
    "    tr_acc=history.history['accuracy']\n",
    "    epochs = range(1, len(val_acc) +1)\n",
    "    plt.plot(epochs,val_acc, 'b', label = \"Validation accu\")\n",
    "    plt.plot(epochs, tr_acc, 'r', label = \"Training accu\")\n",
    "    plt.title(\"Training and validation accuracy\")\n",
    "    plt.legend()\n",
    "    plt.show()\n",
    "\n",
    "plot_history()"
   ]
  },
  {
   "cell_type": "code",
   "execution_count": 10,
   "id": "2c90fae4",
   "metadata": {
    "execution": {
     "iopub.execute_input": "2023-03-13T17:33:50.997345Z",
     "iopub.status.busy": "2023-03-13T17:33:50.997016Z",
     "iopub.status.idle": "2023-03-13T17:33:51.112172Z",
     "shell.execute_reply": "2023-03-13T17:33:51.110927Z"
    },
    "id": "Z-0J4lNizW8Q",
    "outputId": "0d3c5af7-0cc1-43fe-dbd7-fe89503794f8",
    "papermill": {
     "duration": 0.236358,
     "end_time": "2023-03-13T17:33:51.114524",
     "exception": false,
     "start_time": "2023-03-13T17:33:50.878166",
     "status": "completed"
    },
    "tags": []
   },
   "outputs": [
    {
     "name": "stdout",
     "output_type": "stream",
     "text": [
      "Found 624 images belonging to 2 classes.\n"
     ]
    }
   ],
   "source": [
    "test_gen = ImageDataGenerator(rescale = 1.0/255.0)\n",
    "test_iter = test_gen.flow_from_directory(\"/kaggle/input/chest-xray-pneumonia/chest_xray/test\",\n",
    "                                     target_size=(img_height,img_width),\n",
    "                                     batch_size=16,\n",
    "                            class_mode='binary')"
   ]
  },
  {
   "cell_type": "code",
   "execution_count": 11,
   "id": "a0845e6f",
   "metadata": {
    "execution": {
     "iopub.execute_input": "2023-03-13T17:33:51.371842Z",
     "iopub.status.busy": "2023-03-13T17:33:51.371073Z",
     "iopub.status.idle": "2023-03-13T17:34:12.277097Z",
     "shell.execute_reply": "2023-03-13T17:34:12.275947Z"
    },
    "id": "3phfNR9nzYwE",
    "outputId": "1bd3226c-85fc-4dcb-bcac-2b57d80d0c3c",
    "papermill": {
     "duration": 21.037811,
     "end_time": "2023-03-13T17:34:12.279764",
     "exception": false,
     "start_time": "2023-03-13T17:33:51.241953",
     "status": "completed"
    },
    "tags": []
   },
   "outputs": [
    {
     "name": "stdout",
     "output_type": "stream",
     "text": [
      "39/39 [==============================] - 17s 275ms/step\n"
     ]
    }
   ],
   "source": [
    "pred = model.predict(test_iter, steps = 39)"
   ]
  },
  {
   "cell_type": "code",
   "execution_count": 12,
   "id": "4e5ff4b2",
   "metadata": {
    "execution": {
     "iopub.execute_input": "2023-03-13T17:34:12.522842Z",
     "iopub.status.busy": "2023-03-13T17:34:12.522440Z",
     "iopub.status.idle": "2023-03-13T17:34:12.529189Z",
     "shell.execute_reply": "2023-03-13T17:34:12.528195Z"
    },
    "id": "KsDA-KNovFBh",
    "outputId": "eaee7207-d7a4-40c0-d95f-54e84f397c69",
    "papermill": {
     "duration": 0.13017,
     "end_time": "2023-03-13T17:34:12.531844",
     "exception": false,
     "start_time": "2023-03-13T17:34:12.401674",
     "status": "completed"
    },
    "tags": []
   },
   "outputs": [
    {
     "data": {
      "text/plain": [
       "624"
      ]
     },
     "execution_count": 12,
     "metadata": {},
     "output_type": "execute_result"
    }
   ],
   "source": [
    "len(pred)"
   ]
  },
  {
   "cell_type": "code",
   "execution_count": 13,
   "id": "142a949b",
   "metadata": {
    "execution": {
     "iopub.execute_input": "2023-03-13T17:34:12.774307Z",
     "iopub.status.busy": "2023-03-13T17:34:12.774001Z",
     "iopub.status.idle": "2023-03-13T17:34:12.784970Z",
     "shell.execute_reply": "2023-03-13T17:34:12.783755Z"
    },
    "id": "sLFwyDinzcYu",
    "outputId": "3f4f899d-3a17-4a3b-a693-e0c3cf7411da",
    "papermill": {
     "duration": 0.134945,
     "end_time": "2023-03-13T17:34:12.787197",
     "exception": false,
     "start_time": "2023-03-13T17:34:12.652252",
     "status": "completed"
    },
    "tags": []
   },
   "outputs": [
    {
     "data": {
      "text/plain": [
       "0.68959546"
      ]
     },
     "execution_count": 13,
     "metadata": {},
     "output_type": "execute_result"
    },
    {
     "name": "stdout",
     "output_type": "stream",
     "text": [
      "======\n"
     ]
    },
    {
     "data": {
      "text/plain": [
       "0.98563737"
      ]
     },
     "execution_count": 13,
     "metadata": {},
     "output_type": "execute_result"
    }
   ],
   "source": [
    "pred.min() \n",
    "print(\"======\")\n",
    "pred.max()"
   ]
  },
  {
   "cell_type": "markdown",
   "id": "b7788ddb",
   "metadata": {
    "papermill": {
     "duration": 0.119568,
     "end_time": "2023-03-13T17:34:13.026651",
     "exception": false,
     "start_time": "2023-03-13T17:34:12.907083",
     "status": "completed"
    },
    "tags": []
   },
   "source": [
    "The prediction for the 624 test samples have varied between 89.7% and 99.99% ."
   ]
  },
  {
   "cell_type": "code",
   "execution_count": 14,
   "id": "61b68b95",
   "metadata": {
    "execution": {
     "iopub.execute_input": "2023-03-13T17:34:13.276260Z",
     "iopub.status.busy": "2023-03-13T17:34:13.275916Z",
     "iopub.status.idle": "2023-03-13T17:34:13.495466Z",
     "shell.execute_reply": "2023-03-13T17:34:13.494449Z"
    },
    "id": "4_h10rmavSb9",
    "outputId": "f549164d-2ba6-402f-8cee-b7b71146970e",
    "papermill": {
     "duration": 0.350484,
     "end_time": "2023-03-13T17:34:13.497708",
     "exception": false,
     "start_time": "2023-03-13T17:34:13.147224",
     "status": "completed"
    },
    "tags": []
   },
   "outputs": [
    {
     "data": {
      "text/plain": [
       "[<matplotlib.lines.Line2D at 0x7f51b00830d0>]"
      ]
     },
     "execution_count": 14,
     "metadata": {},
     "output_type": "execute_result"
    },
    {
     "data": {
      "text/plain": [
       "Text(0.5, 1.0, 'preditions on test data')"
      ]
     },
     "execution_count": 14,
     "metadata": {},
     "output_type": "execute_result"
    },
    {
     "data": {
      "image/png": "[encoded data removed]",
      "text/plain": [
       "<Figure size 640x480 with 1 Axes>"
      ]
     },
     "metadata": {},
     "output_type": "display_data"
    }
   ],
   "source": [
    "import matplotlib.pyplot as pp\n",
    "pp.plot(pred)\n",
    "pp.title(\"preditions on test data\")\n",
    "pp.show()"
   ]
  },
  {
   "cell_type": "markdown",
   "id": "262c76cd",
   "metadata": {
    "papermill": {
     "duration": 0.123423,
     "end_time": "2023-03-13T17:34:13.742914",
     "exception": false,
     "start_time": "2023-03-13T17:34:13.619491",
     "status": "completed"
    },
    "tags": []
   },
   "source": [
    "most predictions have been around 50% accuracy"
   ]
  },
  {
   "cell_type": "markdown",
   "id": "66792aa6",
   "metadata": {
    "id": "OyqqTrJH3da_",
    "papermill": {
     "duration": 0.120547,
     "end_time": "2023-03-13T17:34:13.983469",
     "exception": false,
     "start_time": "2023-03-13T17:34:13.862922",
     "status": "completed"
    },
    "tags": []
   },
   "source": [
    "## 2. Model having additonal convolution layers\n",
    "\n"
   ]
  },
  {
   "cell_type": "code",
   "execution_count": 15,
   "id": "34f64267",
   "metadata": {
    "execution": {
     "iopub.execute_input": "2023-03-13T17:34:14.273232Z",
     "iopub.status.busy": "2023-03-13T17:34:14.272017Z",
     "iopub.status.idle": "2023-03-13T17:34:14.424841Z",
     "shell.execute_reply": "2023-03-13T17:34:14.423709Z"
    },
    "id": "ZUYqA22epHD7",
    "papermill": {
     "duration": 0.323218,
     "end_time": "2023-03-13T17:34:14.427320",
     "exception": false,
     "start_time": "2023-03-13T17:34:14.104102",
     "status": "completed"
    },
    "tags": []
   },
   "outputs": [],
   "source": [
    "model = tf.keras.Sequential() \n",
    "model.add(Input(shape=(224,224,3)),)\n",
    "model.add(tf.keras.layers.Conv2D(filters = 128 , kernel_size=(3,3),strides=1 , activation ='relu',padding='same'))\n",
    "model.add(tf.keras.layers.MaxPool2D())\n",
    "model.add(tf.keras.layers.Conv2D(filters = 256 , kernel_size=(3,3),strides=(1,1) , activation ='relu',padding='same'))\n",
    "model.add(tf.keras.layers.Conv2D(filters = 512 , kernel_size=(3,3),strides=1 , activation ='relu',padding='same'))\n",
    "model.add(tf.keras.layers.MaxPool2D())\n",
    "model.add(tf.keras.layers.Conv2D(filters = 256 , kernel_size=(3,3),strides=(1,1) , activation ='relu'))\n",
    "model.add(tf.keras.layers.Conv2D(filters = 512 , kernel_size=(3,3),strides=1 , activation ='relu'))\n",
    "model.add(tf.keras.layers.MaxPool2D())\n",
    "model.add(tf.keras.layers.Conv2D(filters = 128 , kernel_size=(3,3),strides=(1,1) , activation ='relu'))\n",
    "model.add(tf.keras.layers.Conv2D(filters = 256 , kernel_size=(3,3),strides=1 , activation ='relu'))\n",
    "model.add(tf.keras.layers.MaxPool2D())\n",
    "model.add(tf.keras.layers.Conv2D(filters = 64 , kernel_size=(3,3),strides=(1,1) , activation ='relu'))\n",
    "model.add(tf.keras.layers.Conv2D(filters = 128 , kernel_size=(3,3),strides=1 , activation ='relu'))\n",
    "model.add(tf.keras.layers.Flatten())\n",
    "model.add(tf.keras.layers.Dense(units=512 , activation ='relu'))\n",
    "model.add(tf.keras.layers.Dense(units=128 , activation ='relu'))\n",
    "model.add(tf.keras.layers.Dense(1,activation='sigmoid'))"
   ]
  },
  {
   "cell_type": "code",
   "execution_count": 16,
   "id": "1fb9601d",
   "metadata": {
    "execution": {
     "iopub.execute_input": "2023-03-13T17:34:14.674586Z",
     "iopub.status.busy": "2023-03-13T17:34:14.674247Z",
     "iopub.status.idle": "2023-03-13T17:34:14.685536Z",
     "shell.execute_reply": "2023-03-13T17:34:14.684643Z"
    },
    "id": "LcJTgzgxwEwY",
    "papermill": {
     "duration": 0.137077,
     "end_time": "2023-03-13T17:34:14.687677",
     "exception": false,
     "start_time": "2023-03-13T17:34:14.550600",
     "status": "completed"
    },
    "tags": []
   },
   "outputs": [],
   "source": [
    "model.compile(loss='binary_crossentropy',metrics='accuracy',optimizer='adam')"
   ]
  },
  {
   "cell_type": "code",
   "execution_count": 17,
   "id": "4ca8008a",
   "metadata": {
    "execution": {
     "iopub.execute_input": "2023-03-13T17:34:14.932221Z",
     "iopub.status.busy": "2023-03-13T17:34:14.931821Z",
     "iopub.status.idle": "2023-03-13T17:34:14.975230Z",
     "shell.execute_reply": "2023-03-13T17:34:14.974388Z"
    },
    "id": "JciLrHYTwIIx",
    "outputId": "6eb2e16f-3fe5-4ed9-d602-5c6c5561abbe",
    "papermill": {
     "duration": 0.197771,
     "end_time": "2023-03-13T17:34:15.006402",
     "exception": false,
     "start_time": "2023-03-13T17:34:14.808631",
     "status": "completed"
    },
    "tags": []
   },
   "outputs": [
    {
     "name": "stdout",
     "output_type": "stream",
     "text": [
      "Model: \"sequential_1\"\n",
      "_________________________________________________________________\n",
      " Layer (type)                Output Shape              Param #   \n",
      "=================================================================\n",
      " conv2d_7 (Conv2D)           (None, 224, 224, 128)     3584      \n",
      "                                                                 \n",
      " max_pooling2d_3 (MaxPooling  (None, 112, 112, 128)    0         \n",
      " 2D)                                                             \n",
      "                                                                 \n",
      " conv2d_8 (Conv2D)           (None, 112, 112, 256)     295168    \n",
      "                                                                 \n",
      " conv2d_9 (Conv2D)           (None, 112, 112, 512)     1180160   \n",
      "                                                                 \n",
      " max_pooling2d_4 (MaxPooling  (None, 56, 56, 512)      0         \n",
      " 2D)                                                             \n",
      "                                                                 \n",
      " conv2d_10 (Conv2D)          (None, 54, 54, 256)       1179904   \n",
      "                                                                 \n",
      " conv2d_11 (Conv2D)          (None, 52, 52, 512)       1180160   \n",
      "                                                                 \n",
      " max_pooling2d_5 (MaxPooling  (None, 26, 26, 512)      0         \n",
      " 2D)                                                             \n",
      "                                                                 \n",
      " conv2d_12 (Conv2D)          (None, 24, 24, 128)       589952    \n",
      "                                                                 \n",
      " conv2d_13 (Conv2D)          (None, 22, 22, 256)       295168    \n",
      "                                                                 \n",
      " max_pooling2d_6 (MaxPooling  (None, 11, 11, 256)      0         \n",
      " 2D)                                                             \n",
      "                                                                 \n",
      " conv2d_14 (Conv2D)          (None, 9, 9, 64)          147520    \n",
      "                                                                 \n",
      " conv2d_15 (Conv2D)          (None, 7, 7, 128)         73856     \n",
      "                                                                 \n",
      " flatten_1 (Flatten)         (None, 6272)              0         \n",
      "                                                                 \n",
      " dense_3 (Dense)             (None, 512)               3211776   \n",
      "                                                                 \n",
      " dense_4 (Dense)             (None, 128)               65664     \n",
      "                                                                 \n",
      " dense_5 (Dense)             (None, 1)                 129       \n",
      "                                                                 \n",
      "=================================================================\n",
      "Total params: 8,223,041\n",
      "Trainable params: 8,223,041\n",
      "Non-trainable params: 0\n",
      "_________________________________________________________________\n"
     ]
    }
   ],
   "source": [
    "model.summary()"
   ]
  },
  {
   "cell_type": "code",
   "execution_count": 18,
   "id": "f32adf11",
   "metadata": {
    "execution": {
     "iopub.execute_input": "2023-03-13T17:34:15.273856Z",
     "iopub.status.busy": "2023-03-13T17:34:15.273506Z",
     "iopub.status.idle": "2023-03-13T17:34:16.480020Z",
     "shell.execute_reply": "2023-03-13T17:34:16.479041Z"
    },
    "id": "O9Z_npu4wMnk",
    "outputId": "f25efb3b-21ec-4a74-e865-72fa99351512",
    "papermill": {
     "duration": 1.340656,
     "end_time": "2023-03-13T17:34:16.482545",
     "exception": false,
     "start_time": "2023-03-13T17:34:15.141889",
     "status": "completed"
    },
    "tags": []
   },
   "outputs": [
    {
     "name": "stdout",
     "output_type": "stream",
     "text": [
      "Found 5216 images belonging to 2 classes.\n",
      "Found 16 images belonging to 2 classes.\n"
     ]
    }
   ],
   "source": [
    "train_gen = ImageDataGenerator(\n",
    "                           brightness_range=[0.3,0.9],\n",
    "                        shear_range=10 ,\n",
    "                        horizontal_flip=True,\n",
    "                         featurewise_center = False,\n",
    "                        zca_whitening=False,\n",
    "                         width_shift_range=0.1 ,\n",
    "                         height_shift_range=0.1\n",
    ")\n",
    "\n",
    "train_iter = train_gen.flow_from_directory( directory = \"/kaggle/input/chest-xray-pneumonia/chest_xray/train\" , \n",
    "                            target_size=(img_height,img_width), \n",
    "                            batch_size=32,\n",
    "                            class_mode='binary')\n",
    "\n",
    "val_gen = ImageDataGenerator(rescale = 1.0/255.0)\n",
    "\n",
    "val_iter = val_gen.flow_from_directory(\"/kaggle/input/chest-xray-pneumonia/chest_xray/val\",\n",
    "                                     target_size=(img_height,img_width),\n",
    "                                     batch_size=8,\n",
    "                                    class_mode='binary')\n",
    "\n"
   ]
  },
  {
   "cell_type": "code",
   "execution_count": 19,
   "id": "1bd682c3",
   "metadata": {
    "execution": {
     "iopub.execute_input": "2023-03-13T17:34:16.732790Z",
     "iopub.status.busy": "2023-03-13T17:34:16.732411Z",
     "iopub.status.idle": "2023-03-13T18:05:29.819580Z",
     "shell.execute_reply": "2023-03-13T18:05:29.818572Z"
    },
    "papermill": {
     "duration": 1873.214213,
     "end_time": "2023-03-13T18:05:29.821810",
     "exception": false,
     "start_time": "2023-03-13T17:34:16.607597",
     "status": "completed"
    },
    "tags": []
   },
   "outputs": [
    {
     "name": "stdout",
     "output_type": "stream",
     "text": [
      "Epoch 1/12\n",
      "163/163 [==============================] - 183s 952ms/step - loss: 1.4067 - accuracy: 0.7260 - val_loss: 0.7393 - val_accuracy: 0.5000\n",
      "Epoch 2/12\n",
      "163/163 [==============================] - 154s 940ms/step - loss: 0.6114 - accuracy: 0.7289 - val_loss: 0.7110 - val_accuracy: 0.5000\n",
      "Epoch 3/12\n",
      "163/163 [==============================] - 152s 930ms/step - loss: 0.4884 - accuracy: 0.7803 - val_loss: 0.8064 - val_accuracy: 0.5000\n",
      "Epoch 4/12\n",
      "163/163 [==============================] - 151s 924ms/step - loss: 0.3672 - accuracy: 0.8430 - val_loss: 0.7881 - val_accuracy: 0.5000\n",
      "Epoch 5/12\n",
      "163/163 [==============================] - 152s 930ms/step - loss: 0.3076 - accuracy: 0.8704 - val_loss: 0.9109 - val_accuracy: 0.5000\n",
      "Epoch 6/12\n",
      "163/163 [==============================] - 152s 931ms/step - loss: 0.2610 - accuracy: 0.9007 - val_loss: 0.8896 - val_accuracy: 0.5000\n",
      "Epoch 7/12\n",
      "163/163 [==============================] - 153s 934ms/step - loss: 0.2510 - accuracy: 0.9045 - val_loss: 0.8154 - val_accuracy: 0.5000\n",
      "Epoch 8/12\n",
      "163/163 [==============================] - 153s 936ms/step - loss: 0.3258 - accuracy: 0.8664 - val_loss: 1.0172 - val_accuracy: 0.5000\n",
      "Epoch 9/12\n",
      "163/163 [==============================] - 152s 929ms/step - loss: 0.4832 - accuracy: 0.7885 - val_loss: 1.3925 - val_accuracy: 0.5000\n",
      "Epoch 10/12\n",
      "163/163 [==============================] - 152s 930ms/step - loss: 0.3787 - accuracy: 0.8280 - val_loss: 1.2166 - val_accuracy: 0.5000\n",
      "Epoch 11/12\n",
      "163/163 [==============================] - 149s 908ms/step - loss: 0.4920 - accuracy: 0.7738 - val_loss: 0.6002 - val_accuracy: 0.5000\n",
      "Epoch 12/12\n",
      "163/163 [==============================] - 150s 920ms/step - loss: 0.4201 - accuracy: 0.8113 - val_loss: 0.6138 - val_accuracy: 0.5625\n"
     ]
    }
   ],
   "source": [
    "history = model.fit(train_iter,\n",
    "          epochs=12,\n",
    "          validation_data=val_iter)"
   ]
  },
  {
   "cell_type": "code",
   "execution_count": 20,
   "id": "6959e636",
   "metadata": {
    "execution": {
     "iopub.execute_input": "2023-03-13T18:05:30.273883Z",
     "iopub.status.busy": "2023-03-13T18:05:30.273253Z",
     "iopub.status.idle": "2023-03-13T18:05:30.497069Z",
     "shell.execute_reply": "2023-03-13T18:05:30.496021Z"
    },
    "papermill": {
     "duration": 0.450955,
     "end_time": "2023-03-13T18:05:30.499538",
     "exception": false,
     "start_time": "2023-03-13T18:05:30.048583",
     "status": "completed"
    },
    "tags": []
   },
   "outputs": [
    {
     "data": {
      "image/png": "[encoded data removed]",
      "text/plain": [
       "<Figure size 640x480 with 1 Axes>"
      ]
     },
     "metadata": {},
     "output_type": "display_data"
    }
   ],
   "source": [
    "\n",
    "def plot_history():\n",
    "    val_acc = history.history['val_accuracy']\n",
    "    tr_acc=history.history['accuracy']\n",
    "    val_loss=history.history['val_loss']\n",
    "    epochs = range(1, len(val_acc) +1)\n",
    "    plt.plot(epochs,val_acc, 'b', label = \"Validation accu\")\n",
    "    plt.plot(epochs, tr_acc, 'r', label = \"Training accu\")\n",
    "    plt.title(\"Training and validation accuracy\")\n",
    "    plt.legend()\n",
    "    plt.show()\n",
    "\n",
    "plot_history()"
   ]
  },
  {
   "cell_type": "code",
   "execution_count": 21,
   "id": "a241ce65",
   "metadata": {
    "execution": {
     "iopub.execute_input": "2023-03-13T18:05:30.949345Z",
     "iopub.status.busy": "2023-03-13T18:05:30.948357Z",
     "iopub.status.idle": "2023-03-13T18:05:31.057414Z",
     "shell.execute_reply": "2023-03-13T18:05:31.056419Z"
    },
    "id": "gGsb5G7t3wmE",
    "outputId": "8b6439df-030f-480a-fcad-931b009934c0",
    "papermill": {
     "duration": 0.335216,
     "end_time": "2023-03-13T18:05:31.059676",
     "exception": false,
     "start_time": "2023-03-13T18:05:30.724460",
     "status": "completed"
    },
    "tags": []
   },
   "outputs": [
    {
     "name": "stdout",
     "output_type": "stream",
     "text": [
      "Found 624 images belonging to 2 classes.\n"
     ]
    }
   ],
   "source": [
    "test_gen = ImageDataGenerator(rescale = 1.0/255.0)\n",
    "test_iter = test_gen.flow_from_directory(\"/kaggle/input/chest-xray-pneumonia/chest_xray/test\",\n",
    "                                     target_size=(img_height,img_width),\n",
    "                                     batch_size=16,\n",
    "                            class_mode='binary')"
   ]
  },
  {
   "cell_type": "code",
   "execution_count": 22,
   "id": "388284f5",
   "metadata": {
    "execution": {
     "iopub.execute_input": "2023-03-13T18:05:31.511382Z",
     "iopub.status.busy": "2023-03-13T18:05:31.511028Z",
     "iopub.status.idle": "2023-03-13T18:05:46.653273Z",
     "shell.execute_reply": "2023-03-13T18:05:46.652291Z"
    },
    "id": "Ku3IlcT43z4t",
    "outputId": "d79653f8-f824-454d-a324-c77d9aa0a72f",
    "papermill": {
     "duration": 15.371776,
     "end_time": "2023-03-13T18:05:46.655672",
     "exception": false,
     "start_time": "2023-03-13T18:05:31.283896",
     "status": "completed"
    },
    "tags": []
   },
   "outputs": [
    {
     "name": "stdout",
     "output_type": "stream",
     "text": [
      "39/39 [==============================] - 15s 190ms/step\n"
     ]
    }
   ],
   "source": [
    "pred = model.predict(test_iter, steps = 39)"
   ]
  },
  {
   "cell_type": "code",
   "execution_count": 23,
   "id": "8d8997e8",
   "metadata": {
    "execution": {
     "iopub.execute_input": "2023-03-13T18:05:47.402552Z",
     "iopub.status.busy": "2023-03-13T18:05:47.401444Z",
     "iopub.status.idle": "2023-03-13T18:05:47.416905Z",
     "shell.execute_reply": "2023-03-13T18:05:47.414672Z"
    },
    "id": "rxZ03NuR3-YG",
    "outputId": "c2af6ce3-0523-4079-8eac-819ba1ba91da",
    "papermill": {
     "duration": 0.480149,
     "end_time": "2023-03-13T18:05:47.427850",
     "exception": false,
     "start_time": "2023-03-13T18:05:46.947701",
     "status": "completed"
    },
    "tags": []
   },
   "outputs": [
    {
     "data": {
      "text/plain": [
       "0.05320994"
      ]
     },
     "execution_count": 23,
     "metadata": {},
     "output_type": "execute_result"
    },
    {
     "name": "stdout",
     "output_type": "stream",
     "text": [
      "======\n"
     ]
    },
    {
     "data": {
      "text/plain": [
       "0.9846981"
      ]
     },
     "execution_count": 23,
     "metadata": {},
     "output_type": "execute_result"
    }
   ],
   "source": [
    "pred.min() \n",
    "print(\"======\")\n",
    "pred.max()"
   ]
  },
  {
   "cell_type": "code",
   "execution_count": 24,
   "id": "d7c2a760",
   "metadata": {
    "execution": {
     "iopub.execute_input": "2023-03-13T18:05:48.304964Z",
     "iopub.status.busy": "2023-03-13T18:05:48.304427Z",
     "iopub.status.idle": "2023-03-13T18:05:48.528683Z",
     "shell.execute_reply": "2023-03-13T18:05:48.527674Z"
    },
    "papermill": {
     "duration": 0.750914,
     "end_time": "2023-03-13T18:05:48.531042",
     "exception": false,
     "start_time": "2023-03-13T18:05:47.780128",
     "status": "completed"
    },
    "tags": []
   },
   "outputs": [
    {
     "data": {
      "text/plain": [
       "[<matplotlib.lines.Line2D at 0x7f513a34d550>]"
      ]
     },
     "execution_count": 24,
     "metadata": {},
     "output_type": "execute_result"
    },
    {
     "data": {
      "image/png": "[encoded data removed]",
      "text/plain": [
       "<Figure size 640x480 with 1 Axes>"
      ]
     },
     "metadata": {},
     "output_type": "display_data"
    }
   ],
   "source": [
    "import matplotlib.pyplot as pp\n",
    "pp.plot(pred)\n",
    "pp.show()"
   ]
  },
  {
   "cell_type": "markdown",
   "id": "2e84ec19",
   "metadata": {
    "id": "M0PqaXRm4KDz",
    "papermill": {
     "duration": 0.233385,
     "end_time": "2023-03-13T18:05:48.993826",
     "exception": false,
     "start_time": "2023-03-13T18:05:48.760441",
     "status": "completed"
    },
    "tags": []
   },
   "source": [
    "This model has produced a a prediction percentage of 75 % , which is better than Model1"
   ]
  },
  {
   "cell_type": "markdown",
   "id": "af7c4f1c",
   "metadata": {
    "papermill": {
     "duration": 0.227616,
     "end_time": "2023-03-13T18:05:49.451279",
     "exception": false,
     "start_time": "2023-03-13T18:05:49.223663",
     "status": "completed"
    },
    "tags": []
   },
   "source": [
    "## 3.Model with batchnormalization and dropouts embedded"
   ]
  },
  {
   "cell_type": "code",
   "execution_count": 25,
   "id": "cc21fa50",
   "metadata": {
    "execution": {
     "iopub.execute_input": "2023-03-13T18:05:49.911657Z",
     "iopub.status.busy": "2023-03-13T18:05:49.910650Z",
     "iopub.status.idle": "2023-03-13T18:05:50.104862Z",
     "shell.execute_reply": "2023-03-13T18:05:50.103930Z"
    },
    "papermill": {
     "duration": 0.424937,
     "end_time": "2023-03-13T18:05:50.107101",
     "exception": false,
     "start_time": "2023-03-13T18:05:49.682164",
     "status": "completed"
    },
    "tags": []
   },
   "outputs": [],
   "source": [
    "model = tf.keras.Sequential() \n",
    "model.add(Input(shape=(224,224,3)),)\n",
    "model.add(BatchNormalization())\n",
    "model.add(tf.keras.layers.Conv2D(filters = 128 , kernel_size=(3,3),strides=1 , activation ='relu'))\n",
    "model.add(tf.keras.layers.MaxPool2D())\n",
    "model.add(tf.keras.layers.Conv2D(filters = 256 , kernel_size=(3,3),strides=(1,1) , activation ='relu'))\n",
    "model.add(tf.keras.layers.Conv2D(filters = 512 , kernel_size=(3,3),strides=1 , activation ='relu'))\n",
    "model.add(Dropout(0.1))\n",
    "model.add(BatchNormalization())\n",
    "model.add(tf.keras.layers.MaxPool2D())\n",
    "model.add(tf.keras.layers.Conv2D(filters = 256 , kernel_size=(3,3),strides=(1,1) , activation ='relu'))\n",
    "model.add(tf.keras.layers.Conv2D(filters = 512 , kernel_size=(3,3),strides=1 , activation ='relu'))\n",
    "model.add(tf.keras.layers.MaxPool2D())\n",
    "model.add(tf.keras.layers.Conv2D(filters = 128 , kernel_size=(3,3),strides=(1,1) , activation ='relu'))\n",
    "model.add(tf.keras.layers.Conv2D(filters = 256 , kernel_size=(3,3),strides=1 , activation ='relu'))\n",
    "model.add(Dropout(0.2))\n",
    "model.add(BatchNormalization())\n",
    "model.add(tf.keras.layers.MaxPool2D())\n",
    "model.add(tf.keras.layers.Conv2D(filters = 64 , kernel_size=(3,3),strides=(1,1) , activation ='relu'))\n",
    "model.add(tf.keras.layers.Conv2D(filters = 128 , kernel_size=(3,3),strides=1 , activation ='relu'))\n",
    "model.add(tf.keras.layers.Flatten())\n",
    "model.add(tf.keras.layers.Dense(units=128 , activation ='relu'))\n",
    "model.add(tf.keras.layers.Dense(units=64 , activation ='relu'))\n",
    "model.add(Dropout(0.2))\n",
    "model.add(tf.keras.layers.Dense(1,activation='sigmoid'))"
   ]
  },
  {
   "cell_type": "code",
   "execution_count": 26,
   "id": "7d0ade21",
   "metadata": {
    "execution": {
     "iopub.execute_input": "2023-03-13T18:05:50.617066Z",
     "iopub.status.busy": "2023-03-13T18:05:50.616693Z",
     "iopub.status.idle": "2023-03-13T18:05:50.628767Z",
     "shell.execute_reply": "2023-03-13T18:05:50.627829Z"
    },
    "papermill": {
     "duration": 0.291157,
     "end_time": "2023-03-13T18:05:50.630851",
     "exception": false,
     "start_time": "2023-03-13T18:05:50.339694",
     "status": "completed"
    },
    "tags": []
   },
   "outputs": [],
   "source": [
    "model.compile(loss='binary_crossentropy',metrics='accuracy',optimizer='adam')"
   ]
  },
  {
   "cell_type": "code",
   "execution_count": 27,
   "id": "71b7ed57",
   "metadata": {
    "execution": {
     "iopub.execute_input": "2023-03-13T18:05:51.089423Z",
     "iopub.status.busy": "2023-03-13T18:05:51.089073Z",
     "iopub.status.idle": "2023-03-13T18:05:51.145567Z",
     "shell.execute_reply": "2023-03-13T18:05:51.144673Z"
    },
    "papermill": {
     "duration": 0.319456,
     "end_time": "2023-03-13T18:05:51.179755",
     "exception": false,
     "start_time": "2023-03-13T18:05:50.860299",
     "status": "completed"
    },
    "tags": []
   },
   "outputs": [
    {
     "name": "stdout",
     "output_type": "stream",
     "text": [
      "Model: \"sequential_2\"\n",
      "_________________________________________________________________\n",
      " Layer (type)                Output Shape              Param #   \n",
      "=================================================================\n",
      " batch_normalization (BatchN  (None, 224, 224, 3)      12        \n",
      " ormalization)                                                   \n",
      "                                                                 \n",
      " conv2d_16 (Conv2D)          (None, 222, 222, 128)     3584      \n",
      "                                                                 \n",
      " max_pooling2d_7 (MaxPooling  (None, 111, 111, 128)    0         \n",
      " 2D)                                                             \n",
      "                                                                 \n",
      " conv2d_17 (Conv2D)          (None, 109, 109, 256)     295168    \n",
      "                                                                 \n",
      " conv2d_18 (Conv2D)          (None, 107, 107, 512)     1180160   \n",
      "                                                                 \n",
      " dropout (Dropout)           (None, 107, 107, 512)     0         \n",
      "                                                                 \n",
      " batch_normalization_1 (Batc  (None, 107, 107, 512)    2048      \n",
      " hNormalization)                                                 \n",
      "                                                                 \n",
      " max_pooling2d_8 (MaxPooling  (None, 53, 53, 512)      0         \n",
      " 2D)                                                             \n",
      "                                                                 \n",
      " conv2d_19 (Conv2D)          (None, 51, 51, 256)       1179904   \n",
      "                                                                 \n",
      " conv2d_20 (Conv2D)          (None, 49, 49, 512)       1180160   \n",
      "                                                                 \n",
      " max_pooling2d_9 (MaxPooling  (None, 24, 24, 512)      0         \n",
      " 2D)                                                             \n",
      "                                                                 \n",
      " conv2d_21 (Conv2D)          (None, 22, 22, 128)       589952    \n",
      "                                                                 \n",
      " conv2d_22 (Conv2D)          (None, 20, 20, 256)       295168    \n",
      "                                                                 \n",
      " dropout_1 (Dropout)         (None, 20, 20, 256)       0         \n",
      "                                                                 \n",
      " batch_normalization_2 (Batc  (None, 20, 20, 256)      1024      \n",
      " hNormalization)                                                 \n",
      "                                                                 \n",
      " max_pooling2d_10 (MaxPoolin  (None, 10, 10, 256)      0         \n",
      " g2D)                                                            \n",
      "                                                                 \n",
      " conv2d_23 (Conv2D)          (None, 8, 8, 64)          147520    \n",
      "                                                                 \n",
      " conv2d_24 (Conv2D)          (None, 6, 6, 128)         73856     \n",
      "                                                                 \n",
      " flatten_2 (Flatten)         (None, 4608)              0         \n",
      "                                                                 \n",
      " dense_6 (Dense)             (None, 128)               589952    \n",
      "                                                                 \n",
      " dense_7 (Dense)             (None, 64)                8256      \n",
      "                                                                 \n",
      " dropout_2 (Dropout)         (None, 64)                0         \n",
      "                                                                 \n",
      " dense_8 (Dense)             (None, 1)                 65        \n",
      "                                                                 \n",
      "=================================================================\n",
      "Total params: 5,546,829\n",
      "Trainable params: 5,545,287\n",
      "Non-trainable params: 1,542\n",
      "_________________________________________________________________\n"
     ]
    }
   ],
   "source": [
    "model.summary()"
   ]
  },
  {
   "cell_type": "markdown",
   "id": "1b68310e",
   "metadata": {
    "papermill": {
     "duration": 0.23459,
     "end_time": "2023-03-13T18:05:51.652525",
     "exception": false,
     "start_time": "2023-03-13T18:05:51.417935",
     "status": "completed"
    },
    "tags": []
   },
   "source": [
    "below imagedatagenerator used shear_range and brightness_range unlike earlier 2 models."
   ]
  },
  {
   "cell_type": "code",
   "execution_count": 28,
   "id": "8e7ceb27",
   "metadata": {
    "execution": {
     "iopub.execute_input": "2023-03-13T18:05:52.119819Z",
     "iopub.status.busy": "2023-03-13T18:05:52.118204Z",
     "iopub.status.idle": "2023-03-13T18:05:53.093996Z",
     "shell.execute_reply": "2023-03-13T18:05:53.093048Z"
    },
    "papermill": {
     "duration": 1.213681,
     "end_time": "2023-03-13T18:05:53.096199",
     "exception": false,
     "start_time": "2023-03-13T18:05:51.882518",
     "status": "completed"
    },
    "tags": []
   },
   "outputs": [
    {
     "name": "stdout",
     "output_type": "stream",
     "text": [
      "Found 5216 images belonging to 2 classes.\n",
      "Found 16 images belonging to 2 classes.\n"
     ]
    }
   ],
   "source": [
    "train_gen = ImageDataGenerator(\n",
    "                           brightness_range=[0.3,0.9],\n",
    "                        shear_range=10 ,\n",
    "                        horizontal_flip=True,\n",
    "                         featurewise_center = False,\n",
    "                        zca_whitening=False,\n",
    "                         width_shift_range=0.1 ,\n",
    "                         height_shift_range=0.1\n",
    ")\n",
    "\n",
    "train_iter = train_gen.flow_from_directory( directory = \"/kaggle/input/chest-xray-pneumonia/chest_xray/train\" , \n",
    "                            target_size=(img_height,img_width), \n",
    "                            batch_size=32,\n",
    "                            class_mode='binary')\n",
    "\n",
    "val_gen = ImageDataGenerator(rescale = 1.0/255.0)\n",
    "\n",
    "val_iter = val_gen.flow_from_directory(\"/kaggle/input/chest-xray-pneumonia/chest_xray/val\",\n",
    "                                     target_size=(img_height,img_width),\n",
    "                                     batch_size=8,\n",
    "                                    class_mode='binary')\n",
    "\n"
   ]
  },
  {
   "cell_type": "code",
   "execution_count": 29,
   "id": "0b677244",
   "metadata": {
    "execution": {
     "iopub.execute_input": "2023-03-13T18:05:53.613867Z",
     "iopub.status.busy": "2023-03-13T18:05:53.613143Z",
     "iopub.status.idle": "2023-03-13T18:40:18.287182Z",
     "shell.execute_reply": "2023-03-13T18:40:18.286171Z"
    },
    "papermill": {
     "duration": 2064.959884,
     "end_time": "2023-03-13T18:40:18.289387",
     "exception": false,
     "start_time": "2023-03-13T18:05:53.329503",
     "status": "completed"
    },
    "tags": []
   },
   "outputs": [
    {
     "name": "stdout",
     "output_type": "stream",
     "text": [
      "Epoch 1/12\n"
     ]
    },
    {
     "name": "stderr",
     "output_type": "stream",
     "text": [
      "2023-03-13 18:05:56.153167: E tensorflow/core/grappler/optimizers/meta_optimizer.cc:954] layout failed: INVALID_ARGUMENT: Size of values 0 does not match size of permutation 4 @ fanin shape insequential_2/dropout/dropout/SelectV2-2-TransposeNHWCToNCHW-LayoutOptimizer\n"
     ]
    },
    {
     "name": "stdout",
     "output_type": "stream",
     "text": [
      "163/163 [==============================] - 198s 1s/step - loss: 0.4673 - accuracy: 0.7713 - val_loss: 0.6957 - val_accuracy: 0.5000\n",
      "Epoch 2/12\n",
      "163/163 [==============================] - 168s 1s/step - loss: 0.3586 - accuracy: 0.8455 - val_loss: 0.7551 - val_accuracy: 0.5000\n",
      "Epoch 3/12\n",
      "163/163 [==============================] - 170s 1s/step - loss: 0.2920 - accuracy: 0.8746 - val_loss: 0.9155 - val_accuracy: 0.5000\n",
      "Epoch 4/12\n",
      "163/163 [==============================] - 168s 1s/step - loss: 0.2509 - accuracy: 0.8884 - val_loss: 0.8824 - val_accuracy: 0.5000\n",
      "Epoch 5/12\n",
      "163/163 [==============================] - 167s 1s/step - loss: 0.2416 - accuracy: 0.9039 - val_loss: 0.6940 - val_accuracy: 0.5000\n",
      "Epoch 6/12\n",
      "163/163 [==============================] - 172s 1s/step - loss: 0.2274 - accuracy: 0.9080 - val_loss: 4.3238 - val_accuracy: 0.5000\n",
      "Epoch 7/12\n",
      "163/163 [==============================] - 173s 1s/step - loss: 0.2166 - accuracy: 0.9153 - val_loss: 0.7034 - val_accuracy: 0.5000\n",
      "Epoch 8/12\n",
      "163/163 [==============================] - 171s 1s/step - loss: 0.1784 - accuracy: 0.9289 - val_loss: 1.0867 - val_accuracy: 0.5000\n",
      "Epoch 9/12\n",
      "163/163 [==============================] - 170s 1s/step - loss: 0.1849 - accuracy: 0.9310 - val_loss: 1.5708 - val_accuracy: 0.5000\n",
      "Epoch 10/12\n",
      "163/163 [==============================] - 169s 1s/step - loss: 0.1772 - accuracy: 0.9289 - val_loss: 0.8958 - val_accuracy: 0.5000\n",
      "Epoch 11/12\n",
      "163/163 [==============================] - 169s 1s/step - loss: 0.1737 - accuracy: 0.9350 - val_loss: 0.8722 - val_accuracy: 0.5000\n",
      "Epoch 12/12\n",
      "163/163 [==============================] - 169s 1s/step - loss: 0.1668 - accuracy: 0.9337 - val_loss: 0.9361 - val_accuracy: 0.5000\n"
     ]
    }
   ],
   "source": [
    "history = model.fit(train_iter,epochs=12,validation_data=val_iter)"
   ]
  },
  {
   "cell_type": "code",
   "execution_count": 30,
   "id": "64d86429",
   "metadata": {
    "execution": {
     "iopub.execute_input": "2023-03-13T18:40:19.051803Z",
     "iopub.status.busy": "2023-03-13T18:40:19.050654Z",
     "iopub.status.idle": "2023-03-13T18:40:19.279850Z",
     "shell.execute_reply": "2023-03-13T18:40:19.278031Z"
    },
    "papermill": {
     "duration": 0.570802,
     "end_time": "2023-03-13T18:40:19.284070",
     "exception": false,
     "start_time": "2023-03-13T18:40:18.713268",
     "status": "completed"
    },
    "tags": []
   },
   "outputs": [
    {
     "data": {
      "image/png": "[encoded data removed]",
      "text/plain": [
       "<Figure size 640x480 with 1 Axes>"
      ]
     },
     "metadata": {},
     "output_type": "display_data"
    }
   ],
   "source": [
    "\n",
    "def plot_history():\n",
    "    loss = history.history['loss']\n",
    "    accuracy=history.history['accuracy']\n",
    "    epochs = range(1, len(accuracy) +1)\n",
    "    plt.plot(epochs,loss, 'b', label = \"loss\")\n",
    "    plt.plot(epochs, accuracy, 'r', label = \"accuracy\")\n",
    "    plt.title(\"Training and validation accuracy\")\n",
    "    plt.legend()\n",
    "    plt.show()\n",
    "\n",
    "plot_history()"
   ]
  },
  {
   "cell_type": "code",
   "execution_count": 31,
   "id": "40ef3a15",
   "metadata": {
    "execution": {
     "iopub.execute_input": "2023-03-13T18:40:20.057588Z",
     "iopub.status.busy": "2023-03-13T18:40:20.057161Z",
     "iopub.status.idle": "2023-03-13T18:40:20.167956Z",
     "shell.execute_reply": "2023-03-13T18:40:20.166998Z"
    },
    "papermill": {
     "duration": 0.533608,
     "end_time": "2023-03-13T18:40:20.171034",
     "exception": false,
     "start_time": "2023-03-13T18:40:19.637426",
     "status": "completed"
    },
    "tags": []
   },
   "outputs": [
    {
     "name": "stdout",
     "output_type": "stream",
     "text": [
      "Found 624 images belonging to 2 classes.\n"
     ]
    }
   ],
   "source": [
    "test_gen = ImageDataGenerator(rescale = 1.0/255.0)\n",
    "test_iter = test_gen.flow_from_directory(\"/kaggle/input/chest-xray-pneumonia/chest_xray/test\",\n",
    "                                     target_size=(img_height,img_width),\n",
    "                                     batch_size=16,\n",
    "                            class_mode='binary')"
   ]
  },
  {
   "cell_type": "code",
   "execution_count": 32,
   "id": "9efd73c4",
   "metadata": {
    "execution": {
     "iopub.execute_input": "2023-03-13T18:40:20.937714Z",
     "iopub.status.busy": "2023-03-13T18:40:20.937340Z",
     "iopub.status.idle": "2023-03-13T18:40:35.912045Z",
     "shell.execute_reply": "2023-03-13T18:40:35.910696Z"
    },
    "papermill": {
     "duration": 15.315746,
     "end_time": "2023-03-13T18:40:35.914838",
     "exception": false,
     "start_time": "2023-03-13T18:40:20.599092",
     "status": "completed"
    },
    "tags": []
   },
   "outputs": [
    {
     "name": "stdout",
     "output_type": "stream",
     "text": [
      "39/39 [==============================] - 15s 203ms/step\n"
     ]
    }
   ],
   "source": [
    "pred = model.predict(test_iter, steps = 39)"
   ]
  },
  {
   "cell_type": "code",
   "execution_count": 33,
   "id": "70d04a09",
   "metadata": {
    "execution": {
     "iopub.execute_input": "2023-03-13T18:40:36.870168Z",
     "iopub.status.busy": "2023-03-13T18:40:36.869482Z",
     "iopub.status.idle": "2023-03-13T18:40:36.881291Z",
     "shell.execute_reply": "2023-03-13T18:40:36.880061Z"
    },
    "papermill": {
     "duration": 0.435672,
     "end_time": "2023-03-13T18:40:36.883879",
     "exception": false,
     "start_time": "2023-03-13T18:40:36.448207",
     "status": "completed"
    },
    "tags": []
   },
   "outputs": [
    {
     "data": {
      "text/plain": [
       "0.80640274"
      ]
     },
     "execution_count": 33,
     "metadata": {},
     "output_type": "execute_result"
    },
    {
     "name": "stdout",
     "output_type": "stream",
     "text": [
      "======\n"
     ]
    },
    {
     "data": {
      "text/plain": [
       "0.8150674"
      ]
     },
     "execution_count": 33,
     "metadata": {},
     "output_type": "execute_result"
    }
   ],
   "source": [
    "pred.min()\n",
    "print(\"======\")\n",
    "pred.max()"
   ]
  },
  {
   "cell_type": "code",
   "execution_count": 34,
   "id": "3d8a9af7",
   "metadata": {
    "execution": {
     "iopub.execute_input": "2023-03-13T18:40:37.589584Z",
     "iopub.status.busy": "2023-03-13T18:40:37.589219Z",
     "iopub.status.idle": "2023-03-13T18:40:37.801682Z",
     "shell.execute_reply": "2023-03-13T18:40:37.800553Z"
    },
    "papermill": {
     "duration": 0.55966,
     "end_time": "2023-03-13T18:40:37.803896",
     "exception": false,
     "start_time": "2023-03-13T18:40:37.244236",
     "status": "completed"
    },
    "tags": []
   },
   "outputs": [
    {
     "data": {
      "text/plain": [
       "[<matplotlib.lines.Line2D at 0x7f51280ed090>]"
      ]
     },
     "execution_count": 34,
     "metadata": {},
     "output_type": "execute_result"
    },
    {
     "data": {
      "image/png": "[encoded data removed]",
      "text/plain": [
       "<Figure size 640x480 with 1 Axes>"
      ]
     },
     "metadata": {},
     "output_type": "display_data"
    }
   ],
   "source": [
    "import matplotlib.pyplot as pp\n",
    "pp.plot(pred)\n",
    "pp.show()"
   ]
  },
  {
   "cell_type": "markdown",
   "id": "d2ff764e",
   "metadata": {
    "papermill": {
     "duration": 0.341597,
     "end_time": "2023-03-13T18:40:38.534912",
     "exception": false,
     "start_time": "2023-03-13T18:40:38.193315",
     "status": "completed"
    },
    "tags": []
   },
   "source": [
    "This model has a 78% success rate and is better than model 1 and 2 . "
   ]
  },
  {
   "cell_type": "markdown",
   "id": "8bfeb6b7",
   "metadata": {
    "papermill": {
     "duration": 0.342104,
     "end_time": "2023-03-13T18:40:39.227487",
     "exception": false,
     "start_time": "2023-03-13T18:40:38.885383",
     "status": "completed"
    },
    "tags": []
   },
   "source": [
    "Having studied the other models created by other users of kaggle for the same problem , I realized that models with fewer convolution layers , starting with smaller input size and filters have shown better performance. Hence I have tried the following model on same lines."
   ]
  },
  {
   "cell_type": "markdown",
   "id": "fed046db",
   "metadata": {
    "papermill": {
     "duration": 0.400434,
     "end_time": "2023-03-13T18:40:39.969888",
     "exception": false,
     "start_time": "2023-03-13T18:40:39.569454",
     "status": "completed"
    },
    "tags": []
   },
   "source": [
    "### 4.Model with fewer convolution layers and embedded dropouts after flattening."
   ]
  },
  {
   "cell_type": "code",
   "execution_count": 35,
   "id": "1dd4b63c",
   "metadata": {
    "execution": {
     "iopub.execute_input": "2023-03-13T18:40:40.650932Z",
     "iopub.status.busy": "2023-03-13T18:40:40.650379Z",
     "iopub.status.idle": "2023-03-13T18:40:40.796338Z",
     "shell.execute_reply": "2023-03-13T18:40:40.795323Z"
    },
    "papermill": {
     "duration": 0.488668,
     "end_time": "2023-03-13T18:40:40.798748",
     "exception": false,
     "start_time": "2023-03-13T18:40:40.310080",
     "status": "completed"
    },
    "tags": []
   },
   "outputs": [],
   "source": [
    "model = tf.keras.Sequential() \n",
    "model.add(Input(shape=(150, 150, 3)),)\n",
    "model.add(Conv2D(filters = 32,kernel_size=(3,3),activation='relu',strides=1))\n",
    "model.add(MaxPool2D())\n",
    "model.add(Conv2D(filters = 64,kernel_size=(3,3),strides=2,activation='relu',padding='same'))\n",
    "model.add(MaxPool2D())\n",
    "model.add(Conv2D(filters= 128,kernel_size=(3,3),strides=2,activation='relu',padding='same'))\n",
    "model.add(MaxPool2D())\n",
    "model.add(Flatten())\n",
    "model.add(Dense(128,activation='relu'))\n",
    "model.add(Dropout(0.2))\n",
    "model.add(Dense(64,activation='relu'))\n",
    "model.add(Dropout(0.1))\n",
    "model.add(Dense(32,activation='relu'))\n",
    "model.add(Dropout(0.1))\n",
    "model.add(Dense(1,activation='sigmoid'))"
   ]
  },
  {
   "cell_type": "code",
   "execution_count": 36,
   "id": "bb36b31b",
   "metadata": {
    "execution": {
     "iopub.execute_input": "2023-03-13T18:40:41.575171Z",
     "iopub.status.busy": "2023-03-13T18:40:41.574077Z",
     "iopub.status.idle": "2023-03-13T18:40:41.589263Z",
     "shell.execute_reply": "2023-03-13T18:40:41.587716Z"
    },
    "papermill": {
     "duration": 0.441765,
     "end_time": "2023-03-13T18:40:41.592156",
     "exception": false,
     "start_time": "2023-03-13T18:40:41.150391",
     "status": "completed"
    },
    "tags": []
   },
   "outputs": [],
   "source": [
    "model.compile(loss='binary_crossentropy',metrics='accuracy',optimizer='adam')"
   ]
  },
  {
   "cell_type": "code",
   "execution_count": 37,
   "id": "b511becc",
   "metadata": {
    "execution": {
     "iopub.execute_input": "2023-03-13T18:40:42.447347Z",
     "iopub.status.busy": "2023-03-13T18:40:42.446590Z",
     "iopub.status.idle": "2023-03-13T18:40:42.486480Z",
     "shell.execute_reply": "2023-03-13T18:40:42.485428Z"
    },
    "papermill": {
     "duration": 0.514721,
     "end_time": "2023-03-13T18:40:42.507813",
     "exception": false,
     "start_time": "2023-03-13T18:40:41.993092",
     "status": "completed"
    },
    "tags": []
   },
   "outputs": [
    {
     "name": "stdout",
     "output_type": "stream",
     "text": [
      "Model: \"sequential_3\"\n",
      "_________________________________________________________________\n",
      " Layer (type)                Output Shape              Param #   \n",
      "=================================================================\n",
      " conv2d_25 (Conv2D)          (None, 148, 148, 32)      896       \n",
      "                                                                 \n",
      " max_pooling2d_11 (MaxPoolin  (None, 74, 74, 32)       0         \n",
      " g2D)                                                            \n",
      "                                                                 \n",
      " conv2d_26 (Conv2D)          (None, 37, 37, 64)        18496     \n",
      "                                                                 \n",
      " max_pooling2d_12 (MaxPoolin  (None, 18, 18, 64)       0         \n",
      " g2D)                                                            \n",
      "                                                                 \n",
      " conv2d_27 (Conv2D)          (None, 9, 9, 128)         73856     \n",
      "                                                                 \n",
      " max_pooling2d_13 (MaxPoolin  (None, 4, 4, 128)        0         \n",
      " g2D)                                                            \n",
      "                                                                 \n",
      " flatten_3 (Flatten)         (None, 2048)              0         \n",
      "                                                                 \n",
      " dense_9 (Dense)             (None, 128)               262272    \n",
      "                                                                 \n",
      " dropout_3 (Dropout)         (None, 128)               0         \n",
      "                                                                 \n",
      " dense_10 (Dense)            (None, 64)                8256      \n",
      "                                                                 \n",
      " dropout_4 (Dropout)         (None, 64)                0         \n",
      "                                                                 \n",
      " dense_11 (Dense)            (None, 32)                2080      \n",
      "                                                                 \n",
      " dropout_5 (Dropout)         (None, 32)                0         \n",
      "                                                                 \n",
      " dense_12 (Dense)            (None, 1)                 33        \n",
      "                                                                 \n",
      "=================================================================\n",
      "Total params: 365,889\n",
      "Trainable params: 365,889\n",
      "Non-trainable params: 0\n",
      "_________________________________________________________________\n"
     ]
    }
   ],
   "source": [
    "model.summary()"
   ]
  },
  {
   "cell_type": "code",
   "execution_count": 38,
   "id": "d2cee6fc",
   "metadata": {
    "execution": {
     "iopub.execute_input": "2023-03-13T18:40:43.202476Z",
     "iopub.status.busy": "2023-03-13T18:40:43.202115Z",
     "iopub.status.idle": "2023-03-13T18:40:44.326549Z",
     "shell.execute_reply": "2023-03-13T18:40:44.325578Z"
    },
    "papermill": {
     "duration": 1.478182,
     "end_time": "2023-03-13T18:40:44.328882",
     "exception": false,
     "start_time": "2023-03-13T18:40:42.850700",
     "status": "completed"
    },
    "tags": []
   },
   "outputs": [
    {
     "name": "stdout",
     "output_type": "stream",
     "text": [
      "Found 5216 images belonging to 2 classes.\n",
      "Found 16 images belonging to 2 classes.\n"
     ]
    }
   ],
   "source": [
    "train_gen = ImageDataGenerator(\n",
    "                          brightness_range=[0.3,0.9],\n",
    "                        shear_range=10 ,\n",
    "                        horizontal_flip=True,\n",
    "                         featurewise_center = False,\n",
    "                        zca_whitening=False,\n",
    "                         width_shift_range=0.1 ,\n",
    "                         height_shift_range=0.1\n",
    ")\n",
    "\n",
    "\n",
    "\n",
    "train_iter = train_gen.flow_from_directory( directory = \"/kaggle/input/chest-xray-pneumonia/chest_xray/train\" , \n",
    "                            target_size=(150,150), \n",
    "                            batch_size=32,\n",
    "                            class_mode='binary')\n",
    "\n",
    "val_gen = ImageDataGenerator(rescale = 1.0/255.0)\n",
    "val_iter = val_gen.flow_from_directory(\"/kaggle/input/chest-xray-pneumonia/chest_xray/val\",\n",
    "                                     target_size=(150,150),\n",
    "                                     batch_size=8,\n",
    "                                    class_mode='binary')\n",
    "\n"
   ]
  },
  {
   "cell_type": "code",
   "execution_count": 39,
   "id": "4d5e7cc6",
   "metadata": {
    "execution": {
     "iopub.execute_input": "2023-03-13T18:40:45.072415Z",
     "iopub.status.busy": "2023-03-13T18:40:45.072021Z",
     "iopub.status.idle": "2023-03-13T19:00:16.644318Z",
     "shell.execute_reply": "2023-03-13T19:00:16.643295Z"
    },
    "papermill": {
     "duration": 1171.976012,
     "end_time": "2023-03-13T19:00:16.646749",
     "exception": false,
     "start_time": "2023-03-13T18:40:44.670737",
     "status": "completed"
    },
    "tags": []
   },
   "outputs": [
    {
     "name": "stdout",
     "output_type": "stream",
     "text": [
      "Epoch 1/12\n",
      "163/163 [==============================] - 96s 569ms/step - loss: 0.6561 - accuracy: 0.7354 - val_loss: 0.6987 - val_accuracy: 0.5000\n",
      "Epoch 2/12\n",
      "163/163 [==============================] - 96s 587ms/step - loss: 0.3373 - accuracy: 0.8508 - val_loss: 0.7228 - val_accuracy: 0.5000\n",
      "Epoch 3/12\n",
      "163/163 [==============================] - 93s 570ms/step - loss: 0.2684 - accuracy: 0.8909 - val_loss: 0.7090 - val_accuracy: 0.5000\n",
      "Epoch 4/12\n",
      "163/163 [==============================] - 93s 568ms/step - loss: 0.2546 - accuracy: 0.9064 - val_loss: 0.7598 - val_accuracy: 0.5000\n",
      "Epoch 5/12\n",
      "163/163 [==============================] - 94s 575ms/step - loss: 0.2099 - accuracy: 0.9216 - val_loss: 0.7914 - val_accuracy: 0.5000\n",
      "Epoch 6/12\n",
      "163/163 [==============================] - 94s 574ms/step - loss: 0.2050 - accuracy: 0.9193 - val_loss: 0.7995 - val_accuracy: 0.5000\n",
      "Epoch 7/12\n",
      "163/163 [==============================] - 93s 572ms/step - loss: 0.1988 - accuracy: 0.9256 - val_loss: 0.8113 - val_accuracy: 0.5000\n",
      "Epoch 8/12\n",
      "163/163 [==============================] - 93s 572ms/step - loss: 0.1971 - accuracy: 0.9252 - val_loss: 0.8429 - val_accuracy: 0.5000\n",
      "Epoch 9/12\n",
      "163/163 [==============================] - 93s 573ms/step - loss: 0.1749 - accuracy: 0.9371 - val_loss: 0.8717 - val_accuracy: 0.5000\n",
      "Epoch 10/12\n",
      "163/163 [==============================] - 92s 564ms/step - loss: 0.1674 - accuracy: 0.9369 - val_loss: 0.8906 - val_accuracy: 0.5000\n",
      "Epoch 11/12\n",
      "163/163 [==============================] - 93s 571ms/step - loss: 0.1662 - accuracy: 0.9392 - val_loss: 0.8747 - val_accuracy: 0.5000\n",
      "Epoch 12/12\n",
      "163/163 [==============================] - 93s 569ms/step - loss: 0.1679 - accuracy: 0.9383 - val_loss: 0.9382 - val_accuracy: 0.5000\n"
     ]
    }
   ],
   "source": [
    "history = model.fit(train_iter,\n",
    "          epochs=12 ,\n",
    "          validation_data=val_iter)"
   ]
  },
  {
   "cell_type": "code",
   "execution_count": 40,
   "id": "699db54a",
   "metadata": {
    "execution": {
     "iopub.execute_input": "2023-03-13T19:00:17.652392Z",
     "iopub.status.busy": "2023-03-13T19:00:17.651875Z",
     "iopub.status.idle": "2023-03-13T19:00:17.907777Z",
     "shell.execute_reply": "2023-03-13T19:00:17.906777Z"
    },
    "papermill": {
     "duration": 0.727844,
     "end_time": "2023-03-13T19:00:17.909951",
     "exception": false,
     "start_time": "2023-03-13T19:00:17.182107",
     "status": "completed"
    },
    "tags": []
   },
   "outputs": [
    {
     "data": {
      "image/png": "[encoded data removed]",
      "text/plain": [
       "<Figure size 640x480 with 1 Axes>"
      ]
     },
     "metadata": {},
     "output_type": "display_data"
    }
   ],
   "source": [
    "\n",
    "def plot_history():\n",
    "    loss = history.history['loss']\n",
    "    accuracy=history.history['accuracy']\n",
    "    epochs = range(1, len(accuracy) +1)\n",
    "    plt.plot(epochs,loss, 'b', label = \"loss\")\n",
    "    plt.plot(epochs, accuracy, 'r', label = \"accuracy\")\n",
    "    plt.title(\"Training and validation accuracy\")\n",
    "    plt.legend()\n",
    "    plt.show()\n",
    "\n",
    "plot_history()"
   ]
  },
  {
   "cell_type": "code",
   "execution_count": 41,
   "id": "d5d7ae0d",
   "metadata": {
    "execution": {
     "iopub.execute_input": "2023-03-13T19:00:18.852803Z",
     "iopub.status.busy": "2023-03-13T19:00:18.851709Z",
     "iopub.status.idle": "2023-03-13T19:00:18.961485Z",
     "shell.execute_reply": "2023-03-13T19:00:18.960449Z"
    },
    "papermill": {
     "duration": 0.573255,
     "end_time": "2023-03-13T19:00:18.964806",
     "exception": false,
     "start_time": "2023-03-13T19:00:18.391551",
     "status": "completed"
    },
    "tags": []
   },
   "outputs": [
    {
     "name": "stdout",
     "output_type": "stream",
     "text": [
      "Found 624 images belonging to 2 classes.\n"
     ]
    }
   ],
   "source": [
    "test_gen = ImageDataGenerator(rescale = 1.0/255.0)\n",
    "test_iter = test_gen.flow_from_directory(\"/kaggle/input/chest-xray-pneumonia/chest_xray/test\",\n",
    "                                     target_size=(img_height,img_width),\n",
    "                                     batch_size=16,\n",
    "                            class_mode='binary')"
   ]
  },
  {
   "cell_type": "code",
   "execution_count": 42,
   "id": "f48e27c1",
   "metadata": {
    "execution": {
     "iopub.execute_input": "2023-03-13T19:00:20.063258Z",
     "iopub.status.busy": "2023-03-13T19:00:20.062124Z",
     "iopub.status.idle": "2023-03-13T19:00:27.438921Z",
     "shell.execute_reply": "2023-03-13T19:00:27.437787Z"
    },
    "papermill": {
     "duration": 7.836888,
     "end_time": "2023-03-13T19:00:27.441596",
     "exception": false,
     "start_time": "2023-03-13T19:00:19.604708",
     "status": "completed"
    },
    "tags": []
   },
   "outputs": [
    {
     "name": "stdout",
     "output_type": "stream",
     "text": [
      "39/39 [==============================] - 7s 177ms/step\n"
     ]
    }
   ],
   "source": [
    "pred = model.predict(test_iter, steps = 39)"
   ]
  },
  {
   "cell_type": "code",
   "execution_count": 43,
   "id": "ea0c016e",
   "metadata": {
    "execution": {
     "iopub.execute_input": "2023-03-13T19:00:28.406529Z",
     "iopub.status.busy": "2023-03-13T19:00:28.405513Z",
     "iopub.status.idle": "2023-03-13T19:00:28.416421Z",
     "shell.execute_reply": "2023-03-13T19:00:28.415265Z"
    },
    "papermill": {
     "duration": 0.484942,
     "end_time": "2023-03-13T19:00:28.418709",
     "exception": false,
     "start_time": "2023-03-13T19:00:27.933767",
     "status": "completed"
    },
    "tags": []
   },
   "outputs": [
    {
     "data": {
      "text/plain": [
       "0.7931798"
      ]
     },
     "execution_count": 43,
     "metadata": {},
     "output_type": "execute_result"
    },
    {
     "name": "stdout",
     "output_type": "stream",
     "text": [
      "======\n"
     ]
    },
    {
     "data": {
      "text/plain": [
       "0.8377137"
      ]
     },
     "execution_count": 43,
     "metadata": {},
     "output_type": "execute_result"
    }
   ],
   "source": [
    "pred.min()\n",
    "print(\"======\")\n",
    "pred.max()"
   ]
  },
  {
   "cell_type": "code",
   "execution_count": 44,
   "id": "85d29e0d",
   "metadata": {
    "execution": {
     "iopub.execute_input": "2023-03-13T19:00:29.450191Z",
     "iopub.status.busy": "2023-03-13T19:00:29.449822Z",
     "iopub.status.idle": "2023-03-13T19:00:29.666545Z",
     "shell.execute_reply": "2023-03-13T19:00:29.665528Z"
    },
    "papermill": {
     "duration": 0.757307,
     "end_time": "2023-03-13T19:00:29.668782",
     "exception": false,
     "start_time": "2023-03-13T19:00:28.911475",
     "status": "completed"
    },
    "tags": []
   },
   "outputs": [
    {
     "data": {
      "text/plain": [
       "[<matplotlib.lines.Line2D at 0x7f513a533110>]"
      ]
     },
     "execution_count": 44,
     "metadata": {},
     "output_type": "execute_result"
    },
    {
     "data": {
      "image/png": "[encoded data removed]",
      "text/plain": [
       "<Figure size 640x480 with 1 Axes>"
      ]
     },
     "metadata": {},
     "output_type": "display_data"
    }
   ],
   "source": [
    "import matplotlib.pyplot as pp\n",
    "pp.plot(pred)\n",
    "pp.show()"
   ]
  },
  {
   "cell_type": "markdown",
   "id": "4d93d71a",
   "metadata": {
    "papermill": {
     "duration": 0.486204,
     "end_time": "2023-03-13T19:00:30.747616",
     "exception": false,
     "start_time": "2023-03-13T19:00:30.261412",
     "status": "completed"
    },
    "tags": []
   },
   "source": [
    "This model has produced most predictions above 80% with minimum being 77.6%. This model has been the most consistent"
   ]
  },
  {
   "cell_type": "markdown",
   "id": "9710d8e2",
   "metadata": {
    "papermill": {
     "duration": 0.454711,
     "end_time": "2023-03-13T19:00:31.714694",
     "exception": false,
     "start_time": "2023-03-13T19:00:31.259983",
     "status": "completed"
    },
    "tags": []
   },
   "source": [
    " ## 5 . Model containing droputs after Maxpooling"
   ]
  },
  {
   "cell_type": "code",
   "execution_count": 45,
   "id": "b5f34875",
   "metadata": {
    "execution": {
     "iopub.execute_input": "2023-03-13T19:00:32.629734Z",
     "iopub.status.busy": "2023-03-13T19:00:32.629334Z",
     "iopub.status.idle": "2023-03-13T19:00:32.736151Z",
     "shell.execute_reply": "2023-03-13T19:00:32.735152Z"
    },
    "papermill": {
     "duration": 0.563642,
     "end_time": "2023-03-13T19:00:32.738840",
     "exception": false,
     "start_time": "2023-03-13T19:00:32.175198",
     "status": "completed"
    },
    "tags": []
   },
   "outputs": [],
   "source": [
    "model = tf.keras.Sequential() \n",
    "model.add(Input(shape=(150, 150, 3)),)\n",
    "model.add(Conv2D(filters = 32,kernel_size=(3,3),activation='relu',strides=1))\n",
    "model.add(MaxPool2D())\n",
    "model.add(Dropout(0.2))\n",
    "model.add(Conv2D(filters = 64,kernel_size=(3,3),strides=2,activation='relu',padding='same'))\n",
    "model.add(MaxPool2D())\n",
    "model.add(Dropout(0.2))\n",
    "model.add(Conv2D(filters= 128,kernel_size=(3,3),strides=2,activation='relu',padding='same'))\n",
    "model.add(MaxPool2D())\n",
    "model.add(Dropout(0.2))\n",
    "model.add(Flatten())\n",
    "model.add(Dense(128,activation='relu'))\n",
    "model.add(Dropout(0.2))\n",
    "model.add(Dense(64,activation='relu'))\n",
    "model.add(Dropout(0.1))\n",
    "model.add(Dense(32,activation='relu'))\n",
    "model.add(Dropout(0.1))\n",
    "model.add(Dense(1,activation='sigmoid'))"
   ]
  },
  {
   "cell_type": "code",
   "execution_count": 46,
   "id": "62aeb310",
   "metadata": {
    "execution": {
     "iopub.execute_input": "2023-03-13T19:00:33.716590Z",
     "iopub.status.busy": "2023-03-13T19:00:33.716201Z",
     "iopub.status.idle": "2023-03-13T19:00:33.728272Z",
     "shell.execute_reply": "2023-03-13T19:00:33.727349Z"
    },
    "papermill": {
     "duration": 0.532649,
     "end_time": "2023-03-13T19:00:33.730412",
     "exception": false,
     "start_time": "2023-03-13T19:00:33.197763",
     "status": "completed"
    },
    "tags": []
   },
   "outputs": [],
   "source": [
    "model.compile(loss='binary_crossentropy',metrics='accuracy',optimizer='adam')"
   ]
  },
  {
   "cell_type": "code",
   "execution_count": 47,
   "id": "c7d16df2",
   "metadata": {
    "execution": {
     "iopub.execute_input": "2023-03-13T19:00:34.652764Z",
     "iopub.status.busy": "2023-03-13T19:00:34.652366Z",
     "iopub.status.idle": "2023-03-13T19:00:34.696689Z",
     "shell.execute_reply": "2023-03-13T19:00:34.695700Z"
    },
    "papermill": {
     "duration": 0.520889,
     "end_time": "2023-03-13T19:00:34.718869",
     "exception": false,
     "start_time": "2023-03-13T19:00:34.197980",
     "status": "completed"
    },
    "tags": []
   },
   "outputs": [
    {
     "name": "stdout",
     "output_type": "stream",
     "text": [
      "Model: \"sequential_4\"\n",
      "_________________________________________________________________\n",
      " Layer (type)                Output Shape              Param #   \n",
      "=================================================================\n",
      " conv2d_28 (Conv2D)          (None, 148, 148, 32)      896       \n",
      "                                                                 \n",
      " max_pooling2d_14 (MaxPoolin  (None, 74, 74, 32)       0         \n",
      " g2D)                                                            \n",
      "                                                                 \n",
      " dropout_6 (Dropout)         (None, 74, 74, 32)        0         \n",
      "                                                                 \n",
      " conv2d_29 (Conv2D)          (None, 37, 37, 64)        18496     \n",
      "                                                                 \n",
      " max_pooling2d_15 (MaxPoolin  (None, 18, 18, 64)       0         \n",
      " g2D)                                                            \n",
      "                                                                 \n",
      " dropout_7 (Dropout)         (None, 18, 18, 64)        0         \n",
      "                                                                 \n",
      " conv2d_30 (Conv2D)          (None, 9, 9, 128)         73856     \n",
      "                                                                 \n",
      " max_pooling2d_16 (MaxPoolin  (None, 4, 4, 128)        0         \n",
      " g2D)                                                            \n",
      "                                                                 \n",
      " dropout_8 (Dropout)         (None, 4, 4, 128)         0         \n",
      "                                                                 \n",
      " flatten_4 (Flatten)         (None, 2048)              0         \n",
      "                                                                 \n",
      " dense_13 (Dense)            (None, 128)               262272    \n",
      "                                                                 \n",
      " dropout_9 (Dropout)         (None, 128)               0         \n",
      "                                                                 \n",
      " dense_14 (Dense)            (None, 64)                8256      \n",
      "                                                                 \n",
      " dropout_10 (Dropout)        (None, 64)                0         \n",
      "                                                                 \n",
      " dense_15 (Dense)            (None, 32)                2080      \n",
      "                                                                 \n",
      " dropout_11 (Dropout)        (None, 32)                0         \n",
      "                                                                 \n",
      " dense_16 (Dense)            (None, 1)                 33        \n",
      "                                                                 \n",
      "=================================================================\n",
      "Total params: 365,889\n",
      "Trainable params: 365,889\n",
      "Non-trainable params: 0\n",
      "_________________________________________________________________\n"
     ]
    }
   ],
   "source": [
    "model.summary()"
   ]
  },
  {
   "cell_type": "code",
   "execution_count": 48,
   "id": "355c0428",
   "metadata": {
    "execution": {
     "iopub.execute_input": "2023-03-13T19:00:35.678307Z",
     "iopub.status.busy": "2023-03-13T19:00:35.677555Z",
     "iopub.status.idle": "2023-03-13T19:00:36.552355Z",
     "shell.execute_reply": "2023-03-13T19:00:36.551528Z"
    },
    "papermill": {
     "duration": 1.329552,
     "end_time": "2023-03-13T19:00:36.555186",
     "exception": false,
     "start_time": "2023-03-13T19:00:35.225634",
     "status": "completed"
    },
    "tags": []
   },
   "outputs": [
    {
     "name": "stdout",
     "output_type": "stream",
     "text": [
      "Found 5216 images belonging to 2 classes.\n",
      "Found 16 images belonging to 2 classes.\n"
     ]
    }
   ],
   "source": [
    "train_gen = ImageDataGenerator(\n",
    "                          brightness_range=[0.3,0.9],\n",
    "                        shear_range=10 ,\n",
    "                        horizontal_flip=True,\n",
    "                         featurewise_center = False,\n",
    "                        zca_whitening=False,\n",
    "                         width_shift_range=0.1 ,\n",
    "                         height_shift_range=0.1\n",
    ")\n",
    "\n",
    "\n",
    "\n",
    "train_iter = train_gen.flow_from_directory( directory = \"/kaggle/input/chest-xray-pneumonia/chest_xray/train\" , \n",
    "                            target_size=(150,150), \n",
    "                            batch_size=32,\n",
    "                            class_mode='binary')\n",
    "\n",
    "val_gen = ImageDataGenerator(rescale = 1.0/255.0)\n",
    "val_iter = val_gen.flow_from_directory(\"/kaggle/input/chest-xray-pneumonia/chest_xray/val\",\n",
    "                                     target_size=(150,150),\n",
    "                                     batch_size=8,\n",
    "                                    class_mode='binary')\n",
    "\n"
   ]
  },
  {
   "cell_type": "code",
   "execution_count": 49,
   "id": "90167c72",
   "metadata": {
    "execution": {
     "iopub.execute_input": "2023-03-13T19:00:37.932381Z",
     "iopub.status.busy": "2023-03-13T19:00:37.932007Z",
     "iopub.status.idle": "2023-03-13T19:19:22.343278Z",
     "shell.execute_reply": "2023-03-13T19:19:22.342241Z"
    },
    "papermill": {
     "duration": 1125.090732,
     "end_time": "2023-03-13T19:19:22.345719",
     "exception": false,
     "start_time": "2023-03-13T19:00:37.254987",
     "status": "completed"
    },
    "tags": []
   },
   "outputs": [
    {
     "name": "stdout",
     "output_type": "stream",
     "text": [
      "Epoch 1/12\n"
     ]
    },
    {
     "name": "stderr",
     "output_type": "stream",
     "text": [
      "2023-03-13 19:00:39.723473: E tensorflow/core/grappler/optimizers/meta_optimizer.cc:954] layout failed: INVALID_ARGUMENT: Size of values 0 does not match size of permutation 4 @ fanin shape insequential_4/dropout_6/dropout/SelectV2-2-TransposeNHWCToNCHW-LayoutOptimizer\n"
     ]
    },
    {
     "name": "stdout",
     "output_type": "stream",
     "text": [
      "163/163 [==============================] - 97s 576ms/step - loss: 1.0558 - accuracy: 0.7042 - val_loss: 0.6953 - val_accuracy: 0.5000\n",
      "Epoch 2/12\n",
      "163/163 [==============================] - 94s 578ms/step - loss: 0.5453 - accuracy: 0.7439 - val_loss: 0.7018 - val_accuracy: 0.5000\n",
      "Epoch 3/12\n",
      "163/163 [==============================] - 94s 576ms/step - loss: 0.4263 - accuracy: 0.8100 - val_loss: 0.7197 - val_accuracy: 0.5000\n",
      "Epoch 4/12\n",
      "163/163 [==============================] - 92s 566ms/step - loss: 0.3335 - accuracy: 0.8625 - val_loss: 0.7406 - val_accuracy: 0.5000\n",
      "Epoch 5/12\n",
      "163/163 [==============================] - 93s 573ms/step - loss: 0.3019 - accuracy: 0.8742 - val_loss: 0.7499 - val_accuracy: 0.5000\n",
      "Epoch 6/12\n",
      "163/163 [==============================] - 94s 579ms/step - loss: 0.2726 - accuracy: 0.8890 - val_loss: 0.7825 - val_accuracy: 0.5000\n",
      "Epoch 7/12\n",
      "163/163 [==============================] - 93s 570ms/step - loss: 0.2583 - accuracy: 0.9024 - val_loss: 0.7890 - val_accuracy: 0.5000\n",
      "Epoch 8/12\n",
      "163/163 [==============================] - 93s 572ms/step - loss: 0.2409 - accuracy: 0.9022 - val_loss: 0.8270 - val_accuracy: 0.5000\n",
      "Epoch 9/12\n",
      "163/163 [==============================] - 94s 574ms/step - loss: 0.2354 - accuracy: 0.9103 - val_loss: 0.8600 - val_accuracy: 0.5000\n",
      "Epoch 10/12\n",
      "163/163 [==============================] - 93s 570ms/step - loss: 0.2226 - accuracy: 0.9128 - val_loss: 0.8363 - val_accuracy: 0.5000\n",
      "Epoch 11/12\n",
      "163/163 [==============================] - 93s 569ms/step - loss: 0.2197 - accuracy: 0.9082 - val_loss: 0.9191 - val_accuracy: 0.5000\n",
      "Epoch 12/12\n",
      "163/163 [==============================] - 93s 572ms/step - loss: 0.2225 - accuracy: 0.9137 - val_loss: 0.8311 - val_accuracy: 0.5000\n"
     ]
    }
   ],
   "source": [
    "history = model.fit(train_iter,\n",
    "          epochs=12 ,\n",
    "          validation_data=val_iter)"
   ]
  },
  {
   "cell_type": "code",
   "execution_count": 50,
   "id": "ce09f405",
   "metadata": {
    "execution": {
     "iopub.execute_input": "2023-03-13T19:19:23.696592Z",
     "iopub.status.busy": "2023-03-13T19:19:23.696232Z",
     "iopub.status.idle": "2023-03-13T19:19:23.902623Z",
     "shell.execute_reply": "2023-03-13T19:19:23.901531Z"
    },
    "papermill": {
     "duration": 0.870551,
     "end_time": "2023-03-13T19:19:23.904968",
     "exception": false,
     "start_time": "2023-03-13T19:19:23.034417",
     "status": "completed"
    },
    "tags": []
   },
   "outputs": [
    {
     "data": {
      "image/png": "[encoded data removed]",
      "text/plain": [
       "<Figure size 640x480 with 1 Axes>"
      ]
     },
     "metadata": {},
     "output_type": "display_data"
    }
   ],
   "source": [
    "\n",
    "def plot_history():\n",
    "    loss = history.history['loss']\n",
    "    accuracy=history.history['accuracy']\n",
    "    epochs = range(1, len(accuracy) +1)\n",
    "    plt.plot(epochs,loss, 'b', label = \"loss\")\n",
    "    plt.plot(epochs, accuracy, 'r', label = \"accuracy\")\n",
    "    plt.title(\"Training and validation accuracy\")\n",
    "    plt.legend()\n",
    "    plt.show()\n",
    "\n",
    "plot_history()"
   ]
  },
  {
   "cell_type": "code",
   "execution_count": 51,
   "id": "fbcd6984",
   "metadata": {
    "execution": {
     "iopub.execute_input": "2023-03-13T19:19:25.079599Z",
     "iopub.status.busy": "2023-03-13T19:19:25.079218Z",
     "iopub.status.idle": "2023-03-13T19:19:25.188375Z",
     "shell.execute_reply": "2023-03-13T19:19:25.187388Z"
    },
    "papermill": {
     "duration": 0.668317,
     "end_time": "2023-03-13T19:19:25.190580",
     "exception": false,
     "start_time": "2023-03-13T19:19:24.522263",
     "status": "completed"
    },
    "tags": []
   },
   "outputs": [
    {
     "name": "stdout",
     "output_type": "stream",
     "text": [
      "Found 624 images belonging to 2 classes.\n"
     ]
    }
   ],
   "source": [
    "test_gen = ImageDataGenerator(rescale = 1.0/255.0)\n",
    "test_iter = test_gen.flow_from_directory(\"/kaggle/input/chest-xray-pneumonia/chest_xray/test\",\n",
    "                                     target_size=(img_height,img_width),\n",
    "                                     batch_size=16,\n",
    "                            class_mode='binary')"
   ]
  },
  {
   "cell_type": "code",
   "execution_count": 52,
   "id": "d76b649d",
   "metadata": {
    "execution": {
     "iopub.execute_input": "2023-03-13T19:19:26.323448Z",
     "iopub.status.busy": "2023-03-13T19:19:26.322525Z",
     "iopub.status.idle": "2023-03-13T19:19:34.469960Z",
     "shell.execute_reply": "2023-03-13T19:19:34.468946Z"
    },
    "papermill": {
     "duration": 8.713082,
     "end_time": "2023-03-13T19:19:34.472069",
     "exception": false,
     "start_time": "2023-03-13T19:19:25.758987",
     "status": "completed"
    },
    "tags": []
   },
   "outputs": [
    {
     "name": "stdout",
     "output_type": "stream",
     "text": [
      "39/39 [==============================] - 8s 202ms/step\n"
     ]
    }
   ],
   "source": [
    "pred = model.predict(test_iter, steps = 39)"
   ]
  },
  {
   "cell_type": "code",
   "execution_count": 53,
   "id": "a426c04f",
   "metadata": {
    "execution": {
     "iopub.execute_input": "2023-03-13T19:19:35.674407Z",
     "iopub.status.busy": "2023-03-13T19:19:35.674031Z",
     "iopub.status.idle": "2023-03-13T19:19:35.684174Z",
     "shell.execute_reply": "2023-03-13T19:19:35.682833Z"
    },
    "papermill": {
     "duration": 0.584238,
     "end_time": "2023-03-13T19:19:35.686211",
     "exception": false,
     "start_time": "2023-03-13T19:19:35.101973",
     "status": "completed"
    },
    "tags": []
   },
   "outputs": [
    {
     "data": {
      "text/plain": [
       "0.6979961"
      ]
     },
     "execution_count": 53,
     "metadata": {},
     "output_type": "execute_result"
    },
    {
     "name": "stdout",
     "output_type": "stream",
     "text": [
      "======\n"
     ]
    },
    {
     "data": {
      "text/plain": [
       "0.8490996"
      ]
     },
     "execution_count": 53,
     "metadata": {},
     "output_type": "execute_result"
    }
   ],
   "source": [
    "pred.min()\n",
    "print(\"======\")\n",
    "pred.max()"
   ]
  },
  {
   "cell_type": "code",
   "execution_count": 54,
   "id": "99e76561",
   "metadata": {
    "execution": {
     "iopub.execute_input": "2023-03-13T19:19:37.162665Z",
     "iopub.status.busy": "2023-03-13T19:19:37.162041Z",
     "iopub.status.idle": "2023-03-13T19:19:37.457093Z",
     "shell.execute_reply": "2023-03-13T19:19:37.456112Z"
    },
    "papermill": {
     "duration": 1.198413,
     "end_time": "2023-03-13T19:19:37.460058",
     "exception": false,
     "start_time": "2023-03-13T19:19:36.261645",
     "status": "completed"
    },
    "tags": []
   },
   "outputs": [
    {
     "data": {
      "text/plain": [
       "[<matplotlib.lines.Line2D at 0x7f51b0520110>]"
      ]
     },
     "execution_count": 54,
     "metadata": {},
     "output_type": "execute_result"
    },
    {
     "data": {
      "image/png": "[encoded data removed]",
      "text/plain": [
       "<Figure size 640x480 with 1 Axes>"
      ]
     },
     "metadata": {},
     "output_type": "display_data"
    }
   ],
   "source": [
    "import matplotlib.pyplot as pp\n",
    "pp.plot(pred)\n",
    "pp.show()"
   ]
  },
  {
   "cell_type": "markdown",
   "id": "6368e0fd",
   "metadata": {
    "papermill": {
     "duration": 0.570348,
     "end_time": "2023-03-13T19:19:38.711219",
     "exception": false,
     "start_time": "2023-03-13T19:19:38.140871",
     "status": "completed"
    },
    "tags": []
   },
   "source": [
    "This model has produced prediction success rate of over 84% for most test samples."
   ]
  }
 ],
 "metadata": {
  "kernelspec": {
   "display_name": "Python 3",
   "language": "python",
   "name": "python3"
  },
  "language_info": {
   "codemirror_mode": {
    "name": "ipython",
    "version": 3
   },
   "file_extension": ".py",
   "mimetype": "text/x-python",
   "name": "python",
   "nbconvert_exporter": "python",
   "pygments_lexer": "ipython3",
   "version": "3.7.12"
  },
  "papermill": {
   "default_parameters": {},
   "duration": 8315.382791,
   "end_time": "2023-03-13T19:19:42.739325",
   "environment_variables": {},
   "exception": null,
   "input_path": "__notebook__.ipynb",
   "output_path": "__notebook__.ipynb",
   "parameters": {},
   "start_time": "2023-03-13T17:01:07.356534",
   "version": "2.4.0"
  }
 },
 "nbformat": 4,
 "nbformat_minor": 5
}
