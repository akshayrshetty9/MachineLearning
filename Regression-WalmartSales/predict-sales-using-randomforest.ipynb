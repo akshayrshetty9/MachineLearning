{
 "cells": [
  {
   "cell_type": "markdown",
   "id": "91497285",
   "metadata": {
    "id": "mjc7SIAu02dr",
    "papermill": {
     "duration": 0.006995,
     "end_time": "2023-01-08T05:00:11.631948",
     "exception": false,
     "start_time": "2023-01-08T05:00:11.624953",
     "status": "completed"
    },
    "tags": []
   },
   "source": [
    "# Predicting walmart store sales using Random Forest"
   ]
  },
  {
   "cell_type": "markdown",
   "id": "66a0a873",
   "metadata": {
    "id": "oZxu6dxl6pAu",
    "papermill": {
     "duration": 0.005454,
     "end_time": "2023-01-08T05:00:11.643143",
     "exception": false,
     "start_time": "2023-01-08T05:00:11.637689",
     "status": "completed"
    },
    "tags": []
   },
   "source": [
    "### calling Libraries"
   ]
  },
  {
   "cell_type": "code",
   "execution_count": 1,
   "id": "cee448b0",
   "metadata": {
    "execution": {
     "iopub.execute_input": "2023-01-08T05:00:11.657103Z",
     "iopub.status.busy": "2023-01-08T05:00:11.656333Z",
     "iopub.status.idle": "2023-01-08T05:00:13.039602Z",
     "shell.execute_reply": "2023-01-08T05:00:13.038736Z"
    },
    "id": "_Rw9xsrV01jt",
    "papermill": {
     "duration": 1.393366,
     "end_time": "2023-01-08T05:00:13.042277",
     "exception": false,
     "start_time": "2023-01-08T05:00:11.648911",
     "status": "completed"
    },
    "tags": []
   },
   "outputs": [],
   "source": [
    "# 1.1 Call data manipulation libraries\n",
    "import pandas as pd\n",
    "import numpy as np\n",
    "\n",
    "\n",
    "from sklearn.preprocessing import PowerTransformer     # BoxCox transformation\n",
    "from sklearn.preprocessing import QuantileTransformer\n",
    "#from sklearn.preprocessing import KBinsDiscretizer    # Discretise continuous \n",
    "                                                       #   variable into K-bins\n",
    "\n",
    "# 1.5 Splitting data\n",
    "from sklearn.model_selection import train_test_split                # Returns split data\n",
    "\n",
    "# 1.6 Pipelines\n",
    "from sklearn.pipeline import make_pipeline\n",
    "#from sklearn.compose import ColumnTransformer\n",
    "\n",
    "# 1.7.2\n",
    "from sklearn.ensemble import RandomForestRegressor as rf\n",
    "from sklearn.ensemble import ExtraTreesClassifier\n",
    "from sklearn.linear_model import LogisticRegression\n",
    "from sklearn.ensemble import VotingClassifier\n",
    "\n",
    "# 1.8 Performance metrics\n",
    "from sklearn.metrics import  confusion_matrix,log_loss\n",
    "\n",
    "## G. Optimizer\n",
    "# 1.9 scipy optimize\n",
    "from scipy.optimize import minimize\n",
    "\n",
    "## G: Others\n",
    "# 1.10 Misc/visualization\n",
    "import os, time, gc\n",
    "import matplotlib.pyplot as plt\n",
    "import seaborn as sns"
   ]
  },
  {
   "cell_type": "code",
   "execution_count": 2,
   "id": "5ae6b21f",
   "metadata": {
    "execution": {
     "iopub.execute_input": "2023-01-08T05:00:13.055185Z",
     "iopub.status.busy": "2023-01-08T05:00:13.054837Z",
     "iopub.status.idle": "2023-01-08T05:00:13.059350Z",
     "shell.execute_reply": "2023-01-08T05:00:13.058451Z"
    },
    "papermill": {
     "duration": 0.013277,
     "end_time": "2023-01-08T05:00:13.061155",
     "exception": false,
     "start_time": "2023-01-08T05:00:13.047878",
     "status": "completed"
    },
    "tags": []
   },
   "outputs": [],
   "source": [
    "import warnings\n",
    "warnings.filterwarnings(\"ignore\")"
   ]
  },
  {
   "cell_type": "code",
   "execution_count": 3,
   "id": "7c08e90e",
   "metadata": {
    "execution": {
     "iopub.execute_input": "2023-01-08T05:00:13.074176Z",
     "iopub.status.busy": "2023-01-08T05:00:13.073832Z",
     "iopub.status.idle": "2023-01-08T05:00:13.078010Z",
     "shell.execute_reply": "2023-01-08T05:00:13.077069Z"
    },
    "id": "NRhg-D9v7LS1",
    "papermill": {
     "duration": 0.013172,
     "end_time": "2023-01-08T05:00:13.080089",
     "exception": false,
     "start_time": "2023-01-08T05:00:13.066917",
     "status": "completed"
    },
    "tags": []
   },
   "outputs": [],
   "source": [
    "#1.6 From a cell display outputs from multiple commands:\n",
    "from IPython.core.interactiveshell import InteractiveShell\n",
    "InteractiveShell.ast_node_interactivity = \"all\""
   ]
  },
  {
   "cell_type": "code",
   "execution_count": 4,
   "id": "af0bb93f",
   "metadata": {
    "execution": {
     "iopub.execute_input": "2023-01-08T05:00:13.092064Z",
     "iopub.status.busy": "2023-01-08T05:00:13.091688Z",
     "iopub.status.idle": "2023-01-08T05:00:13.096511Z",
     "shell.execute_reply": "2023-01-08T05:00:13.095518Z"
    },
    "id": "wQfwmXQc9FyT",
    "papermill": {
     "duration": 0.012931,
     "end_time": "2023-01-08T05:00:13.098551",
     "exception": false,
     "start_time": "2023-01-08T05:00:13.085620",
     "status": "completed"
    },
    "tags": []
   },
   "outputs": [],
   "source": [
    "from sklearn.metrics import mean_squared_error"
   ]
  },
  {
   "cell_type": "code",
   "execution_count": 5,
   "id": "29475607",
   "metadata": {
    "execution": {
     "iopub.execute_input": "2023-01-08T05:00:13.111428Z",
     "iopub.status.busy": "2023-01-08T05:00:13.111059Z",
     "iopub.status.idle": "2023-01-08T05:00:13.115793Z",
     "shell.execute_reply": "2023-01-08T05:00:13.114839Z"
    },
    "id": "TNJWcSpMoEuE",
    "papermill": {
     "duration": 0.013329,
     "end_time": "2023-01-08T05:00:13.117650",
     "exception": false,
     "start_time": "2023-01-08T05:00:13.104321",
     "status": "completed"
    },
    "tags": []
   },
   "outputs": [],
   "source": [
    "from sklearn.preprocessing import StandardScaler as ss\n",
    "\n",
    "# 1.3 Dimensionality reduction and noise removal\n",
    "from sklearn.decomposition import PCA"
   ]
  },
  {
   "cell_type": "markdown",
   "id": "7506d638",
   "metadata": {
    "id": "W51LxkXA6wH_",
    "papermill": {
     "duration": 0.005401,
     "end_time": "2023-01-08T05:00:13.128923",
     "exception": false,
     "start_time": "2023-01-08T05:00:13.123522",
     "status": "completed"
    },
    "tags": []
   },
   "source": [
    "Mount drive and read data"
   ]
  },
  {
   "cell_type": "code",
   "execution_count": 6,
   "id": "c4340664",
   "metadata": {
    "execution": {
     "iopub.execute_input": "2023-01-08T05:00:13.142974Z",
     "iopub.status.busy": "2023-01-08T05:00:13.142340Z",
     "iopub.status.idle": "2023-01-08T05:00:13.183864Z",
     "shell.execute_reply": "2023-01-08T05:00:13.183039Z"
    },
    "id": "qNIi5M_G6zl6",
    "outputId": "88f77be8-242e-416b-9055-9534f97e3546",
    "papermill": {
     "duration": 0.050421,
     "end_time": "2023-01-08T05:00:13.186319",
     "exception": false,
     "start_time": "2023-01-08T05:00:13.135898",
     "status": "completed"
    },
    "tags": []
   },
   "outputs": [],
   "source": [
    "# Mount gdrive\n",
    "#from google.colab import drive\n",
    "#drive.mount('/gdrive')\n",
    "#path = \"/gdrive/MyDrive/GoogleCollabDataFiles/\"\n",
    "#os.chdir(path)\n",
    "wmart = pd.read_csv(\"/kaggle/input/walmart-sales-dataset-of-45stores/walmart-sales-dataset-of-45stores.csv\",\n",
    "                    parse_dates = ['Date'] \n",
    "                )\n"
   ]
  },
  {
   "cell_type": "code",
   "execution_count": 7,
   "id": "f1dc36ea",
   "metadata": {
    "execution": {
     "iopub.execute_input": "2023-01-08T05:00:13.200096Z",
     "iopub.status.busy": "2023-01-08T05:00:13.199740Z",
     "iopub.status.idle": "2023-01-08T05:00:13.205833Z",
     "shell.execute_reply": "2023-01-08T05:00:13.204865Z"
    },
    "id": "PEchl4mN7J2-",
    "papermill": {
     "duration": 0.015375,
     "end_time": "2023-01-08T05:00:13.207941",
     "exception": false,
     "start_time": "2023-01-08T05:00:13.192566",
     "status": "completed"
    },
    "tags": []
   },
   "outputs": [],
   "source": [
    "def mapQuarters(num):\n",
    "    \"\"\"This function returns the absolute\n",
    "    value of the entered number\"\"\"\n",
    "\n",
    "    if num >= 1 and num <=3:\n",
    "        return 1\n",
    "    if num >= 4 and num <=6:\n",
    "        return 2\n",
    "    if num >= 7 and num <=9:\n",
    "        return 3\n",
    "    if num >= 10 and num <=12:\n",
    "        return 4"
   ]
  },
  {
   "cell_type": "code",
   "execution_count": 8,
   "id": "28bc3be8",
   "metadata": {
    "execution": {
     "iopub.execute_input": "2023-01-08T05:00:13.221814Z",
     "iopub.status.busy": "2023-01-08T05:00:13.220882Z",
     "iopub.status.idle": "2023-01-08T05:00:13.239574Z",
     "shell.execute_reply": "2023-01-08T05:00:13.238499Z"
    },
    "id": "_qeIc1507iNX",
    "papermill": {
     "duration": 0.02888,
     "end_time": "2023-01-08T05:00:13.242772",
     "exception": false,
     "start_time": "2023-01-08T05:00:13.213892",
     "status": "completed"
    },
    "tags": []
   },
   "outputs": [],
   "source": [
    "wmart['Day'] = wmart['Date'].dt.dayofweek #0 for monday through 6 for sunday\n",
    "wmart['month'] = wmart['Date'].dt.month\n",
    "wmart['quarter']=wmart['month'].apply(lambda x : mapQuarters(x))"
   ]
  },
  {
   "cell_type": "code",
   "execution_count": 9,
   "id": "30ac76a8",
   "metadata": {
    "execution": {
     "iopub.execute_input": "2023-01-08T05:00:13.260364Z",
     "iopub.status.busy": "2023-01-08T05:00:13.259713Z",
     "iopub.status.idle": "2023-01-08T05:00:13.267909Z",
     "shell.execute_reply": "2023-01-08T05:00:13.266955Z"
    },
    "id": "Fpl-bQ-E7nQd",
    "papermill": {
     "duration": 0.019146,
     "end_time": "2023-01-08T05:00:13.270341",
     "exception": false,
     "start_time": "2023-01-08T05:00:13.251195",
     "status": "completed"
    },
    "tags": []
   },
   "outputs": [],
   "source": [
    "wmart.drop(['Date'], axis=1, inplace=True)"
   ]
  },
  {
   "cell_type": "code",
   "execution_count": 10,
   "id": "d226f12d",
   "metadata": {
    "execution": {
     "iopub.execute_input": "2023-01-08T05:00:13.285951Z",
     "iopub.status.busy": "2023-01-08T05:00:13.285564Z",
     "iopub.status.idle": "2023-01-08T05:00:13.295755Z",
     "shell.execute_reply": "2023-01-08T05:00:13.294828Z"
    },
    "id": "ph0BT0hj8sPs",
    "papermill": {
     "duration": 0.021172,
     "end_time": "2023-01-08T05:00:13.298174",
     "exception": false,
     "start_time": "2023-01-08T05:00:13.277002",
     "status": "completed"
    },
    "tags": []
   },
   "outputs": [],
   "source": [
    "wmart['Weekly_Sales'] = np.log(wmart['Weekly_Sales'])\n",
    "y=wmart.pop('Weekly_Sales')\n",
    "X_train, X_test, y_train,y_test = train_test_split(\n",
    "                                                   wmart,\n",
    "                                                   y,\n",
    "                                                   test_size = 0.3,\n",
    "                                                   shuffle= True)"
   ]
  },
  {
   "cell_type": "code",
   "execution_count": 11,
   "id": "87df5caa",
   "metadata": {
    "execution": {
     "iopub.execute_input": "2023-01-08T05:00:13.312369Z",
     "iopub.status.busy": "2023-01-08T05:00:13.311651Z",
     "iopub.status.idle": "2023-01-08T05:00:20.934831Z",
     "shell.execute_reply": "2023-01-08T05:00:20.933830Z"
    },
    "id": "85nYeZij8012",
    "outputId": "601f7680-8adc-4441-a0e8-c1f65eba1de0",
    "papermill": {
     "duration": 7.632976,
     "end_time": "2023-01-08T05:00:20.937286",
     "exception": false,
     "start_time": "2023-01-08T05:00:13.304310",
     "status": "completed"
    },
    "tags": []
   },
   "outputs": [
    {
     "data": {
      "text/plain": [
       "RandomForestRegressor(max_depth=1, n_estimators=1, oob_score=True)"
      ]
     },
     "execution_count": 11,
     "metadata": {},
     "output_type": "execute_result"
    },
    {
     "name": "stdout",
     "output_type": "stream",
     "text": [
      "\n",
      " MSE: 0.29\n",
      "RMSE: 0.54\n"
     ]
    },
    {
     "data": {
      "text/plain": [
       "RandomForestRegressor(max_depth=2, n_estimators=1, oob_score=True)"
      ]
     },
     "execution_count": 11,
     "metadata": {},
     "output_type": "execute_result"
    },
    {
     "name": "stdout",
     "output_type": "stream",
     "text": [
      "\n",
      " MSE: 0.24\n",
      "RMSE: 0.49\n"
     ]
    },
    {
     "data": {
      "text/plain": [
       "RandomForestRegressor(max_depth=3, n_estimators=1, oob_score=True)"
      ]
     },
     "execution_count": 11,
     "metadata": {},
     "output_type": "execute_result"
    },
    {
     "name": "stdout",
     "output_type": "stream",
     "text": [
      "\n",
      " MSE: 0.18\n",
      "RMSE: 0.42\n"
     ]
    },
    {
     "data": {
      "text/plain": [
       "RandomForestRegressor(max_depth=4, n_estimators=1, oob_score=True)"
      ]
     },
     "execution_count": 11,
     "metadata": {},
     "output_type": "execute_result"
    },
    {
     "name": "stdout",
     "output_type": "stream",
     "text": [
      "\n",
      " MSE: 0.12\n",
      "RMSE: 0.34\n"
     ]
    },
    {
     "data": {
      "text/plain": [
       "RandomForestRegressor(max_depth=5, n_estimators=1, oob_score=True)"
      ]
     },
     "execution_count": 11,
     "metadata": {},
     "output_type": "execute_result"
    },
    {
     "name": "stdout",
     "output_type": "stream",
     "text": [
      "\n",
      " MSE: 0.08\n",
      "RMSE: 0.29\n"
     ]
    },
    {
     "data": {
      "text/plain": [
       "RandomForestRegressor(max_depth=6, n_estimators=1, oob_score=True)"
      ]
     },
     "execution_count": 11,
     "metadata": {},
     "output_type": "execute_result"
    },
    {
     "name": "stdout",
     "output_type": "stream",
     "text": [
      "\n",
      " MSE: 0.06\n",
      "RMSE: 0.24\n"
     ]
    },
    {
     "data": {
      "text/plain": [
       "RandomForestRegressor(max_depth=7, n_estimators=1, oob_score=True)"
      ]
     },
     "execution_count": 11,
     "metadata": {},
     "output_type": "execute_result"
    },
    {
     "name": "stdout",
     "output_type": "stream",
     "text": [
      "\n",
      " MSE: 0.03\n",
      "RMSE: 0.17\n"
     ]
    },
    {
     "data": {
      "text/plain": [
       "RandomForestRegressor(max_depth=8, n_estimators=1, oob_score=True)"
      ]
     },
     "execution_count": 11,
     "metadata": {},
     "output_type": "execute_result"
    },
    {
     "name": "stdout",
     "output_type": "stream",
     "text": [
      "\n",
      " MSE: 0.02\n",
      "RMSE: 0.15\n"
     ]
    },
    {
     "data": {
      "text/plain": [
       "RandomForestRegressor(max_depth=9, n_estimators=1, oob_score=True)"
      ]
     },
     "execution_count": 11,
     "metadata": {},
     "output_type": "execute_result"
    },
    {
     "name": "stdout",
     "output_type": "stream",
     "text": [
      "\n",
      " MSE: 0.02\n",
      "RMSE: 0.14\n"
     ]
    },
    {
     "data": {
      "text/plain": [
       "RandomForestRegressor(max_depth=10, n_estimators=1, oob_score=True)"
      ]
     },
     "execution_count": 11,
     "metadata": {},
     "output_type": "execute_result"
    },
    {
     "name": "stdout",
     "output_type": "stream",
     "text": [
      "\n",
      " MSE: 0.02\n",
      "RMSE: 0.13\n"
     ]
    },
    {
     "data": {
      "text/plain": [
       "RandomForestRegressor(max_depth=11, n_estimators=1, oob_score=True)"
      ]
     },
     "execution_count": 11,
     "metadata": {},
     "output_type": "execute_result"
    },
    {
     "name": "stdout",
     "output_type": "stream",
     "text": [
      "\n",
      " MSE: 0.02\n",
      "RMSE: 0.14\n"
     ]
    },
    {
     "data": {
      "text/plain": [
       "RandomForestRegressor(max_depth=12, n_estimators=1, oob_score=True)"
      ]
     },
     "execution_count": 11,
     "metadata": {},
     "output_type": "execute_result"
    },
    {
     "name": "stdout",
     "output_type": "stream",
     "text": [
      "\n",
      " MSE: 0.02\n",
      "RMSE: 0.14\n"
     ]
    },
    {
     "data": {
      "text/plain": [
       "RandomForestRegressor(max_depth=13, n_estimators=1, oob_score=True)"
      ]
     },
     "execution_count": 11,
     "metadata": {},
     "output_type": "execute_result"
    },
    {
     "name": "stdout",
     "output_type": "stream",
     "text": [
      "\n",
      " MSE: 0.02\n",
      "RMSE: 0.14\n"
     ]
    },
    {
     "data": {
      "text/plain": [
       "RandomForestRegressor(max_depth=14, n_estimators=1, oob_score=True)"
      ]
     },
     "execution_count": 11,
     "metadata": {},
     "output_type": "execute_result"
    },
    {
     "name": "stdout",
     "output_type": "stream",
     "text": [
      "\n",
      " MSE: 0.02\n",
      "RMSE: 0.15\n"
     ]
    },
    {
     "data": {
      "text/plain": [
       "RandomForestRegressor(max_depth=1, n_estimators=2, oob_score=True)"
      ]
     },
     "execution_count": 11,
     "metadata": {},
     "output_type": "execute_result"
    },
    {
     "name": "stdout",
     "output_type": "stream",
     "text": [
      "\n",
      " MSE: 0.29\n",
      "RMSE: 0.54\n"
     ]
    },
    {
     "data": {
      "text/plain": [
       "RandomForestRegressor(max_depth=2, n_estimators=2, oob_score=True)"
      ]
     },
     "execution_count": 11,
     "metadata": {},
     "output_type": "execute_result"
    },
    {
     "name": "stdout",
     "output_type": "stream",
     "text": [
      "\n",
      " MSE: 0.24\n",
      "RMSE: 0.49\n"
     ]
    },
    {
     "data": {
      "text/plain": [
       "RandomForestRegressor(max_depth=3, n_estimators=2, oob_score=True)"
      ]
     },
     "execution_count": 11,
     "metadata": {},
     "output_type": "execute_result"
    },
    {
     "name": "stdout",
     "output_type": "stream",
     "text": [
      "\n",
      " MSE: 0.18\n",
      "RMSE: 0.42\n"
     ]
    },
    {
     "data": {
      "text/plain": [
       "RandomForestRegressor(max_depth=4, n_estimators=2, oob_score=True)"
      ]
     },
     "execution_count": 11,
     "metadata": {},
     "output_type": "execute_result"
    },
    {
     "name": "stdout",
     "output_type": "stream",
     "text": [
      "\n",
      " MSE: 0.11\n",
      "RMSE: 0.34\n"
     ]
    },
    {
     "data": {
      "text/plain": [
       "RandomForestRegressor(max_depth=5, n_estimators=2, oob_score=True)"
      ]
     },
     "execution_count": 11,
     "metadata": {},
     "output_type": "execute_result"
    },
    {
     "name": "stdout",
     "output_type": "stream",
     "text": [
      "\n",
      " MSE: 0.08\n",
      "RMSE: 0.28\n"
     ]
    },
    {
     "data": {
      "text/plain": [
       "RandomForestRegressor(max_depth=6, n_estimators=2, oob_score=True)"
      ]
     },
     "execution_count": 11,
     "metadata": {},
     "output_type": "execute_result"
    },
    {
     "name": "stdout",
     "output_type": "stream",
     "text": [
      "\n",
      " MSE: 0.05\n",
      "RMSE: 0.23\n"
     ]
    },
    {
     "data": {
      "text/plain": [
       "RandomForestRegressor(max_depth=7, n_estimators=2, oob_score=True)"
      ]
     },
     "execution_count": 11,
     "metadata": {},
     "output_type": "execute_result"
    },
    {
     "name": "stdout",
     "output_type": "stream",
     "text": [
      "\n",
      " MSE: 0.03\n",
      "RMSE: 0.17\n"
     ]
    },
    {
     "data": {
      "text/plain": [
       "RandomForestRegressor(max_depth=8, n_estimators=2, oob_score=True)"
      ]
     },
     "execution_count": 11,
     "metadata": {},
     "output_type": "execute_result"
    },
    {
     "name": "stdout",
     "output_type": "stream",
     "text": [
      "\n",
      " MSE: 0.02\n",
      "RMSE: 0.13\n"
     ]
    },
    {
     "data": {
      "text/plain": [
       "RandomForestRegressor(max_depth=9, n_estimators=2, oob_score=True)"
      ]
     },
     "execution_count": 11,
     "metadata": {},
     "output_type": "execute_result"
    },
    {
     "name": "stdout",
     "output_type": "stream",
     "text": [
      "\n",
      " MSE: 0.01\n",
      "RMSE: 0.12\n"
     ]
    },
    {
     "data": {
      "text/plain": [
       "RandomForestRegressor(max_depth=10, n_estimators=2, oob_score=True)"
      ]
     },
     "execution_count": 11,
     "metadata": {},
     "output_type": "execute_result"
    },
    {
     "name": "stdout",
     "output_type": "stream",
     "text": [
      "\n",
      " MSE: 0.02\n",
      "RMSE: 0.12\n"
     ]
    },
    {
     "data": {
      "text/plain": [
       "RandomForestRegressor(max_depth=11, n_estimators=2, oob_score=True)"
      ]
     },
     "execution_count": 11,
     "metadata": {},
     "output_type": "execute_result"
    },
    {
     "name": "stdout",
     "output_type": "stream",
     "text": [
      "\n",
      " MSE: 0.01\n",
      "RMSE: 0.12\n"
     ]
    },
    {
     "data": {
      "text/plain": [
       "RandomForestRegressor(max_depth=12, n_estimators=2, oob_score=True)"
      ]
     },
     "execution_count": 11,
     "metadata": {},
     "output_type": "execute_result"
    },
    {
     "name": "stdout",
     "output_type": "stream",
     "text": [
      "\n",
      " MSE: 0.01\n",
      "RMSE: 0.12\n"
     ]
    },
    {
     "data": {
      "text/plain": [
       "RandomForestRegressor(max_depth=13, n_estimators=2, oob_score=True)"
      ]
     },
     "execution_count": 11,
     "metadata": {},
     "output_type": "execute_result"
    },
    {
     "name": "stdout",
     "output_type": "stream",
     "text": [
      "\n",
      " MSE: 0.01\n",
      "RMSE: 0.12\n"
     ]
    },
    {
     "data": {
      "text/plain": [
       "RandomForestRegressor(max_depth=14, n_estimators=2, oob_score=True)"
      ]
     },
     "execution_count": 11,
     "metadata": {},
     "output_type": "execute_result"
    },
    {
     "name": "stdout",
     "output_type": "stream",
     "text": [
      "\n",
      " MSE: 0.01\n",
      "RMSE: 0.11\n"
     ]
    },
    {
     "data": {
      "text/plain": [
       "RandomForestRegressor(max_depth=1, n_estimators=3, oob_score=True)"
      ]
     },
     "execution_count": 11,
     "metadata": {},
     "output_type": "execute_result"
    },
    {
     "name": "stdout",
     "output_type": "stream",
     "text": [
      "\n",
      " MSE: 0.29\n",
      "RMSE: 0.54\n"
     ]
    },
    {
     "data": {
      "text/plain": [
       "RandomForestRegressor(max_depth=2, n_estimators=3, oob_score=True)"
      ]
     },
     "execution_count": 11,
     "metadata": {},
     "output_type": "execute_result"
    },
    {
     "name": "stdout",
     "output_type": "stream",
     "text": [
      "\n",
      " MSE: 0.24\n",
      "RMSE: 0.49\n"
     ]
    },
    {
     "data": {
      "text/plain": [
       "RandomForestRegressor(max_depth=3, n_estimators=3, oob_score=True)"
      ]
     },
     "execution_count": 11,
     "metadata": {},
     "output_type": "execute_result"
    },
    {
     "name": "stdout",
     "output_type": "stream",
     "text": [
      "\n",
      " MSE: 0.18\n",
      "RMSE: 0.42\n"
     ]
    },
    {
     "data": {
      "text/plain": [
       "RandomForestRegressor(max_depth=4, n_estimators=3, oob_score=True)"
      ]
     },
     "execution_count": 11,
     "metadata": {},
     "output_type": "execute_result"
    },
    {
     "name": "stdout",
     "output_type": "stream",
     "text": [
      "\n",
      " MSE: 0.11\n",
      "RMSE: 0.33\n"
     ]
    },
    {
     "data": {
      "text/plain": [
       "RandomForestRegressor(max_depth=5, n_estimators=3, oob_score=True)"
      ]
     },
     "execution_count": 11,
     "metadata": {},
     "output_type": "execute_result"
    },
    {
     "name": "stdout",
     "output_type": "stream",
     "text": [
      "\n",
      " MSE: 0.08\n",
      "RMSE: 0.28\n"
     ]
    },
    {
     "data": {
      "text/plain": [
       "RandomForestRegressor(max_depth=6, n_estimators=3, oob_score=True)"
      ]
     },
     "execution_count": 11,
     "metadata": {},
     "output_type": "execute_result"
    },
    {
     "name": "stdout",
     "output_type": "stream",
     "text": [
      "\n",
      " MSE: 0.04\n",
      "RMSE: 0.21\n"
     ]
    },
    {
     "data": {
      "text/plain": [
       "RandomForestRegressor(max_depth=7, n_estimators=3, oob_score=True)"
      ]
     },
     "execution_count": 11,
     "metadata": {},
     "output_type": "execute_result"
    },
    {
     "name": "stdout",
     "output_type": "stream",
     "text": [
      "\n",
      " MSE: 0.03\n",
      "RMSE: 0.17\n"
     ]
    },
    {
     "data": {
      "text/plain": [
       "RandomForestRegressor(max_depth=8, n_estimators=3, oob_score=True)"
      ]
     },
     "execution_count": 11,
     "metadata": {},
     "output_type": "execute_result"
    },
    {
     "name": "stdout",
     "output_type": "stream",
     "text": [
      "\n",
      " MSE: 0.02\n",
      "RMSE: 0.15\n"
     ]
    },
    {
     "data": {
      "text/plain": [
       "RandomForestRegressor(max_depth=9, n_estimators=3, oob_score=True)"
      ]
     },
     "execution_count": 11,
     "metadata": {},
     "output_type": "execute_result"
    },
    {
     "name": "stdout",
     "output_type": "stream",
     "text": [
      "\n",
      " MSE: 0.01\n",
      "RMSE: 0.12\n"
     ]
    },
    {
     "data": {
      "text/plain": [
       "RandomForestRegressor(max_depth=10, n_estimators=3, oob_score=True)"
      ]
     },
     "execution_count": 11,
     "metadata": {},
     "output_type": "execute_result"
    },
    {
     "name": "stdout",
     "output_type": "stream",
     "text": [
      "\n",
      " MSE: 0.01\n",
      "RMSE: 0.12\n"
     ]
    },
    {
     "data": {
      "text/plain": [
       "RandomForestRegressor(max_depth=11, n_estimators=3, oob_score=True)"
      ]
     },
     "execution_count": 11,
     "metadata": {},
     "output_type": "execute_result"
    },
    {
     "name": "stdout",
     "output_type": "stream",
     "text": [
      "\n",
      " MSE: 0.01\n",
      "RMSE: 0.11\n"
     ]
    },
    {
     "data": {
      "text/plain": [
       "RandomForestRegressor(max_depth=12, n_estimators=3, oob_score=True)"
      ]
     },
     "execution_count": 11,
     "metadata": {},
     "output_type": "execute_result"
    },
    {
     "name": "stdout",
     "output_type": "stream",
     "text": [
      "\n",
      " MSE: 0.01\n",
      "RMSE: 0.11\n"
     ]
    },
    {
     "data": {
      "text/plain": [
       "RandomForestRegressor(max_depth=13, n_estimators=3, oob_score=True)"
      ]
     },
     "execution_count": 11,
     "metadata": {},
     "output_type": "execute_result"
    },
    {
     "name": "stdout",
     "output_type": "stream",
     "text": [
      "\n",
      " MSE: 0.01\n",
      "RMSE: 0.11\n"
     ]
    },
    {
     "data": {
      "text/plain": [
       "RandomForestRegressor(max_depth=14, n_estimators=3, oob_score=True)"
      ]
     },
     "execution_count": 11,
     "metadata": {},
     "output_type": "execute_result"
    },
    {
     "name": "stdout",
     "output_type": "stream",
     "text": [
      "\n",
      " MSE: 0.01\n",
      "RMSE: 0.12\n"
     ]
    },
    {
     "data": {
      "text/plain": [
       "RandomForestRegressor(max_depth=1, n_estimators=4, oob_score=True)"
      ]
     },
     "execution_count": 11,
     "metadata": {},
     "output_type": "execute_result"
    },
    {
     "name": "stdout",
     "output_type": "stream",
     "text": [
      "\n",
      " MSE: 0.29\n",
      "RMSE: 0.54\n"
     ]
    },
    {
     "data": {
      "text/plain": [
       "RandomForestRegressor(max_depth=2, n_estimators=4, oob_score=True)"
      ]
     },
     "execution_count": 11,
     "metadata": {},
     "output_type": "execute_result"
    },
    {
     "name": "stdout",
     "output_type": "stream",
     "text": [
      "\n",
      " MSE: 0.24\n",
      "RMSE: 0.49\n"
     ]
    },
    {
     "data": {
      "text/plain": [
       "RandomForestRegressor(max_depth=3, n_estimators=4, oob_score=True)"
      ]
     },
     "execution_count": 11,
     "metadata": {},
     "output_type": "execute_result"
    },
    {
     "name": "stdout",
     "output_type": "stream",
     "text": [
      "\n",
      " MSE: 0.18\n",
      "RMSE: 0.42\n"
     ]
    },
    {
     "data": {
      "text/plain": [
       "RandomForestRegressor(max_depth=4, n_estimators=4, oob_score=True)"
      ]
     },
     "execution_count": 11,
     "metadata": {},
     "output_type": "execute_result"
    },
    {
     "name": "stdout",
     "output_type": "stream",
     "text": [
      "\n",
      " MSE: 0.10\n",
      "RMSE: 0.32\n"
     ]
    },
    {
     "data": {
      "text/plain": [
       "RandomForestRegressor(max_depth=5, n_estimators=4, oob_score=True)"
      ]
     },
     "execution_count": 11,
     "metadata": {},
     "output_type": "execute_result"
    },
    {
     "name": "stdout",
     "output_type": "stream",
     "text": [
      "\n",
      " MSE: 0.08\n",
      "RMSE: 0.28\n"
     ]
    },
    {
     "data": {
      "text/plain": [
       "RandomForestRegressor(max_depth=6, n_estimators=4, oob_score=True)"
      ]
     },
     "execution_count": 11,
     "metadata": {},
     "output_type": "execute_result"
    },
    {
     "name": "stdout",
     "output_type": "stream",
     "text": [
      "\n",
      " MSE: 0.05\n",
      "RMSE: 0.21\n"
     ]
    },
    {
     "data": {
      "text/plain": [
       "RandomForestRegressor(max_depth=7, n_estimators=4, oob_score=True)"
      ]
     },
     "execution_count": 11,
     "metadata": {},
     "output_type": "execute_result"
    },
    {
     "name": "stdout",
     "output_type": "stream",
     "text": [
      "\n",
      " MSE: 0.03\n",
      "RMSE: 0.17\n"
     ]
    },
    {
     "data": {
      "text/plain": [
       "RandomForestRegressor(max_depth=8, n_estimators=4, oob_score=True)"
      ]
     },
     "execution_count": 11,
     "metadata": {},
     "output_type": "execute_result"
    },
    {
     "name": "stdout",
     "output_type": "stream",
     "text": [
      "\n",
      " MSE: 0.02\n",
      "RMSE: 0.13\n"
     ]
    },
    {
     "data": {
      "text/plain": [
       "RandomForestRegressor(max_depth=9, n_estimators=4, oob_score=True)"
      ]
     },
     "execution_count": 11,
     "metadata": {},
     "output_type": "execute_result"
    },
    {
     "name": "stdout",
     "output_type": "stream",
     "text": [
      "\n",
      " MSE: 0.01\n",
      "RMSE: 0.11\n"
     ]
    },
    {
     "data": {
      "text/plain": [
       "RandomForestRegressor(max_depth=10, n_estimators=4, oob_score=True)"
      ]
     },
     "execution_count": 11,
     "metadata": {},
     "output_type": "execute_result"
    },
    {
     "name": "stdout",
     "output_type": "stream",
     "text": [
      "\n",
      " MSE: 0.01\n",
      "RMSE: 0.11\n"
     ]
    },
    {
     "data": {
      "text/plain": [
       "RandomForestRegressor(max_depth=11, n_estimators=4, oob_score=True)"
      ]
     },
     "execution_count": 11,
     "metadata": {},
     "output_type": "execute_result"
    },
    {
     "name": "stdout",
     "output_type": "stream",
     "text": [
      "\n",
      " MSE: 0.01\n",
      "RMSE: 0.11\n"
     ]
    },
    {
     "data": {
      "text/plain": [
       "RandomForestRegressor(max_depth=12, n_estimators=4, oob_score=True)"
      ]
     },
     "execution_count": 11,
     "metadata": {},
     "output_type": "execute_result"
    },
    {
     "name": "stdout",
     "output_type": "stream",
     "text": [
      "\n",
      " MSE: 0.01\n",
      "RMSE: 0.11\n"
     ]
    },
    {
     "data": {
      "text/plain": [
       "RandomForestRegressor(max_depth=13, n_estimators=4, oob_score=True)"
      ]
     },
     "execution_count": 11,
     "metadata": {},
     "output_type": "execute_result"
    },
    {
     "name": "stdout",
     "output_type": "stream",
     "text": [
      "\n",
      " MSE: 0.01\n",
      "RMSE: 0.11\n"
     ]
    },
    {
     "data": {
      "text/plain": [
       "RandomForestRegressor(max_depth=14, n_estimators=4, oob_score=True)"
      ]
     },
     "execution_count": 11,
     "metadata": {},
     "output_type": "execute_result"
    },
    {
     "name": "stdout",
     "output_type": "stream",
     "text": [
      "\n",
      " MSE: 0.01\n",
      "RMSE: 0.11\n"
     ]
    },
    {
     "data": {
      "text/plain": [
       "RandomForestRegressor(max_depth=1, n_estimators=5, oob_score=True)"
      ]
     },
     "execution_count": 11,
     "metadata": {},
     "output_type": "execute_result"
    },
    {
     "name": "stdout",
     "output_type": "stream",
     "text": [
      "\n",
      " MSE: 0.29\n",
      "RMSE: 0.54\n"
     ]
    },
    {
     "data": {
      "text/plain": [
       "RandomForestRegressor(max_depth=2, n_estimators=5, oob_score=True)"
      ]
     },
     "execution_count": 11,
     "metadata": {},
     "output_type": "execute_result"
    },
    {
     "name": "stdout",
     "output_type": "stream",
     "text": [
      "\n",
      " MSE: 0.24\n",
      "RMSE: 0.49\n"
     ]
    },
    {
     "data": {
      "text/plain": [
       "RandomForestRegressor(max_depth=3, n_estimators=5, oob_score=True)"
      ]
     },
     "execution_count": 11,
     "metadata": {},
     "output_type": "execute_result"
    },
    {
     "name": "stdout",
     "output_type": "stream",
     "text": [
      "\n",
      " MSE: 0.18\n",
      "RMSE: 0.42\n"
     ]
    },
    {
     "data": {
      "text/plain": [
       "RandomForestRegressor(max_depth=4, n_estimators=5, oob_score=True)"
      ]
     },
     "execution_count": 11,
     "metadata": {},
     "output_type": "execute_result"
    },
    {
     "name": "stdout",
     "output_type": "stream",
     "text": [
      "\n",
      " MSE: 0.11\n",
      "RMSE: 0.33\n"
     ]
    },
    {
     "data": {
      "text/plain": [
       "RandomForestRegressor(max_depth=5, n_estimators=5, oob_score=True)"
      ]
     },
     "execution_count": 11,
     "metadata": {},
     "output_type": "execute_result"
    },
    {
     "name": "stdout",
     "output_type": "stream",
     "text": [
      "\n",
      " MSE: 0.07\n",
      "RMSE: 0.27\n"
     ]
    },
    {
     "data": {
      "text/plain": [
       "RandomForestRegressor(max_depth=6, n_estimators=5, oob_score=True)"
      ]
     },
     "execution_count": 11,
     "metadata": {},
     "output_type": "execute_result"
    },
    {
     "name": "stdout",
     "output_type": "stream",
     "text": [
      "\n",
      " MSE: 0.05\n",
      "RMSE: 0.22\n"
     ]
    },
    {
     "data": {
      "text/plain": [
       "RandomForestRegressor(max_depth=7, n_estimators=5, oob_score=True)"
      ]
     },
     "execution_count": 11,
     "metadata": {},
     "output_type": "execute_result"
    },
    {
     "name": "stdout",
     "output_type": "stream",
     "text": [
      "\n",
      " MSE: 0.03\n",
      "RMSE: 0.16\n"
     ]
    },
    {
     "data": {
      "text/plain": [
       "RandomForestRegressor(max_depth=8, n_estimators=5, oob_score=True)"
      ]
     },
     "execution_count": 11,
     "metadata": {},
     "output_type": "execute_result"
    },
    {
     "name": "stdout",
     "output_type": "stream",
     "text": [
      "\n",
      " MSE: 0.02\n",
      "RMSE: 0.13\n"
     ]
    },
    {
     "data": {
      "text/plain": [
       "RandomForestRegressor(max_depth=9, n_estimators=5, oob_score=True)"
      ]
     },
     "execution_count": 11,
     "metadata": {},
     "output_type": "execute_result"
    },
    {
     "name": "stdout",
     "output_type": "stream",
     "text": [
      "\n",
      " MSE: 0.01\n",
      "RMSE: 0.11\n"
     ]
    },
    {
     "data": {
      "text/plain": [
       "RandomForestRegressor(max_depth=10, n_estimators=5, oob_score=True)"
      ]
     },
     "execution_count": 11,
     "metadata": {},
     "output_type": "execute_result"
    },
    {
     "name": "stdout",
     "output_type": "stream",
     "text": [
      "\n",
      " MSE: 0.01\n",
      "RMSE: 0.11\n"
     ]
    },
    {
     "data": {
      "text/plain": [
       "RandomForestRegressor(max_depth=11, n_estimators=5, oob_score=True)"
      ]
     },
     "execution_count": 11,
     "metadata": {},
     "output_type": "execute_result"
    },
    {
     "name": "stdout",
     "output_type": "stream",
     "text": [
      "\n",
      " MSE: 0.01\n",
      "RMSE: 0.11\n"
     ]
    },
    {
     "data": {
      "text/plain": [
       "RandomForestRegressor(max_depth=12, n_estimators=5, oob_score=True)"
      ]
     },
     "execution_count": 11,
     "metadata": {},
     "output_type": "execute_result"
    },
    {
     "name": "stdout",
     "output_type": "stream",
     "text": [
      "\n",
      " MSE: 0.01\n",
      "RMSE: 0.11\n"
     ]
    },
    {
     "data": {
      "text/plain": [
       "RandomForestRegressor(max_depth=13, n_estimators=5, oob_score=True)"
      ]
     },
     "execution_count": 11,
     "metadata": {},
     "output_type": "execute_result"
    },
    {
     "name": "stdout",
     "output_type": "stream",
     "text": [
      "\n",
      " MSE: 0.01\n",
      "RMSE: 0.11\n"
     ]
    },
    {
     "data": {
      "text/plain": [
       "RandomForestRegressor(max_depth=14, n_estimators=5, oob_score=True)"
      ]
     },
     "execution_count": 11,
     "metadata": {},
     "output_type": "execute_result"
    },
    {
     "name": "stdout",
     "output_type": "stream",
     "text": [
      "\n",
      " MSE: 0.01\n",
      "RMSE: 0.11\n"
     ]
    },
    {
     "data": {
      "text/plain": [
       "RandomForestRegressor(max_depth=1, n_estimators=6, oob_score=True)"
      ]
     },
     "execution_count": 11,
     "metadata": {},
     "output_type": "execute_result"
    },
    {
     "name": "stdout",
     "output_type": "stream",
     "text": [
      "\n",
      " MSE: 0.29\n",
      "RMSE: 0.54\n"
     ]
    },
    {
     "data": {
      "text/plain": [
       "RandomForestRegressor(max_depth=2, n_estimators=6, oob_score=True)"
      ]
     },
     "execution_count": 11,
     "metadata": {},
     "output_type": "execute_result"
    },
    {
     "name": "stdout",
     "output_type": "stream",
     "text": [
      "\n",
      " MSE: 0.24\n",
      "RMSE: 0.49\n"
     ]
    },
    {
     "data": {
      "text/plain": [
       "RandomForestRegressor(max_depth=3, n_estimators=6, oob_score=True)"
      ]
     },
     "execution_count": 11,
     "metadata": {},
     "output_type": "execute_result"
    },
    {
     "name": "stdout",
     "output_type": "stream",
     "text": [
      "\n",
      " MSE: 0.18\n",
      "RMSE: 0.42\n"
     ]
    },
    {
     "data": {
      "text/plain": [
       "RandomForestRegressor(max_depth=4, n_estimators=6, oob_score=True)"
      ]
     },
     "execution_count": 11,
     "metadata": {},
     "output_type": "execute_result"
    },
    {
     "name": "stdout",
     "output_type": "stream",
     "text": [
      "\n",
      " MSE: 0.11\n",
      "RMSE: 0.33\n"
     ]
    },
    {
     "data": {
      "text/plain": [
       "RandomForestRegressor(max_depth=5, n_estimators=6, oob_score=True)"
      ]
     },
     "execution_count": 11,
     "metadata": {},
     "output_type": "execute_result"
    },
    {
     "name": "stdout",
     "output_type": "stream",
     "text": [
      "\n",
      " MSE: 0.08\n",
      "RMSE: 0.28\n"
     ]
    },
    {
     "data": {
      "text/plain": [
       "RandomForestRegressor(max_depth=6, n_estimators=6, oob_score=True)"
      ]
     },
     "execution_count": 11,
     "metadata": {},
     "output_type": "execute_result"
    },
    {
     "name": "stdout",
     "output_type": "stream",
     "text": [
      "\n",
      " MSE: 0.05\n",
      "RMSE: 0.21\n"
     ]
    },
    {
     "data": {
      "text/plain": [
       "RandomForestRegressor(max_depth=7, n_estimators=6, oob_score=True)"
      ]
     },
     "execution_count": 11,
     "metadata": {},
     "output_type": "execute_result"
    },
    {
     "name": "stdout",
     "output_type": "stream",
     "text": [
      "\n",
      " MSE: 0.02\n",
      "RMSE: 0.16\n"
     ]
    },
    {
     "data": {
      "text/plain": [
       "RandomForestRegressor(max_depth=8, n_estimators=6, oob_score=True)"
      ]
     },
     "execution_count": 11,
     "metadata": {},
     "output_type": "execute_result"
    },
    {
     "name": "stdout",
     "output_type": "stream",
     "text": [
      "\n",
      " MSE: 0.02\n",
      "RMSE: 0.13\n"
     ]
    },
    {
     "data": {
      "text/plain": [
       "RandomForestRegressor(max_depth=9, n_estimators=6, oob_score=True)"
      ]
     },
     "execution_count": 11,
     "metadata": {},
     "output_type": "execute_result"
    },
    {
     "name": "stdout",
     "output_type": "stream",
     "text": [
      "\n",
      " MSE: 0.01\n",
      "RMSE: 0.11\n"
     ]
    },
    {
     "data": {
      "text/plain": [
       "RandomForestRegressor(max_depth=10, n_estimators=6, oob_score=True)"
      ]
     },
     "execution_count": 11,
     "metadata": {},
     "output_type": "execute_result"
    },
    {
     "name": "stdout",
     "output_type": "stream",
     "text": [
      "\n",
      " MSE: 0.01\n",
      "RMSE: 0.11\n"
     ]
    },
    {
     "data": {
      "text/plain": [
       "RandomForestRegressor(max_depth=11, n_estimators=6, oob_score=True)"
      ]
     },
     "execution_count": 11,
     "metadata": {},
     "output_type": "execute_result"
    },
    {
     "name": "stdout",
     "output_type": "stream",
     "text": [
      "\n",
      " MSE: 0.01\n",
      "RMSE: 0.11\n"
     ]
    },
    {
     "data": {
      "text/plain": [
       "RandomForestRegressor(max_depth=12, n_estimators=6, oob_score=True)"
      ]
     },
     "execution_count": 11,
     "metadata": {},
     "output_type": "execute_result"
    },
    {
     "name": "stdout",
     "output_type": "stream",
     "text": [
      "\n",
      " MSE: 0.01\n",
      "RMSE: 0.11\n"
     ]
    },
    {
     "data": {
      "text/plain": [
       "RandomForestRegressor(max_depth=13, n_estimators=6, oob_score=True)"
      ]
     },
     "execution_count": 11,
     "metadata": {},
     "output_type": "execute_result"
    },
    {
     "name": "stdout",
     "output_type": "stream",
     "text": [
      "\n",
      " MSE: 0.01\n",
      "RMSE: 0.11\n"
     ]
    },
    {
     "data": {
      "text/plain": [
       "RandomForestRegressor(max_depth=14, n_estimators=6, oob_score=True)"
      ]
     },
     "execution_count": 11,
     "metadata": {},
     "output_type": "execute_result"
    },
    {
     "name": "stdout",
     "output_type": "stream",
     "text": [
      "\n",
      " MSE: 0.01\n",
      "RMSE: 0.11\n"
     ]
    },
    {
     "data": {
      "text/plain": [
       "RandomForestRegressor(max_depth=1, n_estimators=7, oob_score=True)"
      ]
     },
     "execution_count": 11,
     "metadata": {},
     "output_type": "execute_result"
    },
    {
     "name": "stdout",
     "output_type": "stream",
     "text": [
      "\n",
      " MSE: 0.29\n",
      "RMSE: 0.54\n"
     ]
    },
    {
     "data": {
      "text/plain": [
       "RandomForestRegressor(max_depth=2, n_estimators=7, oob_score=True)"
      ]
     },
     "execution_count": 11,
     "metadata": {},
     "output_type": "execute_result"
    },
    {
     "name": "stdout",
     "output_type": "stream",
     "text": [
      "\n",
      " MSE: 0.24\n",
      "RMSE: 0.49\n"
     ]
    },
    {
     "data": {
      "text/plain": [
       "RandomForestRegressor(max_depth=3, n_estimators=7, oob_score=True)"
      ]
     },
     "execution_count": 11,
     "metadata": {},
     "output_type": "execute_result"
    },
    {
     "name": "stdout",
     "output_type": "stream",
     "text": [
      "\n",
      " MSE: 0.18\n",
      "RMSE: 0.42\n"
     ]
    },
    {
     "data": {
      "text/plain": [
       "RandomForestRegressor(max_depth=4, n_estimators=7, oob_score=True)"
      ]
     },
     "execution_count": 11,
     "metadata": {},
     "output_type": "execute_result"
    },
    {
     "name": "stdout",
     "output_type": "stream",
     "text": [
      "\n",
      " MSE: 0.11\n",
      "RMSE: 0.33\n"
     ]
    },
    {
     "data": {
      "text/plain": [
       "RandomForestRegressor(max_depth=5, n_estimators=7, oob_score=True)"
      ]
     },
     "execution_count": 11,
     "metadata": {},
     "output_type": "execute_result"
    },
    {
     "name": "stdout",
     "output_type": "stream",
     "text": [
      "\n",
      " MSE: 0.08\n",
      "RMSE: 0.28\n"
     ]
    },
    {
     "data": {
      "text/plain": [
       "RandomForestRegressor(max_depth=6, n_estimators=7, oob_score=True)"
      ]
     },
     "execution_count": 11,
     "metadata": {},
     "output_type": "execute_result"
    },
    {
     "name": "stdout",
     "output_type": "stream",
     "text": [
      "\n",
      " MSE: 0.05\n",
      "RMSE: 0.22\n"
     ]
    },
    {
     "data": {
      "text/plain": [
       "RandomForestRegressor(max_depth=7, n_estimators=7, oob_score=True)"
      ]
     },
     "execution_count": 11,
     "metadata": {},
     "output_type": "execute_result"
    },
    {
     "name": "stdout",
     "output_type": "stream",
     "text": [
      "\n",
      " MSE: 0.03\n",
      "RMSE: 0.16\n"
     ]
    },
    {
     "data": {
      "text/plain": [
       "RandomForestRegressor(max_depth=8, n_estimators=7, oob_score=True)"
      ]
     },
     "execution_count": 11,
     "metadata": {},
     "output_type": "execute_result"
    },
    {
     "name": "stdout",
     "output_type": "stream",
     "text": [
      "\n",
      " MSE: 0.02\n",
      "RMSE: 0.13\n"
     ]
    },
    {
     "data": {
      "text/plain": [
       "RandomForestRegressor(max_depth=9, n_estimators=7, oob_score=True)"
      ]
     },
     "execution_count": 11,
     "metadata": {},
     "output_type": "execute_result"
    },
    {
     "name": "stdout",
     "output_type": "stream",
     "text": [
      "\n",
      " MSE: 0.01\n",
      "RMSE: 0.11\n"
     ]
    },
    {
     "data": {
      "text/plain": [
       "RandomForestRegressor(max_depth=10, n_estimators=7, oob_score=True)"
      ]
     },
     "execution_count": 11,
     "metadata": {},
     "output_type": "execute_result"
    },
    {
     "name": "stdout",
     "output_type": "stream",
     "text": [
      "\n",
      " MSE: 0.01\n",
      "RMSE: 0.11\n"
     ]
    },
    {
     "data": {
      "text/plain": [
       "RandomForestRegressor(max_depth=11, n_estimators=7, oob_score=True)"
      ]
     },
     "execution_count": 11,
     "metadata": {},
     "output_type": "execute_result"
    },
    {
     "name": "stdout",
     "output_type": "stream",
     "text": [
      "\n",
      " MSE: 0.01\n",
      "RMSE: 0.10\n"
     ]
    },
    {
     "data": {
      "text/plain": [
       "RandomForestRegressor(max_depth=12, n_estimators=7, oob_score=True)"
      ]
     },
     "execution_count": 11,
     "metadata": {},
     "output_type": "execute_result"
    },
    {
     "name": "stdout",
     "output_type": "stream",
     "text": [
      "\n",
      " MSE: 0.01\n",
      "RMSE: 0.11\n"
     ]
    },
    {
     "data": {
      "text/plain": [
       "RandomForestRegressor(max_depth=13, n_estimators=7, oob_score=True)"
      ]
     },
     "execution_count": 11,
     "metadata": {},
     "output_type": "execute_result"
    },
    {
     "name": "stdout",
     "output_type": "stream",
     "text": [
      "\n",
      " MSE: 0.01\n",
      "RMSE: 0.11\n"
     ]
    },
    {
     "data": {
      "text/plain": [
       "RandomForestRegressor(max_depth=14, n_estimators=7, oob_score=True)"
      ]
     },
     "execution_count": 11,
     "metadata": {},
     "output_type": "execute_result"
    },
    {
     "name": "stdout",
     "output_type": "stream",
     "text": [
      "\n",
      " MSE: 0.01\n",
      "RMSE: 0.11\n"
     ]
    },
    {
     "data": {
      "text/plain": [
       "RandomForestRegressor(max_depth=1, n_estimators=8, oob_score=True)"
      ]
     },
     "execution_count": 11,
     "metadata": {},
     "output_type": "execute_result"
    },
    {
     "name": "stdout",
     "output_type": "stream",
     "text": [
      "\n",
      " MSE: 0.29\n",
      "RMSE: 0.54\n"
     ]
    },
    {
     "data": {
      "text/plain": [
       "RandomForestRegressor(max_depth=2, n_estimators=8, oob_score=True)"
      ]
     },
     "execution_count": 11,
     "metadata": {},
     "output_type": "execute_result"
    },
    {
     "name": "stdout",
     "output_type": "stream",
     "text": [
      "\n",
      " MSE: 0.24\n",
      "RMSE: 0.49\n"
     ]
    },
    {
     "data": {
      "text/plain": [
       "RandomForestRegressor(max_depth=3, n_estimators=8, oob_score=True)"
      ]
     },
     "execution_count": 11,
     "metadata": {},
     "output_type": "execute_result"
    },
    {
     "name": "stdout",
     "output_type": "stream",
     "text": [
      "\n",
      " MSE: 0.18\n",
      "RMSE: 0.42\n"
     ]
    },
    {
     "data": {
      "text/plain": [
       "RandomForestRegressor(max_depth=4, n_estimators=8, oob_score=True)"
      ]
     },
     "execution_count": 11,
     "metadata": {},
     "output_type": "execute_result"
    },
    {
     "name": "stdout",
     "output_type": "stream",
     "text": [
      "\n",
      " MSE: 0.11\n",
      "RMSE: 0.33\n"
     ]
    },
    {
     "data": {
      "text/plain": [
       "RandomForestRegressor(max_depth=5, n_estimators=8, oob_score=True)"
      ]
     },
     "execution_count": 11,
     "metadata": {},
     "output_type": "execute_result"
    },
    {
     "name": "stdout",
     "output_type": "stream",
     "text": [
      "\n",
      " MSE: 0.07\n",
      "RMSE: 0.27\n"
     ]
    },
    {
     "data": {
      "text/plain": [
       "RandomForestRegressor(max_depth=6, n_estimators=8, oob_score=True)"
      ]
     },
     "execution_count": 11,
     "metadata": {},
     "output_type": "execute_result"
    },
    {
     "name": "stdout",
     "output_type": "stream",
     "text": [
      "\n",
      " MSE: 0.04\n",
      "RMSE: 0.21\n"
     ]
    },
    {
     "data": {
      "text/plain": [
       "RandomForestRegressor(max_depth=7, n_estimators=8, oob_score=True)"
      ]
     },
     "execution_count": 11,
     "metadata": {},
     "output_type": "execute_result"
    },
    {
     "name": "stdout",
     "output_type": "stream",
     "text": [
      "\n",
      " MSE: 0.03\n",
      "RMSE: 0.16\n"
     ]
    },
    {
     "data": {
      "text/plain": [
       "RandomForestRegressor(max_depth=8, n_estimators=8, oob_score=True)"
      ]
     },
     "execution_count": 11,
     "metadata": {},
     "output_type": "execute_result"
    },
    {
     "name": "stdout",
     "output_type": "stream",
     "text": [
      "\n",
      " MSE: 0.02\n",
      "RMSE: 0.13\n"
     ]
    },
    {
     "data": {
      "text/plain": [
       "RandomForestRegressor(max_depth=9, n_estimators=8, oob_score=True)"
      ]
     },
     "execution_count": 11,
     "metadata": {},
     "output_type": "execute_result"
    },
    {
     "name": "stdout",
     "output_type": "stream",
     "text": [
      "\n",
      " MSE: 0.01\n",
      "RMSE: 0.11\n"
     ]
    },
    {
     "data": {
      "text/plain": [
       "RandomForestRegressor(max_depth=10, n_estimators=8, oob_score=True)"
      ]
     },
     "execution_count": 11,
     "metadata": {},
     "output_type": "execute_result"
    },
    {
     "name": "stdout",
     "output_type": "stream",
     "text": [
      "\n",
      " MSE: 0.01\n",
      "RMSE: 0.10\n"
     ]
    },
    {
     "data": {
      "text/plain": [
       "RandomForestRegressor(max_depth=11, n_estimators=8, oob_score=True)"
      ]
     },
     "execution_count": 11,
     "metadata": {},
     "output_type": "execute_result"
    },
    {
     "name": "stdout",
     "output_type": "stream",
     "text": [
      "\n",
      " MSE: 0.01\n",
      "RMSE: 0.11\n"
     ]
    },
    {
     "data": {
      "text/plain": [
       "RandomForestRegressor(max_depth=12, n_estimators=8, oob_score=True)"
      ]
     },
     "execution_count": 11,
     "metadata": {},
     "output_type": "execute_result"
    },
    {
     "name": "stdout",
     "output_type": "stream",
     "text": [
      "\n",
      " MSE: 0.01\n",
      "RMSE: 0.11\n"
     ]
    },
    {
     "data": {
      "text/plain": [
       "RandomForestRegressor(max_depth=13, n_estimators=8, oob_score=True)"
      ]
     },
     "execution_count": 11,
     "metadata": {},
     "output_type": "execute_result"
    },
    {
     "name": "stdout",
     "output_type": "stream",
     "text": [
      "\n",
      " MSE: 0.01\n",
      "RMSE: 0.11\n"
     ]
    },
    {
     "data": {
      "text/plain": [
       "RandomForestRegressor(max_depth=14, n_estimators=8, oob_score=True)"
      ]
     },
     "execution_count": 11,
     "metadata": {},
     "output_type": "execute_result"
    },
    {
     "name": "stdout",
     "output_type": "stream",
     "text": [
      "\n",
      " MSE: 0.01\n",
      "RMSE: 0.11\n"
     ]
    },
    {
     "data": {
      "text/plain": [
       "RandomForestRegressor(max_depth=1, n_estimators=9, oob_score=True)"
      ]
     },
     "execution_count": 11,
     "metadata": {},
     "output_type": "execute_result"
    },
    {
     "name": "stdout",
     "output_type": "stream",
     "text": [
      "\n",
      " MSE: 0.29\n",
      "RMSE: 0.54\n"
     ]
    },
    {
     "data": {
      "text/plain": [
       "RandomForestRegressor(max_depth=2, n_estimators=9, oob_score=True)"
      ]
     },
     "execution_count": 11,
     "metadata": {},
     "output_type": "execute_result"
    },
    {
     "name": "stdout",
     "output_type": "stream",
     "text": [
      "\n",
      " MSE: 0.24\n",
      "RMSE: 0.49\n"
     ]
    },
    {
     "data": {
      "text/plain": [
       "RandomForestRegressor(max_depth=3, n_estimators=9, oob_score=True)"
      ]
     },
     "execution_count": 11,
     "metadata": {},
     "output_type": "execute_result"
    },
    {
     "name": "stdout",
     "output_type": "stream",
     "text": [
      "\n",
      " MSE: 0.18\n",
      "RMSE: 0.42\n"
     ]
    },
    {
     "data": {
      "text/plain": [
       "RandomForestRegressor(max_depth=4, n_estimators=9, oob_score=True)"
      ]
     },
     "execution_count": 11,
     "metadata": {},
     "output_type": "execute_result"
    },
    {
     "name": "stdout",
     "output_type": "stream",
     "text": [
      "\n",
      " MSE: 0.11\n",
      "RMSE: 0.33\n"
     ]
    },
    {
     "data": {
      "text/plain": [
       "RandomForestRegressor(max_depth=5, n_estimators=9, oob_score=True)"
      ]
     },
     "execution_count": 11,
     "metadata": {},
     "output_type": "execute_result"
    },
    {
     "name": "stdout",
     "output_type": "stream",
     "text": [
      "\n",
      " MSE: 0.08\n",
      "RMSE: 0.28\n"
     ]
    },
    {
     "data": {
      "text/plain": [
       "RandomForestRegressor(max_depth=6, n_estimators=9, oob_score=True)"
      ]
     },
     "execution_count": 11,
     "metadata": {},
     "output_type": "execute_result"
    },
    {
     "name": "stdout",
     "output_type": "stream",
     "text": [
      "\n",
      " MSE: 0.05\n",
      "RMSE: 0.22\n"
     ]
    },
    {
     "data": {
      "text/plain": [
       "RandomForestRegressor(max_depth=7, n_estimators=9, oob_score=True)"
      ]
     },
     "execution_count": 11,
     "metadata": {},
     "output_type": "execute_result"
    },
    {
     "name": "stdout",
     "output_type": "stream",
     "text": [
      "\n",
      " MSE: 0.02\n",
      "RMSE: 0.16\n"
     ]
    },
    {
     "data": {
      "text/plain": [
       "RandomForestRegressor(max_depth=8, n_estimators=9, oob_score=True)"
      ]
     },
     "execution_count": 11,
     "metadata": {},
     "output_type": "execute_result"
    },
    {
     "name": "stdout",
     "output_type": "stream",
     "text": [
      "\n",
      " MSE: 0.02\n",
      "RMSE: 0.13\n"
     ]
    },
    {
     "data": {
      "text/plain": [
       "RandomForestRegressor(max_depth=9, n_estimators=9, oob_score=True)"
      ]
     },
     "execution_count": 11,
     "metadata": {},
     "output_type": "execute_result"
    },
    {
     "name": "stdout",
     "output_type": "stream",
     "text": [
      "\n",
      " MSE: 0.01\n",
      "RMSE: 0.11\n"
     ]
    },
    {
     "data": {
      "text/plain": [
       "RandomForestRegressor(max_depth=10, n_estimators=9, oob_score=True)"
      ]
     },
     "execution_count": 11,
     "metadata": {},
     "output_type": "execute_result"
    },
    {
     "name": "stdout",
     "output_type": "stream",
     "text": [
      "\n",
      " MSE: 0.01\n",
      "RMSE: 0.11\n"
     ]
    },
    {
     "data": {
      "text/plain": [
       "RandomForestRegressor(max_depth=11, n_estimators=9, oob_score=True)"
      ]
     },
     "execution_count": 11,
     "metadata": {},
     "output_type": "execute_result"
    },
    {
     "name": "stdout",
     "output_type": "stream",
     "text": [
      "\n",
      " MSE: 0.01\n",
      "RMSE: 0.11\n"
     ]
    },
    {
     "data": {
      "text/plain": [
       "RandomForestRegressor(max_depth=12, n_estimators=9, oob_score=True)"
      ]
     },
     "execution_count": 11,
     "metadata": {},
     "output_type": "execute_result"
    },
    {
     "name": "stdout",
     "output_type": "stream",
     "text": [
      "\n",
      " MSE: 0.01\n",
      "RMSE: 0.11\n"
     ]
    },
    {
     "data": {
      "text/plain": [
       "RandomForestRegressor(max_depth=13, n_estimators=9, oob_score=True)"
      ]
     },
     "execution_count": 11,
     "metadata": {},
     "output_type": "execute_result"
    },
    {
     "name": "stdout",
     "output_type": "stream",
     "text": [
      "\n",
      " MSE: 0.01\n",
      "RMSE: 0.11\n"
     ]
    },
    {
     "data": {
      "text/plain": [
       "RandomForestRegressor(max_depth=14, n_estimators=9, oob_score=True)"
      ]
     },
     "execution_count": 11,
     "metadata": {},
     "output_type": "execute_result"
    },
    {
     "name": "stdout",
     "output_type": "stream",
     "text": [
      "\n",
      " MSE: 0.01\n",
      "RMSE: 0.11\n"
     ]
    }
   ],
   "source": [
    "resultsMSE = []\n",
    "trees = [500,1000,1500,2000]\n",
    "depth= [3,5,7,9,12]\n",
    "for tree in range(1,10,1):\n",
    "  for depth in range(1,15,1):\n",
    "            clf = rf( n_estimators=tree,\n",
    "            bootstrap=True,\n",
    "            oob_score=True,\n",
    "            max_depth = depth )\n",
    "\n",
    "            clf.fit(X_train, y_train)\n",
    "            prediction = clf.predict(X_test)\n",
    "            mse = mean_squared_error(y_test, prediction)\n",
    "\n",
    "            rmse = mse**.5\n",
    "            resultsMSE.append(\"trees count \"+str(tree)+\" depth \"+str(depth)+\" MSE result \"+str(mse))\n",
    "            print(\"\\n MSE: %.2f\" %mse)\n",
    "            print(\"RMSE: %.2f\" %rmse)\n"
   ]
  },
  {
   "cell_type": "markdown",
   "id": "e1debf4f",
   "metadata": {
    "id": "LZxkKISnBNC0",
    "papermill": {
     "duration": 0.024248,
     "end_time": "2023-01-08T05:00:20.987238",
     "exception": false,
     "start_time": "2023-01-08T05:00:20.962990",
     "status": "completed"
    },
    "tags": []
   },
   "source": [
    "From the above it is seen that the mean squared error(MSE) and root mean squared error(RMSE) is least when the tree depth is 11 , irrespective of the tree size increase after 4."
   ]
  },
  {
   "cell_type": "code",
   "execution_count": 12,
   "id": "f8c975ff",
   "metadata": {
    "execution": {
     "iopub.execute_input": "2023-01-08T05:00:21.036679Z",
     "iopub.status.busy": "2023-01-08T05:00:21.036302Z",
     "iopub.status.idle": "2023-01-08T05:00:21.110015Z",
     "shell.execute_reply": "2023-01-08T05:00:21.108892Z"
    },
    "id": "aPoukGguAjk6",
    "outputId": "b0de7d27-7ef8-453e-cfec-1e8a29b8efab",
    "papermill": {
     "duration": 0.102037,
     "end_time": "2023-01-08T05:00:21.112900",
     "exception": false,
     "start_time": "2023-01-08T05:00:21.010863",
     "status": "completed"
    },
    "tags": []
   },
   "outputs": [
    {
     "data": {
      "text/plain": [
       "RandomForestRegressor(max_depth=11, n_estimators=4, oob_score=True)"
      ]
     },
     "execution_count": 12,
     "metadata": {},
     "output_type": "execute_result"
    },
    {
     "name": "stdout",
     "output_type": "stream",
     "text": [
      "\n",
      " MSE: 0.01\n",
      "RMSE: 0.11\n"
     ]
    }
   ],
   "source": [
    "clf = rf( n_estimators=4,\n",
    "         max_depth = 11,\n",
    "         oob_score = True  )\n",
    "\n",
    "clf.fit(X_train, y_train)\n",
    "prediction = clf.predict(X_test)\n",
    "mse = mean_squared_error(y_test, prediction)\n",
    "rmse = mse**.5\n",
    "print(\"\\n MSE: %.2f\" %mse)\n",
    "print(\"RMSE: %.2f\" %rmse)"
   ]
  },
  {
   "cell_type": "markdown",
   "id": "97eac07f",
   "metadata": {
    "id": "b0QO9W8_dOGG",
    "papermill": {
     "duration": 0.02458,
     "end_time": "2023-01-08T05:00:21.165113",
     "exception": false,
     "start_time": "2023-01-08T05:00:21.140533",
     "status": "completed"
    },
    "tags": []
   },
   "source": [
    "## Random Forest Model"
   ]
  },
  {
   "cell_type": "markdown",
   "id": "8f5c3c86",
   "metadata": {
    "id": "Im_B6HjWbpEi",
    "papermill": {
     "duration": 0.025204,
     "end_time": "2023-01-08T05:00:21.216301",
     "exception": false,
     "start_time": "2023-01-08T05:00:21.191097",
     "status": "completed"
    },
    "tags": []
   },
   "source": [
    "### K-Fold Cross Validation"
   ]
  },
  {
   "cell_type": "code",
   "execution_count": 13,
   "id": "f7591073",
   "metadata": {
    "execution": {
     "iopub.execute_input": "2023-01-08T05:00:21.266953Z",
     "iopub.status.busy": "2023-01-08T05:00:21.266555Z",
     "iopub.status.idle": "2023-01-08T05:00:21.271205Z",
     "shell.execute_reply": "2023-01-08T05:00:21.270235Z"
    },
    "id": "Xsp_sV67jPKG",
    "papermill": {
     "duration": 0.031989,
     "end_time": "2023-01-08T05:00:21.273290",
     "exception": false,
     "start_time": "2023-01-08T05:00:21.241301",
     "status": "completed"
    },
    "tags": []
   },
   "outputs": [],
   "source": [
    "from sklearn.model_selection import cross_val_score, KFold"
   ]
  },
  {
   "cell_type": "code",
   "execution_count": 14,
   "id": "375b3d2e",
   "metadata": {
    "execution": {
     "iopub.execute_input": "2023-01-08T05:00:21.322266Z",
     "iopub.status.busy": "2023-01-08T05:00:21.321887Z",
     "iopub.status.idle": "2023-01-08T05:00:21.586309Z",
     "shell.execute_reply": "2023-01-08T05:00:21.585206Z"
    },
    "id": "KUk1hzJli6cW",
    "outputId": "45f62c47-9b62-4fd9-9ea3-bc5ca9ee7b23",
    "papermill": {
     "duration": 0.291649,
     "end_time": "2023-01-08T05:00:21.588627",
     "exception": false,
     "start_time": "2023-01-08T05:00:21.296978",
     "status": "completed"
    },
    "tags": []
   },
   "outputs": [
    {
     "name": "stdout",
     "output_type": "stream",
     "text": [
      "K-fold CV average score: 0.96\n",
      "MSE: 0.01\n",
      "RMSE: 0.11\n"
     ]
    }
   ],
   "source": [
    "kfold = KFold(n_splits=5, shuffle=True)\n",
    "kf_cv_scores = cross_val_score(clf, X_train, y_train, cv=kfold )\n",
    "print(\"K-fold CV average score: %.2f\" % kf_cv_scores.mean())\n",
    "ypred = clf.predict(X_test)\n",
    "mse = mean_squared_error(y_test, ypred)\n",
    "print(\"MSE: %.2f\" % mse)\n",
    "print(\"RMSE: %.2f\" % (mse**(1/2.0)))"
   ]
  },
  {
   "cell_type": "code",
   "execution_count": 15,
   "id": "90686d9d",
   "metadata": {
    "execution": {
     "iopub.execute_input": "2023-01-08T05:00:21.639015Z",
     "iopub.status.busy": "2023-01-08T05:00:21.638668Z",
     "iopub.status.idle": "2023-01-08T05:00:21.642913Z",
     "shell.execute_reply": "2023-01-08T05:00:21.641885Z"
    },
    "id": "RSR7ETC6oQOE",
    "papermill": {
     "duration": 0.031609,
     "end_time": "2023-01-08T05:00:21.644885",
     "exception": false,
     "start_time": "2023-01-08T05:00:21.613276",
     "status": "completed"
    },
    "tags": []
   },
   "outputs": [],
   "source": [
    "# 1.5 Model pipelining\n",
    "from sklearn.pipeline import Pipeline\n",
    "from sklearn.pipeline import make_pipeline"
   ]
  },
  {
   "cell_type": "code",
   "execution_count": 16,
   "id": "3d72bdb0",
   "metadata": {
    "execution": {
     "iopub.execute_input": "2023-01-08T05:00:21.699034Z",
     "iopub.status.busy": "2023-01-08T05:00:21.698682Z",
     "iopub.status.idle": "2023-01-08T05:00:21.703872Z",
     "shell.execute_reply": "2023-01-08T05:00:21.702852Z"
    },
    "id": "mVwf9a8RdDpo",
    "papermill": {
     "duration": 0.035172,
     "end_time": "2023-01-08T05:00:21.705957",
     "exception": false,
     "start_time": "2023-01-08T05:00:21.670785",
     "status": "completed"
    },
    "tags": []
   },
   "outputs": [],
   "source": [
    "steps_xg = [\n",
    "            (\n",
    "                'rf',  rf(max_depth = 11,oob_score = True,\n",
    "                                  n_jobs=4)        # Specify other parameters here\n",
    "            )\n",
    "            ]\n",
    "\n",
    "pipe_xg = Pipeline(steps_xg)"
   ]
  },
  {
   "cell_type": "code",
   "execution_count": 17,
   "id": "60746c56",
   "metadata": {
    "execution": {
     "iopub.execute_input": "2023-01-08T05:00:21.755908Z",
     "iopub.status.busy": "2023-01-08T05:00:21.755553Z",
     "iopub.status.idle": "2023-01-08T05:00:22.386309Z",
     "shell.execute_reply": "2023-01-08T05:00:22.385372Z"
    },
    "id": "C3ifQ9y6pJhg",
    "outputId": "470c229b-3be3-4097-cc7c-191422d4e793",
    "papermill": {
     "duration": 0.658442,
     "end_time": "2023-01-08T05:00:22.388589",
     "exception": false,
     "start_time": "2023-01-08T05:00:21.730147",
     "status": "completed"
    },
    "tags": []
   },
   "outputs": [
    {
     "data": {
      "text/plain": [
       "Pipeline(steps=[('rf',\n",
       "                 RandomForestRegressor(max_depth=11, n_jobs=4,\n",
       "                                       oob_score=True))])"
      ]
     },
     "execution_count": 17,
     "metadata": {},
     "output_type": "execute_result"
    }
   ],
   "source": [
    "pipe_xg.fit(X_train, y_train)"
   ]
  },
  {
   "cell_type": "code",
   "execution_count": 18,
   "id": "e614e17e",
   "metadata": {
    "execution": {
     "iopub.execute_input": "2023-01-08T05:00:22.441280Z",
     "iopub.status.busy": "2023-01-08T05:00:22.440923Z",
     "iopub.status.idle": "2023-01-08T05:00:22.551520Z",
     "shell.execute_reply": "2023-01-08T05:00:22.550222Z"
    },
    "id": "-bFk1fJPpU4G",
    "outputId": "5facbd37-6e25-4996-c060-ae40c8d19a1f",
    "papermill": {
     "duration": 0.139204,
     "end_time": "2023-01-08T05:00:22.553883",
     "exception": false,
     "start_time": "2023-01-08T05:00:22.414679",
     "status": "completed"
    },
    "tags": []
   },
   "outputs": [
    {
     "name": "stdout",
     "output_type": "stream",
     "text": [
      "\n",
      " MSE: 0.01\n",
      "\n",
      " RMSE: 0.10\n"
     ]
    }
   ],
   "source": [
    "ypred = pipe_xg.predict(X_test)\n",
    "\n",
    "mse = mean_squared_error(y_test, ypred)\n",
    "\n",
    "print(\"\\n MSE: %.2f\" % mse)\n",
    "print(\"\\n RMSE: %.2f\" % (mse**(1/2.0)))"
   ]
  },
  {
   "cell_type": "markdown",
   "id": "7c2cf35a",
   "metadata": {
    "id": "qmMXZdKCeOTt",
    "papermill": {
     "duration": 0.024783,
     "end_time": "2023-01-08T05:00:22.602432",
     "exception": false,
     "start_time": "2023-01-08T05:00:22.577649",
     "status": "completed"
    },
    "tags": []
   },
   "source": [
    "It was observed that using standardScaling and PCA was reducing the performance of the model. hence used the model without using Standardscaler and PCA."
   ]
  }
 ],
 "metadata": {
  "kernelspec": {
   "display_name": "Python 3",
   "language": "python",
   "name": "python3"
  },
  "language_info": {
   "codemirror_mode": {
    "name": "ipython",
    "version": 3
   },
   "file_extension": ".py",
   "mimetype": "text/x-python",
   "name": "python",
   "nbconvert_exporter": "python",
   "pygments_lexer": "ipython3",
   "version": "3.7.12"
  },
  "papermill": {
   "default_parameters": {},
   "duration": 19.358977,
   "end_time": "2023-01-08T05:00:23.348070",
   "environment_variables": {},
   "exception": null,
   "input_path": "__notebook__.ipynb",
   "output_path": "__notebook__.ipynb",
   "parameters": {},
   "start_time": "2023-01-08T05:00:03.989093",
   "version": "2.3.4"
  }
 },
 "nbformat": 4,
 "nbformat_minor": 5
}
