{
 "cells": [
  {
   "cell_type": "markdown",
   "id": "e02f719d",
   "metadata": {
    "id": "TIJvRuiPtbpM",
    "papermill": {
     "duration": 0.014827,
     "end_time": "2023-01-08T15:13:25.951442",
     "exception": false,
     "start_time": "2023-01-08T15:13:25.936615",
     "status": "completed"
    },
    "tags": []
   },
   "source": [
    "# Predicit store sales using XGBoost Model"
   ]
  },
  {
   "cell_type": "markdown",
   "id": "31c81f89",
   "metadata": {
    "id": "9jolQRlLuhK2",
    "papermill": {
     "duration": 0.010649,
     "end_time": "2023-01-08T15:13:25.983811",
     "exception": false,
     "start_time": "2023-01-08T15:13:25.973162",
     "status": "completed"
    },
    "tags": []
   },
   "source": [
    "### Call Libraries"
   ]
  },
  {
   "cell_type": "code",
   "execution_count": 1,
   "id": "bf9609a2",
   "metadata": {
    "execution": {
     "iopub.execute_input": "2023-01-08T15:13:26.018570Z",
     "iopub.status.busy": "2023-01-08T15:13:26.018002Z",
     "iopub.status.idle": "2023-01-08T15:13:27.466620Z",
     "shell.execute_reply": "2023-01-08T15:13:27.465537Z"
    },
    "id": "-vbMk_w9LGbs",
    "papermill": {
     "duration": 1.466259,
     "end_time": "2023-01-08T15:13:27.469538",
     "exception": false,
     "start_time": "2023-01-08T15:13:26.003279",
     "status": "completed"
    },
    "tags": []
   },
   "outputs": [],
   "source": [
    "# 1.0 Call libraries\n",
    "%reset -f\n",
    "# 1.1 For data manipulations\n",
    "import numpy as np\n",
    "import pandas as pd\n",
    "from numpy.random import default_rng\n",
    "\n",
    "# 1.2 For plotting\n",
    "import matplotlib.pyplot as plt\n",
    "import seaborn as sns\n",
    "import matplotlib as mpl     # For creating colormaps\n",
    "\n",
    "# 1.3 For data processing\n",
    "from sklearn.preprocessing import StandardScaler\n",
    "\n",
    "# 1.4 OS related\n",
    "import os\n",
    "import time\n",
    "# 1.5 for working in ipython\n",
    "#%matplotlib qt5\n",
    "#%matplotlib inline\n",
    "\n",
    "from scipy.stats import scoreatpercentile, pearsonr\n",
    "\n",
    "from sklearn.preprocessing import StandardScaler as ss\n",
    "\n",
    "# 1.3 Dimensionality reduction and noise removal\n",
    "from sklearn.decomposition import PCA\n",
    "from xgboost import XGBRegressor\n",
    "\n",
    "# 1.5 Model pipelining\n",
    "from sklearn.pipeline import Pipeline\n",
    "from sklearn.pipeline import make_pipeline\n",
    "from sklearn.model_selection import train_test_split\n",
    "from sklearn.model_selection import KFold\n",
    "from sklearn.metrics import mean_squared_error\n",
    "\n",
    "# 1.6 Hyperparameter optimization\n",
    "from sklearn.model_selection import GridSearchCV\n",
    "from sklearn.model_selection import RandomizedSearchCV\n"
   ]
  },
  {
   "cell_type": "code",
   "execution_count": 2,
   "id": "7917e350",
   "metadata": {
    "execution": {
     "iopub.execute_input": "2023-01-08T15:13:27.489950Z",
     "iopub.status.busy": "2023-01-08T15:13:27.489021Z",
     "iopub.status.idle": "2023-01-08T15:13:27.494230Z",
     "shell.execute_reply": "2023-01-08T15:13:27.493114Z"
    },
    "papermill": {
     "duration": 0.017757,
     "end_time": "2023-01-08T15:13:27.496601",
     "exception": false,
     "start_time": "2023-01-08T15:13:27.478844",
     "status": "completed"
    },
    "tags": []
   },
   "outputs": [],
   "source": [
    "import warnings\n",
    "warnings.filterwarnings(\"ignore\")"
   ]
  },
  {
   "cell_type": "code",
   "execution_count": 3,
   "id": "94f24940",
   "metadata": {
    "execution": {
     "iopub.execute_input": "2023-01-08T15:13:27.517847Z",
     "iopub.status.busy": "2023-01-08T15:13:27.517471Z",
     "iopub.status.idle": "2023-01-08T15:13:27.522397Z",
     "shell.execute_reply": "2023-01-08T15:13:27.521357Z"
    },
    "id": "2I6oo9EWwW0u",
    "papermill": {
     "duration": 0.017536,
     "end_time": "2023-01-08T15:13:27.524722",
     "exception": false,
     "start_time": "2023-01-08T15:13:27.507186",
     "status": "completed"
    },
    "tags": []
   },
   "outputs": [],
   "source": [
    "from IPython.core.interactiveshell import InteractiveShell\n",
    "InteractiveShell.ast_node_interactivity = \"all\""
   ]
  },
  {
   "cell_type": "markdown",
   "id": "12393edf",
   "metadata": {
    "id": "RTzBBtDCwKDb",
    "papermill": {
     "duration": 0.008856,
     "end_time": "2023-01-08T15:13:27.542371",
     "exception": false,
     "start_time": "2023-01-08T15:13:27.533515",
     "status": "completed"
    },
    "tags": []
   },
   "source": [
    "### Install packages"
   ]
  },
  {
   "cell_type": "code",
   "execution_count": 4,
   "id": "c0f8841b",
   "metadata": {
    "execution": {
     "iopub.execute_input": "2023-01-08T15:13:27.562179Z",
     "iopub.status.busy": "2023-01-08T15:13:27.561797Z",
     "iopub.status.idle": "2023-01-08T15:13:49.982325Z",
     "shell.execute_reply": "2023-01-08T15:13:49.980979Z"
    },
    "id": "qt-cVaOJ6Q1U",
    "outputId": "6cf9dde3-96e9-4347-a498-4bb7e31c7873",
    "papermill": {
     "duration": 22.433728,
     "end_time": "2023-01-08T15:13:49.985312",
     "exception": false,
     "start_time": "2023-01-08T15:13:27.551584",
     "status": "completed"
    },
    "tags": []
   },
   "outputs": [
    {
     "name": "stdout",
     "output_type": "stream",
     "text": [
      "Requirement already satisfied: scikit-optimize in /opt/conda/lib/python3.7/site-packages (0.9.0)\r\n",
      "Requirement already satisfied: pyaml>=16.9 in /opt/conda/lib/python3.7/site-packages (from scikit-optimize) (21.10.1)\r\n",
      "Requirement already satisfied: scikit-learn>=0.20.0 in /opt/conda/lib/python3.7/site-packages (from scikit-optimize) (1.0.2)\r\n",
      "Requirement already satisfied: numpy>=1.13.3 in /opt/conda/lib/python3.7/site-packages (from scikit-optimize) (1.21.6)\r\n",
      "Requirement already satisfied: scipy>=0.19.1 in /opt/conda/lib/python3.7/site-packages (from scikit-optimize) (1.7.3)\r\n",
      "Requirement already satisfied: joblib>=0.11 in /opt/conda/lib/python3.7/site-packages (from scikit-optimize) (1.0.1)\r\n",
      "Requirement already satisfied: PyYAML in /opt/conda/lib/python3.7/site-packages (from pyaml>=16.9->scikit-optimize) (6.0)\r\n",
      "Requirement already satisfied: threadpoolctl>=2.0.0 in /opt/conda/lib/python3.7/site-packages (from scikit-learn>=0.20.0->scikit-optimize) (3.1.0)\r\n",
      "\u001b[33mWARNING: Running pip as the 'root' user can result in broken permissions and conflicting behaviour with the system package manager. It is recommended to use a virtual environment instead: https://pip.pypa.io/warnings/venv\u001b[0m\u001b[33m\r\n",
      "\u001b[0mRequirement already satisfied: scikit-optimize[plots] in /opt/conda/lib/python3.7/site-packages (0.9.0)\r\n",
      "Requirement already satisfied: scikit-learn>=0.20.0 in /opt/conda/lib/python3.7/site-packages (from scikit-optimize[plots]) (1.0.2)\r\n",
      "Requirement already satisfied: pyaml>=16.9 in /opt/conda/lib/python3.7/site-packages (from scikit-optimize[plots]) (21.10.1)\r\n",
      "Requirement already satisfied: numpy>=1.13.3 in /opt/conda/lib/python3.7/site-packages (from scikit-optimize[plots]) (1.21.6)\r\n",
      "Requirement already satisfied: joblib>=0.11 in /opt/conda/lib/python3.7/site-packages (from scikit-optimize[plots]) (1.0.1)\r\n",
      "Requirement already satisfied: scipy>=0.19.1 in /opt/conda/lib/python3.7/site-packages (from scikit-optimize[plots]) (1.7.3)\r\n",
      "Requirement already satisfied: matplotlib>=2.0.0 in /opt/conda/lib/python3.7/site-packages (from scikit-optimize[plots]) (3.5.3)\r\n",
      "Requirement already satisfied: python-dateutil>=2.7 in /opt/conda/lib/python3.7/site-packages (from matplotlib>=2.0.0->scikit-optimize[plots]) (2.8.2)\r\n",
      "Requirement already satisfied: fonttools>=4.22.0 in /opt/conda/lib/python3.7/site-packages (from matplotlib>=2.0.0->scikit-optimize[plots]) (4.33.3)\r\n",
      "Requirement already satisfied: pillow>=6.2.0 in /opt/conda/lib/python3.7/site-packages (from matplotlib>=2.0.0->scikit-optimize[plots]) (9.1.1)\r\n",
      "Requirement already satisfied: packaging>=20.0 in /opt/conda/lib/python3.7/site-packages (from matplotlib>=2.0.0->scikit-optimize[plots]) (22.0)\r\n",
      "Requirement already satisfied: pyparsing>=2.2.1 in /opt/conda/lib/python3.7/site-packages (from matplotlib>=2.0.0->scikit-optimize[plots]) (3.0.9)\r\n",
      "Requirement already satisfied: cycler>=0.10 in /opt/conda/lib/python3.7/site-packages (from matplotlib>=2.0.0->scikit-optimize[plots]) (0.11.0)\r\n",
      "Requirement already satisfied: kiwisolver>=1.0.1 in /opt/conda/lib/python3.7/site-packages (from matplotlib>=2.0.0->scikit-optimize[plots]) (1.4.3)\r\n",
      "Requirement already satisfied: PyYAML in /opt/conda/lib/python3.7/site-packages (from pyaml>=16.9->scikit-optimize[plots]) (6.0)\r\n",
      "Requirement already satisfied: threadpoolctl>=2.0.0 in /opt/conda/lib/python3.7/site-packages (from scikit-learn>=0.20.0->scikit-optimize[plots]) (3.1.0)\r\n",
      "Requirement already satisfied: typing-extensions in /opt/conda/lib/python3.7/site-packages (from kiwisolver>=1.0.1->matplotlib>=2.0.0->scikit-optimize[plots]) (4.1.1)\r\n",
      "Requirement already satisfied: six>=1.5 in /opt/conda/lib/python3.7/site-packages (from python-dateutil>=2.7->matplotlib>=2.0.0->scikit-optimize[plots]) (1.15.0)\r\n",
      "\u001b[33mWARNING: Running pip as the 'root' user can result in broken permissions and conflicting behaviour with the system package manager. It is recommended to use a virtual environment instead: https://pip.pypa.io/warnings/venv\u001b[0m\u001b[33m\r\n",
      "\u001b[0m"
     ]
    }
   ],
   "source": [
    "# 0.0\n",
    "# For skopt routines\n",
    "! pip install scikit-optimize\n",
    "\n",
    "# 0.1 For plotting skopt results\n",
    "! pip install 'scikit-optimize[plots]'"
   ]
  },
  {
   "cell_type": "code",
   "execution_count": 5,
   "id": "4cf69fc6",
   "metadata": {
    "execution": {
     "iopub.execute_input": "2023-01-08T15:13:50.006737Z",
     "iopub.status.busy": "2023-01-08T15:13:50.006295Z",
     "iopub.status.idle": "2023-01-08T15:13:50.184779Z",
     "shell.execute_reply": "2023-01-08T15:13:50.183661Z"
    },
    "id": "onet5tdMHh2X",
    "papermill": {
     "duration": 0.192394,
     "end_time": "2023-01-08T15:13:50.187538",
     "exception": false,
     "start_time": "2023-01-08T15:13:49.995144",
     "status": "completed"
    },
    "tags": []
   },
   "outputs": [],
   "source": [
    "from skopt import BayesSearchCV \n",
    "from skopt.space import Real, Categorical, Integer"
   ]
  },
  {
   "cell_type": "markdown",
   "id": "3228fcd4",
   "metadata": {
    "id": "QJGXYzixwZW8",
    "papermill": {
     "duration": 0.008526,
     "end_time": "2023-01-08T15:13:50.205232",
     "exception": false,
     "start_time": "2023-01-08T15:13:50.196706",
     "status": "completed"
    },
    "tags": []
   },
   "source": [
    "### Mount Drive and read data"
   ]
  },
  {
   "cell_type": "code",
   "execution_count": 6,
   "id": "4922ace9",
   "metadata": {
    "execution": {
     "iopub.execute_input": "2023-01-08T15:13:50.224015Z",
     "iopub.status.busy": "2023-01-08T15:13:50.223175Z",
     "iopub.status.idle": "2023-01-08T15:13:50.272014Z",
     "shell.execute_reply": "2023-01-08T15:13:50.271079Z"
    },
    "id": "S7IkPr3QLVh0",
    "outputId": "5a26bd7e-0f40-4d74-b1e2-b9bfc2ec5eec",
    "papermill": {
     "duration": 0.060481,
     "end_time": "2023-01-08T15:13:50.274222",
     "exception": false,
     "start_time": "2023-01-08T15:13:50.213741",
     "status": "completed"
    },
    "tags": []
   },
   "outputs": [],
   "source": [
    "# Mount gdrive\n",
    "#from google.colab import drive\n",
    "#drive.mount('/gdrive')\n",
    "#path = \"/gdrive/MyDrive/GoogleCollabDataFiles/\"\n",
    "#os.chdir(path)\n",
    "wmart = pd.read_csv(\"/kaggle/input/walmart-sales-dataset-of-45stores/walmart-sales-dataset-of-45stores.csv\",\n",
    "                    parse_dates = ['Date'] \n",
    "                )\n"
   ]
  },
  {
   "cell_type": "code",
   "execution_count": 7,
   "id": "413c73a1",
   "metadata": {
    "execution": {
     "iopub.execute_input": "2023-01-08T15:13:50.293990Z",
     "iopub.status.busy": "2023-01-08T15:13:50.292394Z",
     "iopub.status.idle": "2023-01-08T15:13:50.336465Z",
     "shell.execute_reply": "2023-01-08T15:13:50.335154Z"
    },
    "id": "0j3yKkBrNlta",
    "outputId": "87c88d63-878d-491d-dd11-2ceef7254f32",
    "papermill": {
     "duration": 0.056986,
     "end_time": "2023-01-08T15:13:50.339726",
     "exception": false,
     "start_time": "2023-01-08T15:13:50.282740",
     "status": "completed"
    },
    "tags": []
   },
   "outputs": [
    {
     "data": {
      "text/html": [
       "<div>\n",
       "<style scoped>\n",
       "    .dataframe tbody tr th:only-of-type {\n",
       "        vertical-align: middle;\n",
       "    }\n",
       "\n",
       "    .dataframe tbody tr th {\n",
       "        vertical-align: top;\n",
       "    }\n",
       "\n",
       "    .dataframe thead th {\n",
       "        text-align: right;\n",
       "    }\n",
       "</style>\n",
       "<table border=\"1\" class=\"dataframe\">\n",
       "  <thead>\n",
       "    <tr style=\"text-align: right;\">\n",
       "      <th></th>\n",
       "      <th>Store</th>\n",
       "      <th>Weekly_Sales</th>\n",
       "      <th>Holiday_Flag</th>\n",
       "      <th>Temperature</th>\n",
       "      <th>Fuel_Price</th>\n",
       "      <th>CPI</th>\n",
       "      <th>Unemployment</th>\n",
       "    </tr>\n",
       "  </thead>\n",
       "  <tbody>\n",
       "    <tr>\n",
       "      <th>count</th>\n",
       "      <td>6435.000000</td>\n",
       "      <td>6.435000e+03</td>\n",
       "      <td>6435.000000</td>\n",
       "      <td>6435.000000</td>\n",
       "      <td>6435.000000</td>\n",
       "      <td>6435.000000</td>\n",
       "      <td>6435.000000</td>\n",
       "    </tr>\n",
       "    <tr>\n",
       "      <th>mean</th>\n",
       "      <td>23.000000</td>\n",
       "      <td>1.046965e+06</td>\n",
       "      <td>0.069930</td>\n",
       "      <td>60.663782</td>\n",
       "      <td>3.358607</td>\n",
       "      <td>171.578394</td>\n",
       "      <td>7.999151</td>\n",
       "    </tr>\n",
       "    <tr>\n",
       "      <th>std</th>\n",
       "      <td>12.988182</td>\n",
       "      <td>5.643666e+05</td>\n",
       "      <td>0.255049</td>\n",
       "      <td>18.444933</td>\n",
       "      <td>0.459020</td>\n",
       "      <td>39.356712</td>\n",
       "      <td>1.875885</td>\n",
       "    </tr>\n",
       "    <tr>\n",
       "      <th>min</th>\n",
       "      <td>1.000000</td>\n",
       "      <td>2.099862e+05</td>\n",
       "      <td>0.000000</td>\n",
       "      <td>-2.060000</td>\n",
       "      <td>2.472000</td>\n",
       "      <td>126.064000</td>\n",
       "      <td>3.879000</td>\n",
       "    </tr>\n",
       "    <tr>\n",
       "      <th>25%</th>\n",
       "      <td>12.000000</td>\n",
       "      <td>5.533501e+05</td>\n",
       "      <td>0.000000</td>\n",
       "      <td>47.460000</td>\n",
       "      <td>2.933000</td>\n",
       "      <td>131.735000</td>\n",
       "      <td>6.891000</td>\n",
       "    </tr>\n",
       "    <tr>\n",
       "      <th>50%</th>\n",
       "      <td>23.000000</td>\n",
       "      <td>9.607460e+05</td>\n",
       "      <td>0.000000</td>\n",
       "      <td>62.670000</td>\n",
       "      <td>3.445000</td>\n",
       "      <td>182.616521</td>\n",
       "      <td>7.874000</td>\n",
       "    </tr>\n",
       "    <tr>\n",
       "      <th>75%</th>\n",
       "      <td>34.000000</td>\n",
       "      <td>1.420159e+06</td>\n",
       "      <td>0.000000</td>\n",
       "      <td>74.940000</td>\n",
       "      <td>3.735000</td>\n",
       "      <td>212.743293</td>\n",
       "      <td>8.622000</td>\n",
       "    </tr>\n",
       "    <tr>\n",
       "      <th>max</th>\n",
       "      <td>45.000000</td>\n",
       "      <td>3.818686e+06</td>\n",
       "      <td>1.000000</td>\n",
       "      <td>100.140000</td>\n",
       "      <td>4.468000</td>\n",
       "      <td>227.232807</td>\n",
       "      <td>14.313000</td>\n",
       "    </tr>\n",
       "  </tbody>\n",
       "</table>\n",
       "</div>"
      ],
      "text/plain": [
       "             Store  Weekly_Sales  Holiday_Flag  Temperature   Fuel_Price  \\\n",
       "count  6435.000000  6.435000e+03   6435.000000  6435.000000  6435.000000   \n",
       "mean     23.000000  1.046965e+06      0.069930    60.663782     3.358607   \n",
       "std      12.988182  5.643666e+05      0.255049    18.444933     0.459020   \n",
       "min       1.000000  2.099862e+05      0.000000    -2.060000     2.472000   \n",
       "25%      12.000000  5.533501e+05      0.000000    47.460000     2.933000   \n",
       "50%      23.000000  9.607460e+05      0.000000    62.670000     3.445000   \n",
       "75%      34.000000  1.420159e+06      0.000000    74.940000     3.735000   \n",
       "max      45.000000  3.818686e+06      1.000000   100.140000     4.468000   \n",
       "\n",
       "               CPI  Unemployment  \n",
       "count  6435.000000   6435.000000  \n",
       "mean    171.578394      7.999151  \n",
       "std      39.356712      1.875885  \n",
       "min     126.064000      3.879000  \n",
       "25%     131.735000      6.891000  \n",
       "50%     182.616521      7.874000  \n",
       "75%     212.743293      8.622000  \n",
       "max     227.232807     14.313000  "
      ]
     },
     "execution_count": 7,
     "metadata": {},
     "output_type": "execute_result"
    }
   ],
   "source": [
    "wmart.describe()"
   ]
  },
  {
   "cell_type": "code",
   "execution_count": 8,
   "id": "19a2c2b9",
   "metadata": {
    "execution": {
     "iopub.execute_input": "2023-01-08T15:13:50.359910Z",
     "iopub.status.busy": "2023-01-08T15:13:50.359613Z",
     "iopub.status.idle": "2023-01-08T15:13:50.366123Z",
     "shell.execute_reply": "2023-01-08T15:13:50.365111Z"
    },
    "id": "Q55PKPuR-m1S",
    "outputId": "29507e5d-a641-4f21-8de3-a8ce2ac1ea14",
    "papermill": {
     "duration": 0.018679,
     "end_time": "2023-01-08T15:13:50.368240",
     "exception": false,
     "start_time": "2023-01-08T15:13:50.349561",
     "status": "completed"
    },
    "tags": []
   },
   "outputs": [
    {
     "data": {
      "text/plain": [
       "Store                    int64\n",
       "Date            datetime64[ns]\n",
       "Weekly_Sales           float64\n",
       "Holiday_Flag             int64\n",
       "Temperature            float64\n",
       "Fuel_Price             float64\n",
       "CPI                    float64\n",
       "Unemployment           float64\n",
       "dtype: object"
      ]
     },
     "execution_count": 8,
     "metadata": {},
     "output_type": "execute_result"
    }
   ],
   "source": [
    "wmart.dtypes"
   ]
  },
  {
   "cell_type": "code",
   "execution_count": 9,
   "id": "73fde3ab",
   "metadata": {
    "execution": {
     "iopub.execute_input": "2023-01-08T15:13:50.387590Z",
     "iopub.status.busy": "2023-01-08T15:13:50.386791Z",
     "iopub.status.idle": "2023-01-08T15:13:50.392255Z",
     "shell.execute_reply": "2023-01-08T15:13:50.391402Z"
    },
    "id": "Knr3oC7Z4Qxr",
    "papermill": {
     "duration": 0.017223,
     "end_time": "2023-01-08T15:13:50.394370",
     "exception": false,
     "start_time": "2023-01-08T15:13:50.377147",
     "status": "completed"
    },
    "tags": []
   },
   "outputs": [],
   "source": [
    "wmart.drop(['Date'], axis=1, inplace=True)"
   ]
  },
  {
   "cell_type": "code",
   "execution_count": 10,
   "id": "6eb4d57c",
   "metadata": {
    "execution": {
     "iopub.execute_input": "2023-01-08T15:13:50.413862Z",
     "iopub.status.busy": "2023-01-08T15:13:50.412410Z",
     "iopub.status.idle": "2023-01-08T15:13:50.419978Z",
     "shell.execute_reply": "2023-01-08T15:13:50.418947Z"
    },
    "id": "IfztxSj__cjJ",
    "outputId": "e17ce5f7-d5b6-4386-bf17-4d2b0bcd4cdd",
    "papermill": {
     "duration": 0.018816,
     "end_time": "2023-01-08T15:13:50.421850",
     "exception": false,
     "start_time": "2023-01-08T15:13:50.403034",
     "status": "completed"
    },
    "tags": []
   },
   "outputs": [
    {
     "data": {
      "text/plain": [
       "Store             int64\n",
       "Weekly_Sales    float64\n",
       "Holiday_Flag      int64\n",
       "Temperature     float64\n",
       "Fuel_Price      float64\n",
       "CPI             float64\n",
       "Unemployment    float64\n",
       "dtype: object"
      ]
     },
     "execution_count": 10,
     "metadata": {},
     "output_type": "execute_result"
    }
   ],
   "source": [
    "wmart.dtypes"
   ]
  },
  {
   "cell_type": "code",
   "execution_count": 11,
   "id": "a1f9fd0d",
   "metadata": {
    "execution": {
     "iopub.execute_input": "2023-01-08T15:13:50.440851Z",
     "iopub.status.busy": "2023-01-08T15:13:50.440095Z",
     "iopub.status.idle": "2023-01-08T15:13:50.445110Z",
     "shell.execute_reply": "2023-01-08T15:13:50.444261Z"
    },
    "id": "NbCfU77X5-L0",
    "papermill": {
     "duration": 0.016825,
     "end_time": "2023-01-08T15:13:50.447326",
     "exception": false,
     "start_time": "2023-01-08T15:13:50.430501",
     "status": "completed"
    },
    "tags": []
   },
   "outputs": [],
   "source": [
    "y=wmart.pop('Weekly_Sales')"
   ]
  },
  {
   "cell_type": "code",
   "execution_count": 12,
   "id": "f62082dd",
   "metadata": {
    "execution": {
     "iopub.execute_input": "2023-01-08T15:13:50.468838Z",
     "iopub.status.busy": "2023-01-08T15:13:50.467903Z",
     "iopub.status.idle": "2023-01-08T15:13:50.473517Z",
     "shell.execute_reply": "2023-01-08T15:13:50.472448Z"
    },
    "id": "0o9fLio1J3Qa",
    "papermill": {
     "duration": 0.018789,
     "end_time": "2023-01-08T15:13:50.476113",
     "exception": false,
     "start_time": "2023-01-08T15:13:50.457324",
     "status": "completed"
    },
    "tags": []
   },
   "outputs": [],
   "source": [
    "y = np.log(y)"
   ]
  },
  {
   "cell_type": "code",
   "execution_count": 13,
   "id": "f90fcd4e",
   "metadata": {
    "execution": {
     "iopub.execute_input": "2023-01-08T15:13:50.497419Z",
     "iopub.status.busy": "2023-01-08T15:13:50.496523Z",
     "iopub.status.idle": "2023-01-08T15:13:50.503535Z",
     "shell.execute_reply": "2023-01-08T15:13:50.502689Z"
    },
    "id": "mxbCTIUq5Itb",
    "papermill": {
     "duration": 0.01928,
     "end_time": "2023-01-08T15:13:50.505580",
     "exception": false,
     "start_time": "2023-01-08T15:13:50.486300",
     "status": "completed"
    },
    "tags": []
   },
   "outputs": [],
   "source": [
    "X_train, X_test, y_train, y_test = train_test_split(wmart,\n",
    "                                                    y,\n",
    "                                                    test_size=0.35,\n",
    "                                                    shuffle = True\n",
    "                                                    )"
   ]
  },
  {
   "cell_type": "markdown",
   "id": "8c27a881",
   "metadata": {
    "id": "6pT_25TrVKBT",
    "papermill": {
     "duration": 0.009009,
     "end_time": "2023-01-08T15:13:50.523636",
     "exception": false,
     "start_time": "2023-01-08T15:13:50.514627",
     "status": "completed"
    },
    "tags": []
   },
   "source": [
    "### Using Gridsearch to identify the best hyperparameters"
   ]
  },
  {
   "cell_type": "code",
   "execution_count": 14,
   "id": "834743b5",
   "metadata": {
    "execution": {
     "iopub.execute_input": "2023-01-08T15:13:50.543302Z",
     "iopub.status.busy": "2023-01-08T15:13:50.542603Z",
     "iopub.status.idle": "2023-01-08T15:13:50.547888Z",
     "shell.execute_reply": "2023-01-08T15:13:50.546910Z"
    },
    "id": "-PE0mCQkWXFo",
    "papermill": {
     "duration": 0.017003,
     "end_time": "2023-01-08T15:13:50.549920",
     "exception": false,
     "start_time": "2023-01-08T15:13:50.532917",
     "status": "completed"
    },
    "tags": []
   },
   "outputs": [],
   "source": [
    "steps_xg = [('sts', ss() ),\n",
    "            ('pca', PCA()),\n",
    "            ('xg',  XGBRegressor(silent = False,\n",
    "                                  n_jobs=3,objective=\"reg:squarederror\",verbosity=0)        # Specify other parameters here\n",
    "            )\n",
    "            ]\n",
    "\n",
    "pipe_xg = Pipeline(steps_xg)"
   ]
  },
  {
   "cell_type": "code",
   "execution_count": 15,
   "id": "edb5a510",
   "metadata": {
    "execution": {
     "iopub.execute_input": "2023-01-08T15:13:50.569405Z",
     "iopub.status.busy": "2023-01-08T15:13:50.569156Z",
     "iopub.status.idle": "2023-01-08T15:13:50.574958Z",
     "shell.execute_reply": "2023-01-08T15:13:50.573940Z"
    },
    "id": "hRb1q4cepFnv",
    "papermill": {
     "duration": 0.017879,
     "end_time": "2023-01-08T15:13:50.577230",
     "exception": false,
     "start_time": "2023-01-08T15:13:50.559351",
     "status": "completed"
    },
    "tags": []
   },
   "outputs": [],
   "source": [
    "parameters = {'xg__learning_rate':  [0.03, 0.05], # learning rate decides what percentage\n",
    "                                                  #  of error is to be fitted by\n",
    "                                                  #   by next boosted tree.\n",
    "                                                  # See this answer in stackoverflow:\n",
    "                                                  # https://stats.stackexchange.com/questions/354484/why-does-xgboost-have-a-learning-rate\n",
    "                                                  # Coefficients of boosted trees decide,\n",
    "                                                  #  in the overall model or scheme, how much importance\n",
    "                                                  #   each boosted tree shall have. Values of these\n",
    "                                                  #    Coefficients are calculated by modeling\n",
    "                                                  #     algorithm and unlike learning rate are\n",
    "                                                  #      not hyperparameters. These Coefficients\n",
    "                                                  #       get adjusted by l1 and l2 parameters\n",
    "              'xg__n_estimators':   [1500,2000,2500],  # Number of boosted trees to fit\n",
    "                                                  # l1 and l2 specifications will change\n",
    "                                                  # the values of coeff of boosted trees\n",
    "                                                  # but not their numbers\n",
    "\n",
    "              'xg__max_depth':      [5,7,9],\n",
    "              'pca__n_components' : [0.95]\n",
    "              }     "
   ]
  },
  {
   "cell_type": "code",
   "execution_count": 16,
   "id": "4030e43d",
   "metadata": {
    "execution": {
     "iopub.execute_input": "2023-01-08T15:13:50.596489Z",
     "iopub.status.busy": "2023-01-08T15:13:50.595616Z",
     "iopub.status.idle": "2023-01-08T15:13:50.601116Z",
     "shell.execute_reply": "2023-01-08T15:13:50.600314Z"
    },
    "id": "x_2TWB8apMQV",
    "papermill": {
     "duration": 0.017345,
     "end_time": "2023-01-08T15:13:50.602998",
     "exception": false,
     "start_time": "2023-01-08T15:13:50.585653",
     "status": "completed"
    },
    "tags": []
   },
   "outputs": [],
   "source": [
    "clf = GridSearchCV(pipe_xg,            # pipeline object\n",
    "                   parameters,         # possible parameters\n",
    "                   n_jobs = 4,         # USe parallel cpu threads\n",
    "                   cv =5 ,             # No of folds\n",
    "                   verbose =0,         # Higher the value, more the verbosity\n",
    "                   scoring = ['neg_mean_absolute_error', 'neg_mean_squared_error','max_error'],\n",
    "                   refit='neg_mean_squared_error'\n",
    "                   )"
   ]
  },
  {
   "cell_type": "code",
   "execution_count": 17,
   "id": "e03512fc",
   "metadata": {
    "execution": {
     "iopub.execute_input": "2023-01-08T15:13:50.621944Z",
     "iopub.status.busy": "2023-01-08T15:13:50.621629Z",
     "iopub.status.idle": "2023-01-08T15:32:46.293196Z",
     "shell.execute_reply": "2023-01-08T15:32:46.292144Z"
    },
    "id": "JTOUTRv703Mj",
    "outputId": "402f28e7-8103-4cf6-c61d-a2aa1ca28f6c",
    "papermill": {
     "duration": 1135.693738,
     "end_time": "2023-01-08T15:32:46.305588",
     "exception": false,
     "start_time": "2023-01-08T15:13:50.611850",
     "status": "completed"
    },
    "tags": []
   },
   "outputs": [
    {
     "name": "stdout",
     "output_type": "stream",
     "text": [
      "\n",
      "\n",
      "--Takes time...---\n",
      "\n"
     ]
    },
    {
     "data": {
      "text/plain": [
       "GridSearchCV(cv=5,\n",
       "             estimator=Pipeline(steps=[('sts', StandardScaler()),\n",
       "                                       ('pca', PCA()),\n",
       "                                       ('xg',\n",
       "                                        XGBRegressor(base_score=None,\n",
       "                                                     booster=None,\n",
       "                                                     callbacks=None,\n",
       "                                                     colsample_bylevel=None,\n",
       "                                                     colsample_bynode=None,\n",
       "                                                     colsample_bytree=None,\n",
       "                                                     early_stopping_rounds=None,\n",
       "                                                     enable_categorical=False,\n",
       "                                                     eval_metric=None,\n",
       "                                                     gamma=None, gpu_id=None,\n",
       "                                                     grow_policy=None,\n",
       "                                                     importance_type=None,\n",
       "                                                     interac...\n",
       "                                                     n_estimators=100, n_jobs=3,\n",
       "                                                     num_parallel_tree=None,\n",
       "                                                     predictor=None,\n",
       "                                                     random_state=None,\n",
       "                                                     reg_alpha=None,\n",
       "                                                     reg_lambda=None, ...))]),\n",
       "             n_jobs=4,\n",
       "             param_grid={'pca__n_components': [0.95],\n",
       "                         'xg__learning_rate': [0.03, 0.05],\n",
       "                         'xg__max_depth': [5, 7, 9],\n",
       "                         'xg__n_estimators': [1500, 2000, 2500]},\n",
       "             refit='neg_mean_squared_error',\n",
       "             scoring=['neg_mean_absolute_error', 'neg_mean_squared_error',\n",
       "                      'max_error'])"
      ]
     },
     "execution_count": 17,
     "metadata": {},
     "output_type": "execute_result"
    },
    {
     "name": "stdout",
     "output_type": "stream",
     "text": [
      "\n"
     ]
    },
    {
     "data": {
      "text/plain": [
       "18.92771189212799"
      ]
     },
     "execution_count": 17,
     "metadata": {},
     "output_type": "execute_result"
    }
   ],
   "source": [
    "print(\"\\n\\n--Takes time...---\\n\")\n",
    "start = time.time()\n",
    "clf.fit(X_train, y_train)\n",
    "end = time.time()\n",
    "print()\n",
    "(end - start)/60     "
   ]
  },
  {
   "cell_type": "code",
   "execution_count": 18,
   "id": "dd9c976b",
   "metadata": {
    "execution": {
     "iopub.execute_input": "2023-01-08T15:32:46.326622Z",
     "iopub.status.busy": "2023-01-08T15:32:46.325961Z",
     "iopub.status.idle": "2023-01-08T15:32:46.337468Z",
     "shell.execute_reply": "2023-01-08T15:32:46.335916Z"
    },
    "id": "hjemJO5rHKZZ",
    "outputId": "720f89c4-6f1c-4e4a-fcf7-efe09aae43e5",
    "papermill": {
     "duration": 0.025085,
     "end_time": "2023-01-08T15:32:46.340317",
     "exception": false,
     "start_time": "2023-01-08T15:32:46.315232",
     "status": "completed"
    },
    "tags": []
   },
   "outputs": [
    {
     "data": {
      "text/plain": [
       "'Best score: -0.07643511732649547 '"
      ]
     },
     "execution_count": 18,
     "metadata": {},
     "output_type": "execute_result"
    },
    {
     "name": "stdout",
     "output_type": "stream",
     "text": [
      "\n"
     ]
    },
    {
     "data": {
      "text/plain": [
       "\"Best parameter set {'pca__n_components': 0.95, 'xg__learning_rate': 0.05, 'xg__max_depth': 9, 'xg__n_estimators': 2000}\""
      ]
     },
     "execution_count": 18,
     "metadata": {},
     "output_type": "execute_result"
    }
   ],
   "source": [
    "\n",
    "f\"Best score: {clf.best_score_} \"            \n",
    "\n",
    "\n",
    "print()\n",
    "f\"Best parameter set {clf.best_params_}\""
   ]
  },
  {
   "cell_type": "code",
   "execution_count": 19,
   "id": "896a3cad",
   "metadata": {
    "execution": {
     "iopub.execute_input": "2023-01-08T15:32:46.362153Z",
     "iopub.status.busy": "2023-01-08T15:32:46.361807Z",
     "iopub.status.idle": "2023-01-08T15:32:46.515223Z",
     "shell.execute_reply": "2023-01-08T15:32:46.513093Z"
    },
    "id": "0UY4YjxzNuEb",
    "outputId": "540469a4-c4a9-4d76-f1df-739a19a20927",
    "papermill": {
     "duration": 0.167528,
     "end_time": "2023-01-08T15:32:46.518001",
     "exception": false,
     "start_time": "2023-01-08T15:32:46.350473",
     "status": "completed"
    },
    "tags": []
   },
   "outputs": [
    {
     "name": "stdout",
     "output_type": "stream",
     "text": [
      "--Few predictions--\n",
      "\n"
     ]
    },
    {
     "data": {
      "text/plain": [
       "2995250.5"
      ]
     },
     "execution_count": 19,
     "metadata": {},
     "output_type": "execute_result"
    }
   ],
   "source": [
    "y_pred = clf.predict(X_test)\n",
    "print(\"--Few predictions--\\n\")\n",
    "max(np.exp(y_pred[:]))\n"
   ]
  },
  {
   "cell_type": "code",
   "execution_count": 20,
   "id": "f4a5fc7a",
   "metadata": {
    "execution": {
     "iopub.execute_input": "2023-01-08T15:32:46.542268Z",
     "iopub.status.busy": "2023-01-08T15:32:46.540337Z",
     "iopub.status.idle": "2023-01-08T15:32:46.898079Z",
     "shell.execute_reply": "2023-01-08T15:32:46.896813Z"
    },
    "id": "7f-0YurRTC8z",
    "outputId": "f9cea0a9-8f30-402d-c398-483f64e2f2e9",
    "papermill": {
     "duration": 0.371894,
     "end_time": "2023-01-08T15:32:46.901135",
     "exception": false,
     "start_time": "2023-01-08T15:32:46.529241",
     "status": "completed"
    },
    "tags": []
   },
   "outputs": [
    {
     "data": {
      "text/plain": [
       "XGBRegressor(base_score=0.5, booster='gbtree', callbacks=None,\n",
       "             colsample_bylevel=1, colsample_bynode=1, colsample_bytree=1,\n",
       "             early_stopping_rounds=None, enable_categorical=False,\n",
       "             eval_metric=None, gamma=0, gpu_id=-1, grow_policy='depthwise',\n",
       "             importance_type=None, interaction_constraints='',\n",
       "             learning_rate=0.300000012, max_bin=256, max_cat_to_onehot=4,\n",
       "             max_delta_step=0, max_depth=6, max_leaves=0, min_child_weight=1,\n",
       "             missing=nan, monotone_constraints='()', n_estimators=100, n_jobs=0,\n",
       "             num_parallel_tree=1, pca__n_components=0.95, predictor='auto',\n",
       "             random_state=0, reg_alpha=0, ...)"
      ]
     },
     "execution_count": 20,
     "metadata": {},
     "output_type": "execute_result"
    },
    {
     "name": "stdout",
     "output_type": "stream",
     "text": [
      "\n",
      " MSE: 0.01\n",
      "\n",
      " RMSE: 0.09\n"
     ]
    }
   ],
   "source": [
    "model = XGBRegressor(pca__n_components= 0.95,\n",
    "                     xg__learning_rate=0.05, \n",
    "                     xg__max_depth= 9, \n",
    "                     xg__n_estimators=2000,\n",
    "                     objective='reg:squarederror')\n",
    "\t\t\t\t\t\n",
    "model.fit(X_train, y_train)\n",
    "ypred = model.predict(X_test)\n",
    "\n",
    "mse = mean_squared_error(y_test, ypred)\n",
    "\n",
    "print(\"\\n MSE: %.2f\" % mse)\n",
    "print(\"\\n RMSE: %.2f\" % (mse**(1/2.0)))"
   ]
  },
  {
   "cell_type": "markdown",
   "id": "1fe58f9d",
   "metadata": {
    "id": "jzZOp6o9btim",
    "papermill": {
     "duration": 0.010145,
     "end_time": "2023-01-08T15:32:46.923701",
     "exception": false,
     "start_time": "2023-01-08T15:32:46.913556",
     "status": "completed"
    },
    "tags": []
   },
   "source": [
    "### Using Random Search CV for identifying the best hyperparameters"
   ]
  },
  {
   "cell_type": "code",
   "execution_count": 21,
   "id": "91f08d93",
   "metadata": {
    "execution": {
     "iopub.execute_input": "2023-01-08T15:32:46.944560Z",
     "iopub.status.busy": "2023-01-08T15:32:46.944270Z",
     "iopub.status.idle": "2023-01-08T15:32:46.949618Z",
     "shell.execute_reply": "2023-01-08T15:32:46.948509Z"
    },
    "id": "ku_GMPq5bxaE",
    "papermill": {
     "duration": 0.018574,
     "end_time": "2023-01-08T15:32:46.951947",
     "exception": false,
     "start_time": "2023-01-08T15:32:46.933373",
     "status": "completed"
    },
    "tags": []
   },
   "outputs": [],
   "source": [
    "rs = RandomizedSearchCV(\n",
    "                          pipe_xg,\n",
    "                          param_distributions=parameters,\n",
    "                          scoring= ['neg_mean_absolute_error', 'neg_mean_squared_error','max_error'],\n",
    "                          n_iter=10,           # Max combination of\n",
    "                                              # parameter to try. Default = 10\n",
    "                          verbose = 1,\n",
    "                          refit = 'neg_mean_squared_error',\n",
    "                          n_jobs = 3,          # Use parallel cpu threads\n",
    "                          cv = 10               # No of folds.\n",
    "                                              # So n_iter * cv combinations\n",
    "                        )\n"
   ]
  },
  {
   "cell_type": "code",
   "execution_count": 22,
   "id": "1bde80e6",
   "metadata": {
    "execution": {
     "iopub.execute_input": "2023-01-08T15:32:46.973229Z",
     "iopub.status.busy": "2023-01-08T15:32:46.972914Z",
     "iopub.status.idle": "2023-01-08T15:56:39.478247Z",
     "shell.execute_reply": "2023-01-08T15:56:39.477208Z"
    },
    "id": "6CtxehhGi5Xa",
    "outputId": "f00ba589-6db7-4979-dffa-951b4b1a9f06",
    "papermill": {
     "duration": 1432.530956,
     "end_time": "2023-01-08T15:56:39.492891",
     "exception": false,
     "start_time": "2023-01-08T15:32:46.961935",
     "status": "completed"
    },
    "tags": []
   },
   "outputs": [
    {
     "name": "stdout",
     "output_type": "stream",
     "text": [
      "Fitting 10 folds for each of 10 candidates, totalling 100 fits\n"
     ]
    },
    {
     "data": {
      "text/plain": [
       "RandomizedSearchCV(cv=10,\n",
       "                   estimator=Pipeline(steps=[('sts', StandardScaler()),\n",
       "                                             ('pca', PCA()),\n",
       "                                             ('xg',\n",
       "                                              XGBRegressor(base_score=None,\n",
       "                                                           booster=None,\n",
       "                                                           callbacks=None,\n",
       "                                                           colsample_bylevel=None,\n",
       "                                                           colsample_bynode=None,\n",
       "                                                           colsample_bytree=None,\n",
       "                                                           early_stopping_rounds=None,\n",
       "                                                           enable_categorical=False,\n",
       "                                                           eval_metric=None,\n",
       "                                                           gamma=None,\n",
       "                                                           gpu_id=None,\n",
       "                                                           grow_policy=None,\n",
       "                                                           importance_type=None,...\n",
       "                                                           num_parallel_tree=None,\n",
       "                                                           predictor=None,\n",
       "                                                           random_state=None,\n",
       "                                                           reg_alpha=None,\n",
       "                                                           reg_lambda=None, ...))]),\n",
       "                   n_jobs=3,\n",
       "                   param_distributions={'pca__n_components': [0.95],\n",
       "                                        'xg__learning_rate': [0.03, 0.05],\n",
       "                                        'xg__max_depth': [5, 7, 9],\n",
       "                                        'xg__n_estimators': [1500, 2000, 2500]},\n",
       "                   refit='neg_mean_squared_error',\n",
       "                   scoring=['neg_mean_absolute_error', 'neg_mean_squared_error',\n",
       "                            'max_error'],\n",
       "                   verbose=1)"
      ]
     },
     "execution_count": 22,
     "metadata": {},
     "output_type": "execute_result"
    },
    {
     "name": "stdout",
     "output_type": "stream",
     "text": [
      "\n"
     ]
    },
    {
     "data": {
      "text/plain": [
       "23.874944587548573"
      ]
     },
     "execution_count": 22,
     "metadata": {},
     "output_type": "execute_result"
    }
   ],
   "source": [
    "start = time.time()\n",
    "rs.fit(X_train, y_train)\n",
    "end = time.time()\n",
    "print()\n",
    "(end - start)/60   # 4 minutes"
   ]
  },
  {
   "cell_type": "code",
   "execution_count": 23,
   "id": "07138e9c",
   "metadata": {
    "execution": {
     "iopub.execute_input": "2023-01-08T15:56:39.517173Z",
     "iopub.status.busy": "2023-01-08T15:56:39.516426Z",
     "iopub.status.idle": "2023-01-08T15:56:39.526328Z",
     "shell.execute_reply": "2023-01-08T15:56:39.525192Z"
    },
    "id": "BEkEisqIkmw7",
    "outputId": "d9a31d7b-8769-4cca-c0f9-ab9e93e5d87b",
    "papermill": {
     "duration": 0.02665,
     "end_time": "2023-01-08T15:56:39.531095",
     "exception": false,
     "start_time": "2023-01-08T15:56:39.504445",
     "status": "completed"
    },
    "tags": []
   },
   "outputs": [
    {
     "data": {
      "text/plain": [
       "'Best score: -0.07643511732649547 '"
      ]
     },
     "execution_count": 23,
     "metadata": {},
     "output_type": "execute_result"
    },
    {
     "name": "stdout",
     "output_type": "stream",
     "text": [
      "\n"
     ]
    },
    {
     "data": {
      "text/plain": [
       "\"Best parameter set {'pca__n_components': 0.95, 'xg__learning_rate': 0.05, 'xg__max_depth': 9, 'xg__n_estimators': 2000}\""
      ]
     },
     "execution_count": 23,
     "metadata": {},
     "output_type": "execute_result"
    }
   ],
   "source": [
    "f\"Best score: {clf.best_score_} \"            \n",
    "\n",
    "print()\n",
    "f\"Best parameter set {clf.best_params_}\""
   ]
  },
  {
   "cell_type": "code",
   "execution_count": 24,
   "id": "2f624321",
   "metadata": {
    "execution": {
     "iopub.execute_input": "2023-01-08T15:56:39.554702Z",
     "iopub.status.busy": "2023-01-08T15:56:39.554366Z",
     "iopub.status.idle": "2023-01-08T15:56:39.707267Z",
     "shell.execute_reply": "2023-01-08T15:56:39.705955Z"
    },
    "id": "OKiTCMf0k3vd",
    "outputId": "19b3cf47-5454-4667-fb12-1555e165c2ea",
    "papermill": {
     "duration": 0.167444,
     "end_time": "2023-01-08T15:56:39.709911",
     "exception": false,
     "start_time": "2023-01-08T15:56:39.542467",
     "status": "completed"
    },
    "tags": []
   },
   "outputs": [
    {
     "name": "stdout",
     "output_type": "stream",
     "text": [
      "--Few predictions--\n",
      "\n"
     ]
    },
    {
     "data": {
      "text/plain": [
       "2995250.5"
      ]
     },
     "execution_count": 24,
     "metadata": {},
     "output_type": "execute_result"
    }
   ],
   "source": [
    "y_pred = clf.predict(X_test)\n",
    "print(\"--Few predictions--\\n\")\n",
    "max(np.exp(y_pred[:]))\n"
   ]
  },
  {
   "cell_type": "code",
   "execution_count": 25,
   "id": "ab0a63a9",
   "metadata": {
    "execution": {
     "iopub.execute_input": "2023-01-08T15:56:39.734777Z",
     "iopub.status.busy": "2023-01-08T15:56:39.734121Z",
     "iopub.status.idle": "2023-01-08T15:56:40.085354Z",
     "shell.execute_reply": "2023-01-08T15:56:40.083662Z"
    },
    "id": "iMnsFAVIn3OK",
    "outputId": "9c9f2bdb-3901-4166-ff93-0b8aa4973062",
    "papermill": {
     "duration": 0.366662,
     "end_time": "2023-01-08T15:56:40.088470",
     "exception": false,
     "start_time": "2023-01-08T15:56:39.721808",
     "status": "completed"
    },
    "tags": []
   },
   "outputs": [
    {
     "data": {
      "text/plain": [
       "XGBRegressor(base_score=0.5, booster='gbtree', callbacks=None,\n",
       "             colsample_bylevel=1, colsample_bynode=1, colsample_bytree=1,\n",
       "             early_stopping_rounds=None, enable_categorical=False,\n",
       "             eval_metric=None, gamma=0, gpu_id=-1, grow_policy='depthwise',\n",
       "             importance_type=None, interaction_constraints='',\n",
       "             learning_rate=0.300000012, max_bin=256, max_cat_to_onehot=4,\n",
       "             max_delta_step=0, max_depth=6, max_leaves=0, min_child_weight=1,\n",
       "             missing=nan, monotone_constraints='()', n_estimators=100, n_jobs=0,\n",
       "             num_parallel_tree=1, pca__n_components=0.95, predictor='auto',\n",
       "             random_state=0, reg_alpha=0, ...)"
      ]
     },
     "execution_count": 25,
     "metadata": {},
     "output_type": "execute_result"
    },
    {
     "name": "stdout",
     "output_type": "stream",
     "text": [
      "\n",
      " MSE: 0.01\n",
      "\n",
      " RMSE: 0.09\n"
     ]
    }
   ],
   "source": [
    "model = XGBRegressor(pca__n_components= 0.95, \n",
    "                     xg__learning_rate=0.05, \n",
    "                     xg__max_depth= 9, \n",
    "                     xg__n_estimators=2000,\n",
    "                     objective='reg:squarederror')\n",
    "model.fit(X_train, y_train)\n",
    "ypred = model.predict(X_test)\n",
    "\n",
    "mse = mean_squared_error(y_test, ypred)\n",
    "\n",
    "print(\"\\n MSE: %.2f\" % mse)\n",
    "print(\"\\n RMSE: %.2f\" % (mse**(1/2.0)))"
   ]
  },
  {
   "cell_type": "markdown",
   "id": "654080af",
   "metadata": {
    "id": "d_3E-QYwnWKF",
    "papermill": {
     "duration": 0.010838,
     "end_time": "2023-01-08T15:56:40.113299",
     "exception": false,
     "start_time": "2023-01-08T15:56:40.102461",
     "status": "completed"
    },
    "tags": []
   },
   "source": [
    "### Using Bayesian Search to identify best hypermeters"
   ]
  },
  {
   "cell_type": "code",
   "execution_count": 26,
   "id": "f9bcc210",
   "metadata": {
    "execution": {
     "iopub.execute_input": "2023-01-08T15:56:40.137136Z",
     "iopub.status.busy": "2023-01-08T15:56:40.136768Z",
     "iopub.status.idle": "2023-01-08T15:56:40.153502Z",
     "shell.execute_reply": "2023-01-08T15:56:40.152547Z"
    },
    "id": "aVyqjUEGndT8",
    "papermill": {
     "duration": 0.031307,
     "end_time": "2023-01-08T15:56:40.155828",
     "exception": false,
     "start_time": "2023-01-08T15:56:40.124521",
     "status": "completed"
    },
    "tags": []
   },
   "outputs": [],
   "source": [
    "params={\n",
    "         'min_child_weight': Integer(0, 50),  # min no of instances needed to be in each node before split\n",
    "         'max_depth': Integer(1, 10),         # Maximum depth of a tree.\n",
    "         'subsample': Real (0.5, 1.0, 'uniform'),  # Subsample ratio of the training instances. \n",
    "                                                   # Setting it to 0.5 means that XGBoost would \n",
    "                                                   # randomly sample half of the training data prior\n",
    "                                                   # to growing trees. and this will prevent overfitting. \n",
    "         'colsample_bytree': Real(0.5, 1.0, 'uniform'), # subsample ratio of cols when constructing each tree\n",
    "         'reg_lambda':Real(1e-5,100,prior = 'log-uniform'), # L2 reg term on weights. Increasing this value will make model more conservative\n",
    "                                                            #  ie move towards simpler model\n",
    "         'reg_alpha': Real(1e-5,100,prior= 'log-uniform'),  # L1 reg\n",
    "         'gamma': Real(1e-9, 0.5, 'log-uniform'),   # Min loss reduction required to make a further partition\n",
    "                                                    # on a leaf node of the tree. The larger gamma is, the \n",
    "                                                    # more conservative the algorithm will be leading to simpler models.\n",
    "         'learning-rate': Real(0.01,0.2,prior='log-uniform'), # How much weight should shrink after each step \n",
    "                                                              # to make boosting process (NOT model) more conservative\n",
    "         'scale_pos_weight': Real(1e-6, 500, 'log-uniform'),  # Control the balance of pos and neg weights, useful for unbalanced classes\n",
    "         'n_estimators': Integer(100, 3000)   # Max number of trees\n",
    "        }"
   ]
  },
  {
   "cell_type": "code",
   "execution_count": 27,
   "id": "ebfed222",
   "metadata": {
    "execution": {
     "iopub.execute_input": "2023-01-08T15:56:40.178940Z",
     "iopub.status.busy": "2023-01-08T15:56:40.178607Z",
     "iopub.status.idle": "2023-01-08T15:56:40.185723Z",
     "shell.execute_reply": "2023-01-08T15:56:40.184612Z"
    },
    "id": "afYpixGm8apF",
    "papermill": {
     "duration": 0.021864,
     "end_time": "2023-01-08T15:56:40.188422",
     "exception": false,
     "start_time": "2023-01-08T15:56:40.166558",
     "status": "completed"
    },
    "tags": []
   },
   "outputs": [],
   "source": [
    "bayes_tuner=BayesSearchCV(\n",
    "                            XGBRegressor(\n",
    "                                            n_jobs = 4,\n",
    "                                            objective='reg:squarederror',\n",
    "                                            eval_metric = 'rmse',\n",
    "                                            silent=1,\n",
    "                                            tree_method='approx'\n",
    "                                            ),\n",
    "                            params,\n",
    "                            n_iter=5,              # No of parameter settings that are tried \n",
    "                            scoring='neg_mean_squared_error',     # The criteria for best model. Maximise\n",
    "                            optimizer_kwargs={     # Dict of arguments passed to Optimizer.\n",
    "                                               'n_initial_points' : 5,  # Initial random pts before intelligence sets in\n",
    "                                                                        #  default: 10\n",
    "                                               'initial_point_generator':'random' # Random serach for init pts\n",
    "                                              }, \n",
    "                            cv = KFold(\n",
    "                                                  n_splits=10,\n",
    "                                                  shuffle=True,\n",
    "                                                  random_state=42\n",
    "                                                ),\n",
    "                            refit = True, # Refit the best estimator\n",
    "                                          #   so as to make predictions\n",
    "                            verbose = 1,\n",
    "                            return_train_score= True\n",
    "                    )\n"
   ]
  },
  {
   "cell_type": "code",
   "execution_count": 28,
   "id": "fc382870",
   "metadata": {
    "execution": {
     "iopub.execute_input": "2023-01-08T15:56:40.211396Z",
     "iopub.status.busy": "2023-01-08T15:56:40.211083Z",
     "iopub.status.idle": "2023-01-08T15:59:51.808611Z",
     "shell.execute_reply": "2023-01-08T15:59:51.807578Z"
    },
    "id": "Ovp2K5h_ovyE",
    "outputId": "86f9d5f0-6694-4e06-826b-b8dd29d719d5",
    "papermill": {
     "duration": 191.611746,
     "end_time": "2023-01-08T15:59:51.811117",
     "exception": false,
     "start_time": "2023-01-08T15:56:40.199371",
     "status": "completed"
    },
    "tags": []
   },
   "outputs": [
    {
     "name": "stdout",
     "output_type": "stream",
     "text": [
      "Fitting 10 folds for each of 1 candidates, totalling 10 fits\n",
      "Fitting 10 folds for each of 1 candidates, totalling 10 fits\n",
      "Fitting 10 folds for each of 1 candidates, totalling 10 fits\n",
      "Fitting 10 folds for each of 1 candidates, totalling 10 fits\n",
      "Fitting 10 folds for each of 1 candidates, totalling 10 fits\n"
     ]
    },
    {
     "data": {
      "text/plain": [
       "'3.193155868848165 minutes '"
      ]
     },
     "execution_count": 28,
     "metadata": {},
     "output_type": "execute_result"
    }
   ],
   "source": [
    "start = time.time()\n",
    "res=bayes_tuner.fit(\n",
    "                      X_train,\n",
    "                      y_train,\n",
    "                      #callback=status_print\n",
    "                    )\n",
    "\n",
    "end = time.time()\n",
    "\n",
    "f\"{(end - start)/60} minutes \"    # 3 minutes on Colab"
   ]
  },
  {
   "cell_type": "code",
   "execution_count": 29,
   "id": "e17a4d6f",
   "metadata": {
    "execution": {
     "iopub.execute_input": "2023-01-08T15:59:51.837974Z",
     "iopub.status.busy": "2023-01-08T15:59:51.836209Z",
     "iopub.status.idle": "2023-01-08T15:59:51.846380Z",
     "shell.execute_reply": "2023-01-08T15:59:51.845277Z"
    },
    "id": "hrND8VchZ02U",
    "outputId": "f8a61346-ad25-4584-b0f3-91243af2d0ed",
    "papermill": {
     "duration": 0.025736,
     "end_time": "2023-01-08T15:59:51.848820",
     "exception": false,
     "start_time": "2023-01-08T15:59:51.823084",
     "status": "completed"
    },
    "tags": []
   },
   "outputs": [
    {
     "data": {
      "text/plain": [
       "XGBRegressor(base_score=0.5, booster='gbtree', callbacks=None,\n",
       "             colsample_bylevel=1, colsample_bynode=1,\n",
       "             colsample_bytree=0.7822743471804519, early_stopping_rounds=None,\n",
       "             enable_categorical=False, eval_metric='rmse',\n",
       "             gamma=3.396615561557749e-05, gpu_id=-1, grow_policy='depthwise',\n",
       "             importance_type=None, interaction_constraints='',\n",
       "             learning-rate=0.012169796606039613, learning_rate=0.300000012,\n",
       "             max_bin=256, max_cat_to_onehot=4, max_delta_step=0, max_depth=7,\n",
       "             max_leaves=0, min_child_weight=10, missing=nan,\n",
       "             monotone_constraints='()', n_estimators=1609, n_jobs=4,\n",
       "             num_parallel_tree=1, predictor='auto', random_state=0,\n",
       "             reg_alpha=0.005479296448630956, ...)"
      ]
     },
     "execution_count": 29,
     "metadata": {},
     "output_type": "execute_result"
    }
   ],
   "source": [
    "res.best_estimator_"
   ]
  },
  {
   "cell_type": "code",
   "execution_count": 30,
   "id": "bcdbb55f",
   "metadata": {
    "execution": {
     "iopub.execute_input": "2023-01-08T15:59:51.874467Z",
     "iopub.status.busy": "2023-01-08T15:59:51.874077Z",
     "iopub.status.idle": "2023-01-08T15:59:51.881811Z",
     "shell.execute_reply": "2023-01-08T15:59:51.880712Z"
    },
    "id": "S1aN16b4Z6QJ",
    "outputId": "c404e4cd-f964-4d72-a29a-904ea4a35948",
    "papermill": {
     "duration": 0.023512,
     "end_time": "2023-01-08T15:59:51.884114",
     "exception": false,
     "start_time": "2023-01-08T15:59:51.860602",
     "status": "completed"
    },
    "tags": []
   },
   "outputs": [
    {
     "data": {
      "text/plain": [
       "-0.0074286002978073435"
      ]
     },
     "execution_count": 30,
     "metadata": {},
     "output_type": "execute_result"
    }
   ],
   "source": [
    "res.best_score_"
   ]
  },
  {
   "cell_type": "code",
   "execution_count": 31,
   "id": "f3d24826",
   "metadata": {
    "execution": {
     "iopub.execute_input": "2023-01-08T15:59:51.908702Z",
     "iopub.status.busy": "2023-01-08T15:59:51.908394Z",
     "iopub.status.idle": "2023-01-08T15:59:51.915250Z",
     "shell.execute_reply": "2023-01-08T15:59:51.914269Z"
    },
    "id": "cgnjknY2aAoG",
    "outputId": "6ef29fcf-3bf0-4636-e453-993939b0e58f",
    "papermill": {
     "duration": 0.021483,
     "end_time": "2023-01-08T15:59:51.917398",
     "exception": false,
     "start_time": "2023-01-08T15:59:51.895915",
     "status": "completed"
    },
    "tags": []
   },
   "outputs": [
    {
     "data": {
      "text/plain": [
       "OrderedDict([('colsample_bytree', 0.7822743471804519),\n",
       "             ('gamma', 3.396615561557749e-05),\n",
       "             ('learning-rate', 0.012169796606039613),\n",
       "             ('max_depth', 7),\n",
       "             ('min_child_weight', 10),\n",
       "             ('n_estimators', 1609),\n",
       "             ('reg_alpha', 0.005479296448630956),\n",
       "             ('reg_lambda', 0.01359256878101883),\n",
       "             ('scale_pos_weight', 0.08260970994852401),\n",
       "             ('subsample', 0.919386323228355)])"
      ]
     },
     "execution_count": 31,
     "metadata": {},
     "output_type": "execute_result"
    }
   ],
   "source": [
    "res.best_params_"
   ]
  },
  {
   "cell_type": "code",
   "execution_count": 32,
   "id": "193663d9",
   "metadata": {
    "execution": {
     "iopub.execute_input": "2023-01-08T15:59:51.942041Z",
     "iopub.status.busy": "2023-01-08T15:59:51.941730Z",
     "iopub.status.idle": "2023-01-08T15:59:51.947312Z",
     "shell.execute_reply": "2023-01-08T15:59:51.946235Z"
    },
    "id": "c4hsAvCVbEQE",
    "papermill": {
     "duration": 0.020858,
     "end_time": "2023-01-08T15:59:51.949806",
     "exception": false,
     "start_time": "2023-01-08T15:59:51.928948",
     "status": "completed"
    },
    "tags": []
   },
   "outputs": [],
   "source": [
    "model = XGBRegressor(colsample_bytree=0.7289138671356226, \n",
    "                     eval_metric='rmse',\n",
    "                    gamma=3.450759283378757e-05, \n",
    "                    learning_rate=0.01593327330352174,\n",
    "                    max_depth=7, \n",
    "                    min_child_weight=47, \n",
    "                    n_estimators=1620, \n",
    "                    objective='reg:squarederror', \n",
    "                    reg_alpha=0.003168973388873482,\n",
    "                    reg_lambda=5.785085131033634e-05,\n",
    "                    scale_pos_weight=51.351027196303, \n",
    "                    subsample=0.9379088882197723, \n",
    "                    )"
   ]
  },
  {
   "cell_type": "code",
   "execution_count": 33,
   "id": "f12eb32f",
   "metadata": {
    "execution": {
     "iopub.execute_input": "2023-01-08T15:59:51.975005Z",
     "iopub.status.busy": "2023-01-08T15:59:51.974655Z",
     "iopub.status.idle": "2023-01-08T15:59:56.824712Z",
     "shell.execute_reply": "2023-01-08T15:59:56.823814Z"
    },
    "id": "W_3NpnQf6uuz",
    "outputId": "2197c040-a41b-4ccb-d45d-47d0e118b169",
    "papermill": {
     "duration": 4.86538,
     "end_time": "2023-01-08T15:59:56.827376",
     "exception": false,
     "start_time": "2023-01-08T15:59:51.961996",
     "status": "completed"
    },
    "tags": []
   },
   "outputs": [
    {
     "data": {
      "text/plain": [
       "XGBRegressor(base_score=0.5, booster='gbtree', callbacks=None,\n",
       "             colsample_bylevel=1, colsample_bynode=1,\n",
       "             colsample_bytree=0.7289138671356226, early_stopping_rounds=None,\n",
       "             enable_categorical=False, eval_metric='rmse',\n",
       "             gamma=3.450759283378757e-05, gpu_id=-1, grow_policy='depthwise',\n",
       "             importance_type=None, interaction_constraints='',\n",
       "             learning_rate=0.01593327330352174, max_bin=256,\n",
       "             max_cat_to_onehot=4, max_delta_step=0, max_depth=7, max_leaves=0,\n",
       "             min_child_weight=47, missing=nan, monotone_constraints='()',\n",
       "             n_estimators=1620, n_jobs=0, num_parallel_tree=1, predictor='auto',\n",
       "             random_state=0, reg_alpha=0.003168973388873482,\n",
       "             reg_lambda=5.785085131033634e-05, ...)"
      ]
     },
     "execution_count": 33,
     "metadata": {},
     "output_type": "execute_result"
    }
   ],
   "source": [
    "model.fit(X_train, y_train)\n",
    "ypred = model.predict(X_test)\n",
    "mse = mean_squared_error(y_test, ypred)"
   ]
  },
  {
   "cell_type": "code",
   "execution_count": 34,
   "id": "b8b2a15c",
   "metadata": {
    "execution": {
     "iopub.execute_input": "2023-01-08T15:59:56.856480Z",
     "iopub.status.busy": "2023-01-08T15:59:56.856148Z",
     "iopub.status.idle": "2023-01-08T15:59:56.862122Z",
     "shell.execute_reply": "2023-01-08T15:59:56.860904Z"
    },
    "id": "gF3J1zxz9o0-",
    "outputId": "2c096dc7-7341-4f80-b75d-3fd8dae193ac",
    "papermill": {
     "duration": 0.02317,
     "end_time": "2023-01-08T15:59:56.865819",
     "exception": false,
     "start_time": "2023-01-08T15:59:56.842649",
     "status": "completed"
    },
    "tags": []
   },
   "outputs": [
    {
     "name": "stdout",
     "output_type": "stream",
     "text": [
      "MSE: 0.01\n",
      "RMSE: 0.10\n"
     ]
    }
   ],
   "source": [
    "print(\"MSE: %.2f\" % mse)\n",
    "print(\"RMSE: %.2f\" % (mse**(1/2.0)))"
   ]
  }
 ],
 "metadata": {
  "kernelspec": {
   "display_name": "Python 3",
   "language": "python",
   "name": "python3"
  },
  "language_info": {
   "codemirror_mode": {
    "name": "ipython",
    "version": 3
   },
   "file_extension": ".py",
   "mimetype": "text/x-python",
   "name": "python",
   "nbconvert_exporter": "python",
   "pygments_lexer": "ipython3",
   "version": "3.7.12"
  },
  "papermill": {
   "default_parameters": {},
   "duration": 2802.739001,
   "end_time": "2023-01-08T15:59:59.506398",
   "environment_variables": {},
   "exception": null,
   "input_path": "__notebook__.ipynb",
   "output_path": "__notebook__.ipynb",
   "parameters": {},
   "start_time": "2023-01-08T15:13:16.767397",
   "version": "2.3.4"
  }
 },
 "nbformat": 4,
 "nbformat_minor": 5
}
