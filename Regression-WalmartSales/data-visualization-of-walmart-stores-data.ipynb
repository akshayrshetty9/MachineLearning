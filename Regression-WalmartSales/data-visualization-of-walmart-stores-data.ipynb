{
 "cells": [
  {
   "cell_type": "markdown",
   "id": "ea58c983",
   "metadata": {
    "id": "aHRMVmib-NWJ",
    "papermill": {
     "duration": 0.005919,
     "end_time": "2023-01-08T04:45:32.752532",
     "exception": false,
     "start_time": "2023-01-08T04:45:32.746613",
     "status": "completed"
    },
    "tags": []
   },
   "source": [
    "# Data visualization of walmart stores data"
   ]
  },
  {
   "cell_type": "code",
   "execution_count": 1,
   "id": "2affee12",
   "metadata": {
    "execution": {
     "iopub.execute_input": "2023-01-08T04:45:32.764418Z",
     "iopub.status.busy": "2023-01-08T04:45:32.763685Z",
     "iopub.status.idle": "2023-01-08T04:45:33.969129Z",
     "shell.execute_reply": "2023-01-08T04:45:33.967808Z"
    },
    "id": "zSRZBK_F-LIZ",
    "papermill": {
     "duration": 1.21447,
     "end_time": "2023-01-08T04:45:33.971952",
     "exception": false,
     "start_time": "2023-01-08T04:45:32.757482",
     "status": "completed"
    },
    "tags": []
   },
   "outputs": [],
   "source": [
    "\n",
    "# 1.0 Call libraries\n",
    "%reset -f\n",
    "# 1.1 For data manipulations\n",
    "import numpy as np\n",
    "import pandas as pd\n",
    "from numpy.random import default_rng\n",
    "\n",
    "# 1.2 For plotting\n",
    "import matplotlib.pyplot as plt\n",
    "import seaborn as sns\n",
    "import matplotlib as mpl     # For creating colormaps\n",
    "\n",
    "# 1.3 For data processing\n",
    "from sklearn.preprocessing import StandardScaler\n",
    "\n",
    "# 1.4 OS related\n",
    "import os\n",
    "\n",
    "# 1.5 for working in ipython\n",
    "#%matplotlib qt5\n",
    "#%matplotlib inline\n",
    "\n",
    "from scipy.stats import scoreatpercentile, pearsonr"
   ]
  },
  {
   "cell_type": "code",
   "execution_count": 2,
   "id": "d933386e",
   "metadata": {
    "execution": {
     "iopub.execute_input": "2023-01-08T04:45:33.983397Z",
     "iopub.status.busy": "2023-01-08T04:45:33.982985Z",
     "iopub.status.idle": "2023-01-08T04:45:34.024303Z",
     "shell.execute_reply": "2023-01-08T04:45:34.023216Z"
    },
    "id": "VPazwVgxWFrJ",
    "outputId": "325c3814-7e76-4aba-e145-558911ba1bd9",
    "papermill": {
     "duration": 0.04975,
     "end_time": "2023-01-08T04:45:34.026848",
     "exception": false,
     "start_time": "2023-01-08T04:45:33.977098",
     "status": "completed"
    },
    "tags": []
   },
   "outputs": [],
   "source": [
    "# Mount gdrive\n",
    "#from google.colab import drive\n",
    "#drive.mount('/gdrive')\n",
    "#path = \"/kaggle/input/walmart-sales-dataset-of-45stores/walmart-sales-dataset-of-45stores.csv\"\n",
    "#os.chdir(path)\n",
    "wmart = pd.read_csv(\"/kaggle/input/walmart-sales-dataset-of-45stores/walmart-sales-dataset-of-45stores.csv\",\n",
    "                    parse_dates = ['Date'] \n",
    "                )"
   ]
  },
  {
   "cell_type": "code",
   "execution_count": 3,
   "id": "845c23f1",
   "metadata": {
    "execution": {
     "iopub.execute_input": "2023-01-08T04:45:34.037870Z",
     "iopub.status.busy": "2023-01-08T04:45:34.037507Z",
     "iopub.status.idle": "2023-01-08T04:45:34.043541Z",
     "shell.execute_reply": "2023-01-08T04:45:34.042531Z"
    },
    "id": "BO7-XAt1W3wQ",
    "papermill": {
     "duration": 0.014101,
     "end_time": "2023-01-08T04:45:34.045796",
     "exception": false,
     "start_time": "2023-01-08T04:45:34.031695",
     "status": "completed"
    },
    "tags": []
   },
   "outputs": [],
   "source": [
    "def mapQuarters(num):\n",
    "    \"\"\"This function returns the absolute\n",
    "    value of the entered number\"\"\"\n",
    "\n",
    "    if num >= 1 and num <=3:\n",
    "        return 1\n",
    "    if num >= 4 and num <=6:\n",
    "        return 2\n",
    "    if num >= 7 and num <=9:\n",
    "        return 3\n",
    "    if num >= 10 and num <=12:\n",
    "        return 4"
   ]
  },
  {
   "cell_type": "code",
   "execution_count": 4,
   "id": "340869e5",
   "metadata": {
    "execution": {
     "iopub.execute_input": "2023-01-08T04:45:34.056091Z",
     "iopub.status.busy": "2023-01-08T04:45:34.055807Z",
     "iopub.status.idle": "2023-01-08T04:45:34.062122Z",
     "shell.execute_reply": "2023-01-08T04:45:34.061282Z"
    },
    "id": "3rslz8IdW5_5",
    "papermill": {
     "duration": 0.013877,
     "end_time": "2023-01-08T04:45:34.064100",
     "exception": false,
     "start_time": "2023-01-08T04:45:34.050223",
     "status": "completed"
    },
    "tags": []
   },
   "outputs": [],
   "source": [
    "def mapMonths(x):\n",
    "    \"\"\"This function returns the absolute\n",
    "    value of the entered number\"\"\"\n",
    "\n",
    "    if x == 1:\n",
    "        return 'Jan'\n",
    "    if x == 2:\n",
    "        return 'Feb'\n",
    "    if x == 3:\n",
    "        return 'Mar'\n",
    "    if x == 4:\n",
    "        return 'Apr'\n",
    "    if x == 5:\n",
    "        return 'May'\n",
    "    if x == 6:\n",
    "        return 'Jun'\n",
    "    if x == 7:\n",
    "        return 'Jul'\n",
    "    if x == 8:\n",
    "        return 'Aug'\n",
    "    if x == 9:\n",
    "        return 'Sep'\n",
    "    if x == 10:\n",
    "        return 'Oct'\n",
    "    if x == 11:\n",
    "        return 'Nov'\n",
    "    if x == 12:\n",
    "        return 'Dec'"
   ]
  },
  {
   "cell_type": "code",
   "execution_count": 5,
   "id": "7b229b62",
   "metadata": {
    "execution": {
     "iopub.execute_input": "2023-01-08T04:45:34.074363Z",
     "iopub.status.busy": "2023-01-08T04:45:34.073775Z",
     "iopub.status.idle": "2023-01-08T04:45:34.079587Z",
     "shell.execute_reply": "2023-01-08T04:45:34.078585Z"
    },
    "id": "e0lLuQRKW8ZR",
    "papermill": {
     "duration": 0.01293,
     "end_time": "2023-01-08T04:45:34.081481",
     "exception": false,
     "start_time": "2023-01-08T04:45:34.068551",
     "status": "completed"
    },
    "tags": []
   },
   "outputs": [],
   "source": [
    "def mapWeekday(x):\n",
    "    \"\"\"This function returns the absolute\n",
    "    value of the entered number\"\"\"\n",
    "\n",
    "    if x == 0:\n",
    "        return 'Mon'\n",
    "    if x == 1:\n",
    "        return 'Tue'\n",
    "    if x == 2:\n",
    "        return 'Wed'\n",
    "    if x == 3:\n",
    "        return 'Thu'\n",
    "    if x == 4:\n",
    "        return 'Fri'\n",
    "    if x == 5:\n",
    "        return 'Sat'\n",
    "    if x == 6:\n",
    "        return 'Sun'\n"
   ]
  },
  {
   "cell_type": "code",
   "execution_count": 6,
   "id": "d8f1183a",
   "metadata": {
    "execution": {
     "iopub.execute_input": "2023-01-08T04:45:34.091864Z",
     "iopub.status.busy": "2023-01-08T04:45:34.091552Z",
     "iopub.status.idle": "2023-01-08T04:45:34.125278Z",
     "shell.execute_reply": "2023-01-08T04:45:34.124203Z"
    },
    "id": "n1HvCsK4XB8P",
    "papermill": {
     "duration": 0.041648,
     "end_time": "2023-01-08T04:45:34.127631",
     "exception": false,
     "start_time": "2023-01-08T04:45:34.085983",
     "status": "completed"
    },
    "tags": []
   },
   "outputs": [],
   "source": [
    "wmart['Day'] = wmart['Date'].dt.dayofweek #0 for monday through 6 for sunday\n",
    "wmart['month'] = wmart['Date'].dt.month\n",
    "wmart['quarter']=wmart['month'].apply(lambda x : mapQuarters(x))\n",
    "wmart['month']=wmart['month'].apply(lambda x : mapMonths(x))\n",
    "wmart['Day']=wmart['Day'].apply(lambda x : mapWeekday(x))\n",
    "\n",
    "wmart['Weather'] = pd.qcut(wmart['Temperature'],3, labels=[\"Winter\", \"Spring\", \"Summer\"])\n",
    "wmart['FuelPrice'] = pd.qcut(wmart['Fuel_Price'],3, labels=[\"Low\", \"Nominal\", \"High\"])\n",
    "wmart['Inflation'] = pd.qcut(wmart['CPI'],3, labels=[\"Low\", \"Nominal\", \"High\"])\n",
    "wmart['Unemployment'] = pd.qcut(wmart['Unemployment'],3, labels=[\"Low\", \"Nominal\", \"High\"])"
   ]
  },
  {
   "cell_type": "code",
   "execution_count": 7,
   "id": "0a236d66",
   "metadata": {
    "execution": {
     "iopub.execute_input": "2023-01-08T04:45:34.138789Z",
     "iopub.status.busy": "2023-01-08T04:45:34.138456Z",
     "iopub.status.idle": "2023-01-08T04:45:34.145974Z",
     "shell.execute_reply": "2023-01-08T04:45:34.144958Z"
    },
    "id": "hb0JkmHJXHKJ",
    "papermill": {
     "duration": 0.015716,
     "end_time": "2023-01-08T04:45:34.148189",
     "exception": false,
     "start_time": "2023-01-08T04:45:34.132473",
     "status": "completed"
    },
    "tags": []
   },
   "outputs": [],
   "source": [
    "wmart.drop(['Date'], axis=1, inplace=True)"
   ]
  },
  {
   "cell_type": "code",
   "execution_count": 8,
   "id": "af762152",
   "metadata": {
    "execution": {
     "iopub.execute_input": "2023-01-08T04:45:34.159203Z",
     "iopub.status.busy": "2023-01-08T04:45:34.158836Z",
     "iopub.status.idle": "2023-01-08T04:45:34.168465Z",
     "shell.execute_reply": "2023-01-08T04:45:34.167457Z"
    },
    "id": "t13JN_IIXMAZ",
    "outputId": "4648f6a1-85a6-43c9-f2d6-a0b2a470695f",
    "papermill": {
     "duration": 0.018003,
     "end_time": "2023-01-08T04:45:34.171090",
     "exception": false,
     "start_time": "2023-01-08T04:45:34.153087",
     "status": "completed"
    },
    "tags": []
   },
   "outputs": [
    {
     "data": {
      "text/plain": [
       "Store              int64\n",
       "Weekly_Sales     float64\n",
       "Holiday_Flag       int64\n",
       "Temperature      float64\n",
       "Fuel_Price       float64\n",
       "CPI              float64\n",
       "Unemployment    category\n",
       "Day               object\n",
       "month             object\n",
       "quarter            int64\n",
       "Weather         category\n",
       "FuelPrice       category\n",
       "Inflation       category\n",
       "dtype: object"
      ]
     },
     "execution_count": 8,
     "metadata": {},
     "output_type": "execute_result"
    }
   ],
   "source": [
    "wmart.dtypes"
   ]
  },
  {
   "cell_type": "code",
   "execution_count": 9,
   "id": "1cdceba2",
   "metadata": {
    "execution": {
     "iopub.execute_input": "2023-01-08T04:45:34.182294Z",
     "iopub.status.busy": "2023-01-08T04:45:34.181984Z",
     "iopub.status.idle": "2023-01-08T04:45:34.207272Z",
     "shell.execute_reply": "2023-01-08T04:45:34.206110Z"
    },
    "id": "luOcnCXAJOLh",
    "outputId": "fed96c3a-a541-40b7-bf7e-1e036ed96f21",
    "papermill": {
     "duration": 0.033741,
     "end_time": "2023-01-08T04:45:34.209401",
     "exception": false,
     "start_time": "2023-01-08T04:45:34.175660",
     "status": "completed"
    },
    "tags": []
   },
   "outputs": [
    {
     "data": {
      "text/html": [
       "<div>\n",
       "<style scoped>\n",
       "    .dataframe tbody tr th:only-of-type {\n",
       "        vertical-align: middle;\n",
       "    }\n",
       "\n",
       "    .dataframe tbody tr th {\n",
       "        vertical-align: top;\n",
       "    }\n",
       "\n",
       "    .dataframe thead th {\n",
       "        text-align: right;\n",
       "    }\n",
       "</style>\n",
       "<table border=\"1\" class=\"dataframe\">\n",
       "  <thead>\n",
       "    <tr style=\"text-align: right;\">\n",
       "      <th></th>\n",
       "      <th></th>\n",
       "      <th>Weekly_Sales</th>\n",
       "    </tr>\n",
       "    <tr>\n",
       "      <th>Store</th>\n",
       "      <th>month</th>\n",
       "      <th></th>\n",
       "    </tr>\n",
       "  </thead>\n",
       "  <tbody>\n",
       "    <tr>\n",
       "      <th rowspan=\"2\" valign=\"top\">33</th>\n",
       "      <th>Nov</th>\n",
       "      <td>2397699.15</td>\n",
       "    </tr>\n",
       "    <tr>\n",
       "      <th>Jan</th>\n",
       "      <td>2441703.93</td>\n",
       "    </tr>\n",
       "    <tr>\n",
       "      <th>44</th>\n",
       "      <th>Nov</th>\n",
       "      <td>2754044.78</td>\n",
       "    </tr>\n",
       "    <tr>\n",
       "      <th rowspan=\"2\" valign=\"top\">33</th>\n",
       "      <th>Feb</th>\n",
       "      <td>2834422.61</td>\n",
       "    </tr>\n",
       "    <tr>\n",
       "      <th>Dec</th>\n",
       "      <td>2885510.43</td>\n",
       "    </tr>\n",
       "    <tr>\n",
       "      <th>...</th>\n",
       "      <th>...</th>\n",
       "      <td>...</td>\n",
       "    </tr>\n",
       "    <tr>\n",
       "      <th rowspan=\"2\" valign=\"top\">20</th>\n",
       "      <th>Dec</th>\n",
       "      <td>27270096.85</td>\n",
       "    </tr>\n",
       "    <tr>\n",
       "      <th>Oct</th>\n",
       "      <td>27456595.38</td>\n",
       "    </tr>\n",
       "    <tr>\n",
       "      <th>4</th>\n",
       "      <th>Apr</th>\n",
       "      <td>28448548.78</td>\n",
       "    </tr>\n",
       "    <tr>\n",
       "      <th>14</th>\n",
       "      <th>Apr</th>\n",
       "      <td>28601074.56</td>\n",
       "    </tr>\n",
       "    <tr>\n",
       "      <th>20</th>\n",
       "      <th>Apr</th>\n",
       "      <td>28998888.90</td>\n",
       "    </tr>\n",
       "  </tbody>\n",
       "</table>\n",
       "<p>540 rows × 1 columns</p>\n",
       "</div>"
      ],
      "text/plain": [
       "             Weekly_Sales\n",
       "Store month              \n",
       "33    Nov      2397699.15\n",
       "      Jan      2441703.93\n",
       "44    Nov      2754044.78\n",
       "33    Feb      2834422.61\n",
       "      Dec      2885510.43\n",
       "...                   ...\n",
       "20    Dec     27270096.85\n",
       "      Oct     27456595.38\n",
       "4     Apr     28448548.78\n",
       "14    Apr     28601074.56\n",
       "20    Apr     28998888.90\n",
       "\n",
       "[540 rows x 1 columns]"
      ]
     },
     "execution_count": 9,
     "metadata": {},
     "output_type": "execute_result"
    }
   ],
   "source": [
    "wmart.groupby(['Store','month'])['Weekly_Sales'].sum().sort_values(ascending=True).to_frame()"
   ]
  },
  {
   "cell_type": "code",
   "execution_count": 10,
   "id": "ce2fecd1",
   "metadata": {
    "execution": {
     "iopub.execute_input": "2023-01-08T04:45:34.221073Z",
     "iopub.status.busy": "2023-01-08T04:45:34.220741Z",
     "iopub.status.idle": "2023-01-08T04:45:34.226584Z",
     "shell.execute_reply": "2023-01-08T04:45:34.225686Z"
    },
    "id": "S5xRQRbT-WQZ",
    "papermill": {
     "duration": 0.013621,
     "end_time": "2023-01-08T04:45:34.228443",
     "exception": false,
     "start_time": "2023-01-08T04:45:34.214822",
     "status": "completed"
    },
    "tags": []
   },
   "outputs": [],
   "source": [
    "wmart['Holiday_Flag']=wmart['Holiday_Flag'].astype('category')"
   ]
  },
  {
   "cell_type": "code",
   "execution_count": 11,
   "id": "913fa16c",
   "metadata": {
    "execution": {
     "iopub.execute_input": "2023-01-08T04:45:34.239713Z",
     "iopub.status.busy": "2023-01-08T04:45:34.239413Z",
     "iopub.status.idle": "2023-01-08T04:45:35.647348Z",
     "shell.execute_reply": "2023-01-08T04:45:35.646177Z"
    },
    "id": "_95-LMbHiAsx",
    "outputId": "b0bc28ba-5c18-4d96-80d4-367240c14f63",
    "papermill": {
     "duration": 1.416581,
     "end_time": "2023-01-08T04:45:35.650113",
     "exception": false,
     "start_time": "2023-01-08T04:45:34.233532",
     "status": "completed"
    },
    "tags": []
   },
   "outputs": [
    {
     "data": {
      "text/plain": [
       "<AxesSubplot:xlabel='Weekly_Sales', ylabel='Holiday_Flag'>"
      ]
     },
     "execution_count": 11,
     "metadata": {},
     "output_type": "execute_result"
    },
    {
     "data": {
      "image/png": "[encoded data removed]",
      "text/plain": [
       "<Figure size 1800x1800 with 6 Axes>"
      ]
     },
     "metadata": {
      "needs_background": "light"
     },
     "output_type": "display_data"
    }
   ],
   "source": [
    "fig, axes = plt.subplots(figsize=(25,25),nrows=3, ncols=2)\n",
    "\n",
    "rev=wmart.groupby(['month'])['Weekly_Sales'].sum().sort_values(ascending=False)\n",
    "rev.plot(ax=axes[0,0],\n",
    "           kind = 'bar',\n",
    "           color='cyan',\n",
    "         title = \"sales during various months\",\n",
    "           sort_columns=False,\n",
    "           xlabel = \"Month\",\n",
    "           ylabel = \"Sales\"\n",
    "           );\n",
    "\n",
    "rev=wmart.groupby(['Store'])['Weekly_Sales'].sum().sort_values(ascending=False)\n",
    "rev.plot(ax=axes[0,1],\n",
    "           kind = 'bar',\n",
    "           color='orange',\n",
    "           title = \"sales by store ids\",\n",
    "           sort_columns=False,\n",
    "           xlabel = \"Store Id\",\n",
    "           ylabel = \"Sales\"\n",
    "           );\n",
    "\n",
    "rev=wmart.groupby(['Weather'])['Weekly_Sales'].sum().sort_values(ascending=False)\n",
    "rev.plot(ax=axes[1,0],\n",
    "           kind = 'bar',\n",
    "           color='purple',\n",
    "           title = \"sales across weather\",\n",
    "           sort_columns=False,\n",
    "           xlabel = \"Weather\",\n",
    "           ylabel = \"Sales\"\n",
    "           ) ;\n",
    "\n",
    "rev=wmart.groupby(['Unemployment'])['Weekly_Sales'].sum().sort_values(ascending=False)\n",
    "rev.plot(ax=axes[1,1],\n",
    "           kind = 'bar',\n",
    "           color='green',\n",
    "           title = \"sales against unemployment levels\",\n",
    "           sort_columns=False,\n",
    "           xlabel = \"Unemployment Level\",\n",
    "           ylabel = \"Sales\"\n",
    "           ) ;\n",
    "\n",
    "rev=wmart.groupby(['Inflation'])['Weekly_Sales'].sum().sort_values(ascending=False)\n",
    "rev.plot(ax=axes[2,0],\n",
    "           kind = 'bar',\n",
    "           color='green',\n",
    "           title = \"Sales during various inflation levels\",\n",
    "           sort_columns=False,\n",
    "           xlabel = \"Inflation Level\",\n",
    "           ylabel = \"Sales\"\n",
    "           ) ;\n",
    "sns.boxplot(x='Weekly_Sales',y='Holiday_Flag',data=wmart,ax=axes[2,1])"
   ]
  },
  {
   "cell_type": "markdown",
   "id": "61c2d79c",
   "metadata": {
    "id": "F44V4fCFMNlV",
    "papermill": {
     "duration": 0.005931,
     "end_time": "2023-01-08T04:45:35.662275",
     "exception": false,
     "start_time": "2023-01-08T04:45:35.656344",
     "status": "completed"
    },
    "tags": []
   },
   "source": [
    "*   April month has generated the most sales with Jan being the least<br>\n",
    "*   Store number 20 generated the most sales during the period<br>\n",
    "*   Store number 33 generated the least sales during the period<br>\n",
    "*   Most Sales happened in winter<br>\n",
    "*   Least sales happen in Summer<br>\n",
    "*   Sales are least when unemployment is high<br>\n",
    "*   Sales is least when inflation is high<br>\n",
    "*   April month has generated the most sales with Jan being the least<br>\n",
    "*   The minimum sales and maximum sales are higher on holidays\n",
    "\n"
   ]
  },
  {
   "cell_type": "code",
   "execution_count": 12,
   "id": "7375f996",
   "metadata": {
    "execution": {
     "iopub.execute_input": "2023-01-08T04:45:35.675969Z",
     "iopub.status.busy": "2023-01-08T04:45:35.675611Z",
     "iopub.status.idle": "2023-01-08T04:45:35.692160Z",
     "shell.execute_reply": "2023-01-08T04:45:35.691470Z"
    },
    "id": "W2PSbfKd0cUg",
    "outputId": "25daf84d-734f-4839-e749-40c047ebe76b",
    "papermill": {
     "duration": 0.025599,
     "end_time": "2023-01-08T04:45:35.693939",
     "exception": false,
     "start_time": "2023-01-08T04:45:35.668340",
     "status": "completed"
    },
    "tags": []
   },
   "outputs": [
    {
     "data": {
      "text/html": [
       "<div>\n",
       "<style scoped>\n",
       "    .dataframe tbody tr th:only-of-type {\n",
       "        vertical-align: middle;\n",
       "    }\n",
       "\n",
       "    .dataframe tbody tr th {\n",
       "        vertical-align: top;\n",
       "    }\n",
       "\n",
       "    .dataframe thead th {\n",
       "        text-align: right;\n",
       "    }\n",
       "</style>\n",
       "<table border=\"1\" class=\"dataframe\">\n",
       "  <thead>\n",
       "    <tr style=\"text-align: right;\">\n",
       "      <th></th>\n",
       "      <th></th>\n",
       "      <th>Weekly_Sales</th>\n",
       "    </tr>\n",
       "    <tr>\n",
       "      <th>Store</th>\n",
       "      <th>month</th>\n",
       "      <th></th>\n",
       "    </tr>\n",
       "  </thead>\n",
       "  <tbody>\n",
       "    <tr>\n",
       "      <th>20</th>\n",
       "      <th>Apr</th>\n",
       "      <td>28998888.90</td>\n",
       "    </tr>\n",
       "    <tr>\n",
       "      <th>14</th>\n",
       "      <th>Apr</th>\n",
       "      <td>28601074.56</td>\n",
       "    </tr>\n",
       "    <tr>\n",
       "      <th>4</th>\n",
       "      <th>Apr</th>\n",
       "      <td>28448548.78</td>\n",
       "    </tr>\n",
       "    <tr>\n",
       "      <th rowspan=\"2\" valign=\"top\">20</th>\n",
       "      <th>Oct</th>\n",
       "      <td>27456595.38</td>\n",
       "    </tr>\n",
       "    <tr>\n",
       "      <th>Dec</th>\n",
       "      <td>27270096.85</td>\n",
       "    </tr>\n",
       "    <tr>\n",
       "      <th>...</th>\n",
       "      <th>...</th>\n",
       "      <td>...</td>\n",
       "    </tr>\n",
       "    <tr>\n",
       "      <th rowspan=\"2\" valign=\"top\">33</th>\n",
       "      <th>Dec</th>\n",
       "      <td>2885510.43</td>\n",
       "    </tr>\n",
       "    <tr>\n",
       "      <th>Feb</th>\n",
       "      <td>2834422.61</td>\n",
       "    </tr>\n",
       "    <tr>\n",
       "      <th>44</th>\n",
       "      <th>Nov</th>\n",
       "      <td>2754044.78</td>\n",
       "    </tr>\n",
       "    <tr>\n",
       "      <th rowspan=\"2\" valign=\"top\">33</th>\n",
       "      <th>Jan</th>\n",
       "      <td>2441703.93</td>\n",
       "    </tr>\n",
       "    <tr>\n",
       "      <th>Nov</th>\n",
       "      <td>2397699.15</td>\n",
       "    </tr>\n",
       "  </tbody>\n",
       "</table>\n",
       "<p>540 rows × 1 columns</p>\n",
       "</div>"
      ],
      "text/plain": [
       "             Weekly_Sales\n",
       "Store month              \n",
       "20    Apr     28998888.90\n",
       "14    Apr     28601074.56\n",
       "4     Apr     28448548.78\n",
       "20    Oct     27456595.38\n",
       "      Dec     27270096.85\n",
       "...                   ...\n",
       "33    Dec      2885510.43\n",
       "      Feb      2834422.61\n",
       "44    Nov      2754044.78\n",
       "33    Jan      2441703.93\n",
       "      Nov      2397699.15\n",
       "\n",
       "[540 rows x 1 columns]"
      ]
     },
     "execution_count": 12,
     "metadata": {},
     "output_type": "execute_result"
    }
   ],
   "source": [
    "wmart.groupby(['Store','month'])['Weekly_Sales'].sum().sort_values(ascending=False).to_frame()"
   ]
  },
  {
   "cell_type": "markdown",
   "id": "23fc56f1",
   "metadata": {
    "id": "pdWSfMTZ2Oln",
    "papermill": {
     "duration": 0.005961,
     "end_time": "2023-01-08T04:45:35.707285",
     "exception": false,
     "start_time": "2023-01-08T04:45:35.701324",
     "status": "completed"
    },
    "tags": []
   },
   "source": [
    "For many stores the highest sales happened in April"
   ]
  },
  {
   "cell_type": "code",
   "execution_count": 13,
   "id": "59a716c2",
   "metadata": {
    "execution": {
     "iopub.execute_input": "2023-01-08T04:45:35.720934Z",
     "iopub.status.busy": "2023-01-08T04:45:35.720619Z",
     "iopub.status.idle": "2023-01-08T04:45:36.531860Z",
     "shell.execute_reply": "2023-01-08T04:45:36.531100Z"
    },
    "id": "Bo1vwHHN7XoC",
    "outputId": "92798a40-767e-40fa-8195-dbc652ea2f94",
    "papermill": {
     "duration": 0.821342,
     "end_time": "2023-01-08T04:45:36.534501",
     "exception": false,
     "start_time": "2023-01-08T04:45:35.713159",
     "status": "completed"
    },
    "tags": []
   },
   "outputs": [
    {
     "data": {
      "text/plain": [
       "<seaborn.axisgrid.JointGrid at 0x7fd5ba61ec50>"
      ]
     },
     "execution_count": 13,
     "metadata": {},
     "output_type": "execute_result"
    },
    {
     "data": {
      "image/png": "[encoded data removed]",
      "text/plain": [
       "<Figure size 432x432 with 3 Axes>"
      ]
     },
     "metadata": {
      "needs_background": "light"
     },
     "output_type": "display_data"
    }
   ],
   "source": [
    "sns.jointplot(data=wmart,x='Temperature',y='Weekly_Sales',kind='hex')"
   ]
  },
  {
   "cell_type": "markdown",
   "id": "36999158",
   "metadata": {
    "id": "FqJ7_dlQ-Z9A",
    "papermill": {
     "duration": 0.007173,
     "end_time": "2023-01-08T04:45:36.550357",
     "exception": false,
     "start_time": "2023-01-08T04:45:36.543184",
     "status": "completed"
    },
    "tags": []
   },
   "source": [
    "The least Sales happened during high temperatures"
   ]
  },
  {
   "cell_type": "code",
   "execution_count": 14,
   "id": "329abf29",
   "metadata": {
    "execution": {
     "iopub.execute_input": "2023-01-08T04:45:36.567022Z",
     "iopub.status.busy": "2023-01-08T04:45:36.566053Z",
     "iopub.status.idle": "2023-01-08T04:45:37.137925Z",
     "shell.execute_reply": "2023-01-08T04:45:37.137220Z"
    },
    "id": "VpZx5QLuGIBQ",
    "outputId": "8c019e69-5a96-40da-dfbe-c4a5ffb5e94d",
    "papermill": {
     "duration": 0.582267,
     "end_time": "2023-01-08T04:45:37.139936",
     "exception": false,
     "start_time": "2023-01-08T04:45:36.557669",
     "status": "completed"
    },
    "tags": []
   },
   "outputs": [
    {
     "data": {
      "text/plain": [
       "<AxesSubplot:xlabel='Unemployment', ylabel='Weekly_Sales'>"
      ]
     },
     "execution_count": 14,
     "metadata": {},
     "output_type": "execute_result"
    },
    {
     "data": {
      "image/png": "[encoded data removed]",
      "text/plain": [
       "<Figure size 1224x576 with 1 Axes>"
      ]
     },
     "metadata": {},
     "output_type": "display_data"
    }
   ],
   "source": [
    "  sns.set(rc = {'figure.figsize':(17,8)})\n",
    "sns.barplot(x = 'Unemployment',\n",
    "            y = 'Weekly_Sales',\n",
    "            estimator = np.mean ,     # As there are multiple occurrences of Gender, sum up 'Clicked_on_ad'\n",
    "            ci = 95,                 # Estimate default confidence interval using bootstrapping\n",
    "            data = wmart,               # Try np.mean also\n",
    "            #capsize = 1,\n",
    "            hue = 'Inflation'      # Age-cat wise plots\n",
    "            )"
   ]
  },
  {
   "cell_type": "markdown",
   "id": "ffb0a9e7",
   "metadata": {
    "id": "veRQIQaFL78c",
    "papermill": {
     "duration": 0.007039,
     "end_time": "2023-01-08T04:45:37.154707",
     "exception": false,
     "start_time": "2023-01-08T04:45:37.147668",
     "status": "completed"
    },
    "tags": []
   },
   "source": [
    "Sales would be highest when both unemployment and inflation are low<br>\n",
    "Sales woould be least when both unemployment and inflation are high<br>The best sales are achieved when both unemployment and inflation are nominal"
   ]
  }
 ],
 "metadata": {
  "kernelspec": {
   "display_name": "Python 3",
   "language": "python",
   "name": "python3"
  },
  "language_info": {
   "codemirror_mode": {
    "name": "ipython",
    "version": 3
   },
   "file_extension": ".py",
   "mimetype": "text/x-python",
   "name": "python",
   "nbconvert_exporter": "python",
   "pygments_lexer": "ipython3",
   "version": "3.7.12"
  },
  "papermill": {
   "default_parameters": {},
   "duration": 14.227308,
   "end_time": "2023-01-08T04:45:37.884111",
   "environment_variables": {},
   "exception": null,
   "input_path": "__notebook__.ipynb",
   "output_path": "__notebook__.ipynb",
   "parameters": {},
   "start_time": "2023-01-08T04:45:23.656803",
   "version": "2.3.4"
  }
 },
 "nbformat": 4,
 "nbformat_minor": 5
}
